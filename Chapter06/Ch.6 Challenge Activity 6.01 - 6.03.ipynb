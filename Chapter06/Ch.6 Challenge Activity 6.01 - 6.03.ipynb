{
 "cells": [
  {
   "cell_type": "markdown",
   "id": "69bfb49e",
   "metadata": {},
   "source": [
    "# 6.01 Finding Important Variables for Predicting Responses to a Marketing Offer:\n",
    "\n",
    "You have been given data regarding a company's marketing campaign, wherein discounts were offered for various products. You are interested in building a model that predicts the number of responses to an offer. It should also provide information about how much of a discount the offer included, how many customers the offer reached, and the value representing the offer quality that the marketing team assigned to that offer. \n",
    "\n",
    "You want to build a model that is accurate but does not contain unnecessary variables. \n",
    "\n",
    "Use RMSE to evalulate how the model performs when all variables are included and compare this to what happens when each variable is dropped from the model. "
   ]
  },
  {
   "cell_type": "code",
   "execution_count": 16,
   "id": "a79dd026",
   "metadata": {},
   "outputs": [
    {
     "data": {
      "text/html": [
       "<div>\n",
       "<style scoped>\n",
       "    .dataframe tbody tr th:only-of-type {\n",
       "        vertical-align: middle;\n",
       "    }\n",
       "\n",
       "    .dataframe tbody tr th {\n",
       "        vertical-align: top;\n",
       "    }\n",
       "\n",
       "    .dataframe thead th {\n",
       "        text-align: right;\n",
       "    }\n",
       "</style>\n",
       "<table border=\"1\" class=\"dataframe\">\n",
       "  <thead>\n",
       "    <tr style=\"text-align: right;\">\n",
       "      <th></th>\n",
       "      <th>responses</th>\n",
       "      <th>offer_discount</th>\n",
       "      <th>offer_quality</th>\n",
       "      <th>offer_reach</th>\n",
       "    </tr>\n",
       "  </thead>\n",
       "  <tbody>\n",
       "    <tr>\n",
       "      <th>0</th>\n",
       "      <td>4151.0</td>\n",
       "      <td>26.0</td>\n",
       "      <td>10.257680</td>\n",
       "      <td>31344.0</td>\n",
       "    </tr>\n",
       "    <tr>\n",
       "      <th>1</th>\n",
       "      <td>3397.0</td>\n",
       "      <td>35.0</td>\n",
       "      <td>15.194380</td>\n",
       "      <td>24016.0</td>\n",
       "    </tr>\n",
       "    <tr>\n",
       "      <th>2</th>\n",
       "      <td>3274.0</td>\n",
       "      <td>21.0</td>\n",
       "      <td>13.971468</td>\n",
       "      <td>28832.0</td>\n",
       "    </tr>\n",
       "    <tr>\n",
       "      <th>3</th>\n",
       "      <td>3426.0</td>\n",
       "      <td>27.0</td>\n",
       "      <td>6.054338</td>\n",
       "      <td>26747.0</td>\n",
       "    </tr>\n",
       "    <tr>\n",
       "      <th>4</th>\n",
       "      <td>5745.0</td>\n",
       "      <td>42.0</td>\n",
       "      <td>16.801365</td>\n",
       "      <td>46968.0</td>\n",
       "    </tr>\n",
       "  </tbody>\n",
       "</table>\n",
       "</div>"
      ],
      "text/plain": [
       "   responses  offer_discount  offer_quality  offer_reach\n",
       "0     4151.0            26.0      10.257680      31344.0\n",
       "1     3397.0            35.0      15.194380      24016.0\n",
       "2     3274.0            21.0      13.971468      28832.0\n",
       "3     3426.0            27.0       6.054338      26747.0\n",
       "4     5745.0            42.0      16.801365      46968.0"
      ]
     },
     "execution_count": 16,
     "metadata": {},
     "output_type": "execute_result"
    }
   ],
   "source": [
    "import pandas as pd\n",
    "\n",
    "offer = pd.read_csv('Activity6.01/offer_responses.csv')\n",
    "\n",
    "offer.head()"
   ]
  },
  {
   "cell_type": "markdown",
   "id": "24bdbf4a",
   "metadata": {},
   "source": [
    "Import train_test_split from Sklearn and use it to split the data into training and test sets.\n",
    "\n",
    "Use responses as y variable and all others as x predictor variable."
   ]
  },
  {
   "cell_type": "code",
   "execution_count": 17,
   "id": "c17a778e",
   "metadata": {},
   "outputs": [],
   "source": [
    "from sklearn.model_selection import train_test_split\n",
    "\n",
    "X = offer[['offer_discount', \n",
    "          'offer_quality',\n",
    "          'offer_reach']]\n",
    "\n",
    "y = offer['responses']\n",
    "\n",
    "\n",
    "X_train, X_test, y_train,  y_test = train_test_split(X, y, random_state=10)"
   ]
  },
  {
   "cell_type": "markdown",
   "id": "d661cb99",
   "metadata": {},
   "source": [
    "Import Linear Regression and Mean_squared_error from sklearn.\n",
    "Fit the model to the training data and print out the RMSE.\n"
   ]
  },
  {
   "cell_type": "code",
   "execution_count": 18,
   "id": "ff3a21c1",
   "metadata": {},
   "outputs": [
    {
     "name": "stdout",
     "output_type": "stream",
     "text": [
      "RMSE: 966.2461828577913\n"
     ]
    }
   ],
   "source": [
    "from sklearn.linear_model import LinearRegression\n",
    "\n",
    "Lin_model = LinearRegression()\n",
    "\n",
    "Lin_model.fit(X_train, y_train)\n",
    "\n",
    "Lin_prediction = Lin_model.predict(X_test)\n",
    "\n",
    "\n",
    "from sklearn.metrics import mean_squared_error\n",
    "\n",
    "print('RMSE: ' + str(mean_squared_error(Lin_prediction, y_test)**.5) )"
   ]
  },
  {
   "cell_type": "markdown",
   "id": "21239a7d",
   "metadata": {},
   "source": [
    "Drop offering_quality from the training data and run RMSE. "
   ]
  },
  {
   "cell_type": "code",
   "execution_count": 19,
   "id": "94f8f11f",
   "metadata": {},
   "outputs": [],
   "source": [
    "X1 = offer[['offer_discount',\n",
    "           'offer_reach']]\n",
    "\n",
    "X_train1, X_test1, y_train1, y_test1 = train_test_split(X1, y, random_state =10)"
   ]
  },
  {
   "cell_type": "code",
   "execution_count": 20,
   "id": "efb518a9",
   "metadata": {},
   "outputs": [
    {
     "name": "stdout",
     "output_type": "stream",
     "text": [
      "RMSE: 965.5346123758474\n"
     ]
    }
   ],
   "source": [
    "Lin_model1 = LinearRegression()\n",
    "\n",
    "Lin_model1.fit(X_train1, y_train1)\n",
    "\n",
    "Lin_prediction1 = Lin_model1.predict(X_test1)\n",
    "\n",
    "print('RMSE: '+str(mean_squared_error(Lin_prediction1, y_test1)**.5))"
   ]
  },
  {
   "cell_type": "markdown",
   "id": "75c50156",
   "metadata": {},
   "source": [
    "Drop offer_discount instead of offer_quality and run RMSE."
   ]
  },
  {
   "cell_type": "code",
   "execution_count": 21,
   "id": "537ea3cb",
   "metadata": {},
   "outputs": [],
   "source": [
    "X2 = offer[['offer_quality',\n",
    "           'offer_reach']]\n",
    "\n",
    "X_train2, X_test2, y_train2, y_test2 = train_test_split(X2, y, random_state =10)"
   ]
  },
  {
   "cell_type": "code",
   "execution_count": 22,
   "id": "ff5e3b12",
   "metadata": {},
   "outputs": [
    {
     "name": "stdout",
     "output_type": "stream",
     "text": [
      "RMSE: 1231.6766556327284\n"
     ]
    }
   ],
   "source": [
    "Lin_model2 = LinearRegression()\n",
    "\n",
    "Lin_model2.fit(X_train2, y_train2)\n",
    "\n",
    "Lin_prediction2 = Lin_model2.predict(X_test2)\n",
    "\n",
    "print('RMSE: '+str(mean_squared_error(Lin_prediction2, y_test2)**.5))"
   ]
  },
  {
   "cell_type": "markdown",
   "id": "3fa34623",
   "metadata": {},
   "source": [
    "Drop offer_reach and run RMSE"
   ]
  },
  {
   "cell_type": "code",
   "execution_count": 23,
   "id": "aab3ee88",
   "metadata": {},
   "outputs": [],
   "source": [
    "X3 = offer[['offer_quality',\n",
    "           'offer_discount']]\n",
    "\n",
    "X_train3, X_test3, y_train3, y_test3 = train_test_split(X3, y, random_state =10)"
   ]
  },
  {
   "cell_type": "code",
   "execution_count": 24,
   "id": "f5da6a0d",
   "metadata": {},
   "outputs": [
    {
     "name": "stdout",
     "output_type": "stream",
     "text": [
      "RMSE: 1185.8456831644116\n"
     ]
    }
   ],
   "source": [
    "Lin_model3 = LinearRegression()\n",
    "\n",
    "Lin_model3.fit(X_train3, y_train3)\n",
    "\n",
    "Lin_prediction3 = Lin_model3.predict(X_test3)\n",
    "\n",
    "print('RMSE: '+str(mean_squared_error(Lin_prediction3, y_test3)**.5))"
   ]
  },
  {
   "cell_type": "markdown",
   "id": "1547a16b",
   "metadata": {},
   "source": [
    "RMSE Summary: \n",
    "\n",
    "- All variables: RMSE: 966.2461828577913\n",
    "- Without offer_quality: RMSE: 965.5346123758474\n",
    "- Without offer_discount: RMSE: 1231.6766556327284\n",
    "- Without offer_reach: RMSE: 1185.8456831644116\n",
    "\n",
    "The Change in RMSE value is directly related to the to the importance of the feature being removed. \n",
    "If RMSE goes down, the predictions of the model were more accurate. and feature can be removed. \n",
    "If RMSE goes up, the predictions were less accurate and feature belongs in the model. \n",
    "\n",
    "Without offer_quality the RMSE went down so this feature could be removed and simplify the model. "
   ]
  },
  {
   "cell_type": "markdown",
   "id": "df0f97ca",
   "metadata": {},
   "source": [
    "### End Challenge Activity 6.01"
   ]
  },
  {
   "cell_type": "markdown",
   "id": "d2c3f1b0",
   "metadata": {},
   "source": [
    "# Challenge Activity 6.02: Using RFE To Choose Features For Predicting Customer Spend\n",
    "\n",
    "You are given the following information (features) of various customers:\n",
    "- prev_year_spend\n",
    "- days_since_last_purchase\n",
    "- days_since_first_purchase\n",
    "- total_transactions\n",
    "- age\n",
    "- income\n",
    "- engagement_score\n",
    "\n",
    "You are tasked to investigate the relationship is to customer spend in the current year. Create a simple linear model to describe the relationships."
   ]
  },
  {
   "cell_type": "code",
   "execution_count": 68,
   "id": "70a29cc6",
   "metadata": {},
   "outputs": [
    {
     "data": {
      "text/html": [
       "<div>\n",
       "<style scoped>\n",
       "    .dataframe tbody tr th:only-of-type {\n",
       "        vertical-align: middle;\n",
       "    }\n",
       "\n",
       "    .dataframe tbody tr th {\n",
       "        vertical-align: top;\n",
       "    }\n",
       "\n",
       "    .dataframe thead th {\n",
       "        text-align: right;\n",
       "    }\n",
       "</style>\n",
       "<table border=\"1\" class=\"dataframe\">\n",
       "  <thead>\n",
       "    <tr style=\"text-align: right;\">\n",
       "      <th></th>\n",
       "      <th>cur_year_spend</th>\n",
       "      <th>prev_year_spend</th>\n",
       "      <th>days_since_last_purchase</th>\n",
       "      <th>days_since_first_purchase</th>\n",
       "      <th>total_transactions</th>\n",
       "      <th>age</th>\n",
       "      <th>income</th>\n",
       "      <th>engagement_score</th>\n",
       "    </tr>\n",
       "  </thead>\n",
       "  <tbody>\n",
       "    <tr>\n",
       "      <th>0</th>\n",
       "      <td>5536.46</td>\n",
       "      <td>1681.26</td>\n",
       "      <td>7</td>\n",
       "      <td>61</td>\n",
       "      <td>34</td>\n",
       "      <td>61</td>\n",
       "      <td>97914.93</td>\n",
       "      <td>-0.652392</td>\n",
       "    </tr>\n",
       "    <tr>\n",
       "      <th>1</th>\n",
       "      <td>871.41</td>\n",
       "      <td>1366.74</td>\n",
       "      <td>12</td>\n",
       "      <td>34</td>\n",
       "      <td>33</td>\n",
       "      <td>68</td>\n",
       "      <td>30904.69</td>\n",
       "      <td>0.007327</td>\n",
       "    </tr>\n",
       "    <tr>\n",
       "      <th>2</th>\n",
       "      <td>2046.74</td>\n",
       "      <td>1419.38</td>\n",
       "      <td>10</td>\n",
       "      <td>81</td>\n",
       "      <td>22</td>\n",
       "      <td>54</td>\n",
       "      <td>48194.59</td>\n",
       "      <td>0.221666</td>\n",
       "    </tr>\n",
       "    <tr>\n",
       "      <th>3</th>\n",
       "      <td>4662.70</td>\n",
       "      <td>1561.21</td>\n",
       "      <td>12</td>\n",
       "      <td>32</td>\n",
       "      <td>34</td>\n",
       "      <td>49</td>\n",
       "      <td>93551.98</td>\n",
       "      <td>1.149641</td>\n",
       "    </tr>\n",
       "    <tr>\n",
       "      <th>4</th>\n",
       "      <td>3539.46</td>\n",
       "      <td>1397.60</td>\n",
       "      <td>17</td>\n",
       "      <td>72</td>\n",
       "      <td>34</td>\n",
       "      <td>66</td>\n",
       "      <td>66267.57</td>\n",
       "      <td>0.835834</td>\n",
       "    </tr>\n",
       "  </tbody>\n",
       "</table>\n",
       "</div>"
      ],
      "text/plain": [
       "   cur_year_spend  prev_year_spend  days_since_last_purchase  \\\n",
       "0         5536.46          1681.26                         7   \n",
       "1          871.41          1366.74                        12   \n",
       "2         2046.74          1419.38                        10   \n",
       "3         4662.70          1561.21                        12   \n",
       "4         3539.46          1397.60                        17   \n",
       "\n",
       "   days_since_first_purchase  total_transactions  age    income  \\\n",
       "0                         61                  34   61  97914.93   \n",
       "1                         34                  33   68  30904.69   \n",
       "2                         81                  22   54  48194.59   \n",
       "3                         32                  34   49  93551.98   \n",
       "4                         72                  34   66  66267.57   \n",
       "\n",
       "   engagement_score  \n",
       "0         -0.652392  \n",
       "1          0.007327  \n",
       "2          0.221666  \n",
       "3          1.149641  \n",
       "4          0.835834  "
      ]
     },
     "execution_count": 68,
     "metadata": {},
     "output_type": "execute_result"
    }
   ],
   "source": [
    "Cspend = pd.read_csv('Activity6.02/customer_spend.csv')\n",
    "\n",
    "Cspend.head()"
   ]
  },
  {
   "cell_type": "markdown",
   "id": "b449aeb6",
   "metadata": {},
   "source": [
    "Use train_test_split with random_sate=100, cur_year_spend as y variable. "
   ]
  },
  {
   "cell_type": "code",
   "execution_count": 69,
   "id": "547f93b6",
   "metadata": {},
   "outputs": [],
   "source": [
    "Xcs = Cspend[['prev_year_spend',\n",
    "             'days_since_last_purchase',\n",
    "             'days_since_first_purchase',\n",
    "             'total_transactions',\n",
    "             'age',\n",
    "             'income',\n",
    "             'engagement_score']]\n",
    "\n",
    "ycs =Cspend['cur_year_spend']\n",
    "\n",
    "X_traincs , X_testcs, y_traincs, y_testcs = train_test_split(Xcs, ycs, random_state=100)"
   ]
  },
  {
   "cell_type": "code",
   "execution_count": 70,
   "id": "759289dd",
   "metadata": {},
   "outputs": [
    {
     "name": "stdout",
     "output_type": "stream",
     "text": [
      "RMSE: 50.45039920074803\n"
     ]
    }
   ],
   "source": [
    "modelc = LinearRegression()\n",
    "modelc.fit(X_traincs, y_traincs)\n",
    "\n",
    "modelc_predict = modelc.predict(X_testcs)\n",
    "\n",
    "print('RMSE: '+str(mean_squared_error(modelc_predict, y_testcs)**.5))"
   ]
  },
  {
   "cell_type": "code",
   "execution_count": 71,
   "id": "8ddc92d3",
   "metadata": {},
   "outputs": [
    {
     "data": {
      "text/plain": [
       "array([ 0.85320131, -0.3119968 , 15.55680368, 49.05766265, -0.0852239 ,\n",
       "        0.05969942,  1.06228814])"
      ]
     },
     "execution_count": 71,
     "metadata": {},
     "output_type": "execute_result"
    }
   ],
   "source": [
    "modelc.coef_"
   ]
  },
  {
   "cell_type": "markdown",
   "id": "17ab8e94",
   "metadata": {},
   "source": [
    "Model is using all variables from non-zero values. We must simplify the model. "
   ]
  },
  {
   "cell_type": "markdown",
   "id": "451432d8",
   "metadata": {},
   "source": [
    "Use RFE to obtain the 3 most important features and create new training and test datasets using only the selected columns.\n"
   ]
  },
  {
   "cell_type": "code",
   "execution_count": 72,
   "id": "976ed7a7",
   "metadata": {},
   "outputs": [
    {
     "name": "stdout",
     "output_type": "stream",
     "text": [
      "Feature: days_since_first_purchase, Rank: 1\n",
      "Feature: total_transactions, Rank: 1\n",
      "Feature: engagement_score, Rank: 1\n"
     ]
    }
   ],
   "source": [
    "from sklearn.feature_selection import RFE\n",
    "\n",
    "rfe = RFE(estimator=LinearRegression(),n_features_to_select=3)\n",
    "\n",
    "rfe.fit(X_traincs, y_traincs)\n",
    "\n",
    "for featureselect in range(X_traincs.shape[1]):\n",
    "    if rfe.support_[featureselect] == True:\n",
    "    \n",
    "        print('Feature: {}, Rank: {}'.format(X_traincs.columns[featureselect],\n",
    "                                        rfe.ranking_[featureselect]))"
   ]
  },
  {
   "cell_type": "markdown",
   "id": "1b804c5a",
   "metadata": {},
   "source": [
    "Rank score of 1 means that the rfe believes these features are equally important."
   ]
  },
  {
   "cell_type": "code",
   "execution_count": 73,
   "id": "7477a638",
   "metadata": {},
   "outputs": [],
   "source": [
    "Xcs_rfe = Cspend[['days_since_first_purchase',\n",
    "                 'total_transactions',\n",
    "                 'engagement_score']]\n",
    "\n",
    "X_trainrfe, X_testrfe, y_trainrfe, y_testrfe = train_test_split(Xcs_rfe, ycs, random_state=100)"
   ]
  },
  {
   "cell_type": "markdown",
   "id": "cbc358b6",
   "metadata": {},
   "source": [
    "Train a linear regression model with the simplified data. Calculate RSME. \n"
   ]
  },
  {
   "cell_type": "code",
   "execution_count": 74,
   "id": "82867517",
   "metadata": {},
   "outputs": [
    {
     "data": {
      "text/plain": [
       "LinearRegression()"
      ]
     },
     "execution_count": 74,
     "metadata": {},
     "output_type": "execute_result"
    }
   ],
   "source": [
    "modelcs = LinearRegression()\n",
    "modelcs.fit(X_trainrfe, y_trainrfe)"
   ]
  },
  {
   "cell_type": "code",
   "execution_count": 75,
   "id": "ffeccfbb",
   "metadata": {},
   "outputs": [
    {
     "name": "stdout",
     "output_type": "stream",
     "text": [
      "RMSE: 1075.9083016269915\n"
     ]
    }
   ],
   "source": [
    "modelcs_predict = modelcs.predict(X_testrfe)\n",
    "\n",
    "print('RMSE: '+str(mean_squared_error(modelcs_predict, y_testrfe)**.5))"
   ]
  },
  {
   "cell_type": "markdown",
   "id": "ccccfce4",
   "metadata": {},
   "source": [
    "### End Challenge Activity 6.02\n"
   ]
  },
  {
   "cell_type": "markdown",
   "id": "75ccbd23",
   "metadata": {},
   "source": [
    "# Challenge Activity 6.03: Building the Best Regression Model for Customer Spend Based on Demographic Data\n",
    "\n",
    "You are given customer spend and demographic data. Build a predictive model that can predict customer spend based on the demographic data. "
   ]
  },
  {
   "cell_type": "code",
   "execution_count": 91,
   "id": "31b94518",
   "metadata": {},
   "outputs": [
    {
     "data": {
      "text/html": [
       "<div>\n",
       "<style scoped>\n",
       "    .dataframe tbody tr th:only-of-type {\n",
       "        vertical-align: middle;\n",
       "    }\n",
       "\n",
       "    .dataframe tbody tr th {\n",
       "        vertical-align: top;\n",
       "    }\n",
       "\n",
       "    .dataframe thead th {\n",
       "        text-align: right;\n",
       "    }\n",
       "</style>\n",
       "<table border=\"1\" class=\"dataframe\">\n",
       "  <thead>\n",
       "    <tr style=\"text-align: right;\">\n",
       "      <th></th>\n",
       "      <th>spend</th>\n",
       "      <th>age</th>\n",
       "      <th>income</th>\n",
       "      <th>years_of_education</th>\n",
       "    </tr>\n",
       "  </thead>\n",
       "  <tbody>\n",
       "    <tr>\n",
       "      <th>0</th>\n",
       "      <td>3304.0</td>\n",
       "      <td>36.0</td>\n",
       "      <td>45125.0</td>\n",
       "      <td>12</td>\n",
       "    </tr>\n",
       "    <tr>\n",
       "      <th>1</th>\n",
       "      <td>3709.0</td>\n",
       "      <td>43.0</td>\n",
       "      <td>41695.0</td>\n",
       "      <td>10</td>\n",
       "    </tr>\n",
       "    <tr>\n",
       "      <th>2</th>\n",
       "      <td>3305.0</td>\n",
       "      <td>47.0</td>\n",
       "      <td>39253.0</td>\n",
       "      <td>17</td>\n",
       "    </tr>\n",
       "    <tr>\n",
       "      <th>3</th>\n",
       "      <td>2170.0</td>\n",
       "      <td>33.0</td>\n",
       "      <td>32384.0</td>\n",
       "      <td>13</td>\n",
       "    </tr>\n",
       "    <tr>\n",
       "      <th>4</th>\n",
       "      <td>2113.0</td>\n",
       "      <td>30.0</td>\n",
       "      <td>33182.0</td>\n",
       "      <td>10</td>\n",
       "    </tr>\n",
       "  </tbody>\n",
       "</table>\n",
       "</div>"
      ],
      "text/plain": [
       "    spend   age   income  years_of_education\n",
       "0  3304.0  36.0  45125.0                  12\n",
       "1  3709.0  43.0  41695.0                  10\n",
       "2  3305.0  47.0  39253.0                  17\n",
       "3  2170.0  33.0  32384.0                  13\n",
       "4  2113.0  30.0  33182.0                  10"
      ]
     },
     "execution_count": 91,
     "metadata": {},
     "output_type": "execute_result"
    }
   ],
   "source": [
    "BRM = pd.read_csv('Activity6.03/spend_age_income_ed.csv')\n",
    "\n",
    "BRM.head()"
   ]
  },
  {
   "cell_type": "markdown",
   "id": "3cba0ee9",
   "metadata": {},
   "source": [
    "Perform a train_test_split with random_state=10.\n"
   ]
  },
  {
   "cell_type": "code",
   "execution_count": 93,
   "id": "1a8191e3",
   "metadata": {},
   "outputs": [],
   "source": [
    "\n",
    "Xbrm = BRM[['age',\n",
    "           'income',\n",
    "           'years_of_education']]\n",
    "\n",
    "ybrm = BRM['spend']\n",
    "\n",
    "X_trainbrm, X_testbrm, y_trainbrm, y_testbrm = train_test_split(Xbrm, ybrm, random_state=10)\n",
    "\n"
   ]
  },
  {
   "cell_type": "markdown",
   "id": "39c0469d",
   "metadata": {},
   "source": [
    "Fit a linear Regression model to the training data. Print RMSE."
   ]
  },
  {
   "cell_type": "code",
   "execution_count": 95,
   "id": "5463a8c2",
   "metadata": {},
   "outputs": [
    {
     "name": "stdout",
     "output_type": "stream",
     "text": [
      "RMSE: 348.19771532747865\n"
     ]
    }
   ],
   "source": [
    "model_brm = LinearRegression()\n",
    "\n",
    "model_brm.fit(X_trainbrm, y_trainbrm)\n",
    "\n",
    "model_brm_prediction = model_brm.predict(X_testbrm)\n",
    "\n",
    "print('RMSE: '+str(mean_squared_error(model_brm_prediction, y_testbrm)**.5))"
   ]
  },
  {
   "cell_type": "markdown",
   "id": "16702e76",
   "metadata": {},
   "source": [
    "Fit regression tree models to the data, with the max_depth = 2 & 5. Calculate RMSE"
   ]
  },
  {
   "cell_type": "code",
   "execution_count": 97,
   "id": "6a8037e1",
   "metadata": {},
   "outputs": [
    {
     "name": "stdout",
     "output_type": "stream",
     "text": [
      "RMSE: 268.51069264082935\n",
      "RMSE: 125.53257106419696\n"
     ]
    }
   ],
   "source": [
    "from sklearn.tree import DecisionTreeRegressor\n",
    "\n",
    "tree_model_2 = DecisionTreeRegressor(max_depth = 2)\n",
    "tree_model_2.fit(X_trainbrm, y_trainbrm)\n",
    "\n",
    "tree_model_2_prediction = tree_model_2.predict(X_testbrm)\n",
    "print('RMSE: '\n",
    "    + str(mean_squared_error(tree_model_2_prediction, y_testbrm)**.5))\n",
    "\n",
    "tree_model_5 = DecisionTreeRegressor(max_depth=5)\n",
    "tree_model_5.fit(X_trainbrm, y_trainbrm)\n",
    "\n",
    "tree_model_5_prediction = tree_model_5.predict(X_testbrm)\n",
    "print('RMSE: '\n",
    "    + str(mean_squared_error(tree_model_5_prediction, y_testbrm)**.5))\n"
   ]
  },
  {
   "cell_type": "markdown",
   "id": "6aad98e1",
   "metadata": {},
   "source": [
    "Fit Random Forest models to the data, with the max_depth = 2 & 5. Calculate RMSE"
   ]
  },
  {
   "cell_type": "code",
   "execution_count": 100,
   "id": "915a67ac",
   "metadata": {},
   "outputs": [
    {
     "name": "stdout",
     "output_type": "stream",
     "text": [
      "RMSE:266.45844988320863\n",
      "RMSE:115.2014058797442\n"
     ]
    }
   ],
   "source": [
    "from sklearn.ensemble import RandomForestRegressor\n",
    "\n",
    "Forest_model2 = RandomForestRegressor(max_depth = 2, random_state=10)\n",
    "Forest_model2.fit(X_trainbrm, y_trainbrm)\n",
    "\n",
    "Forest_model2_prediction = Forest_model2.predict(X_testbrm)\n",
    "print('RMSE:'+\n",
    "     str(mean_squared_error(Forest_model2_prediction,y_testbrm)**.5))\n",
    "\n",
    "\n",
    "\n",
    "Forest_model5 = RandomForestRegressor(max_depth = 5, random_state=10)\n",
    "Forest_model5.fit(X_trainbrm, y_trainbrm)\n",
    "\n",
    "Forest_model5_prediction = Forest_model5.predict(X_testbrm)\n",
    "print('RMSE:'+\n",
    "     str(mean_squared_error(Forest_model5_prediction,y_testbrm)**.5))"
   ]
  },
  {
   "cell_type": "markdown",
   "id": "dcea8e1c",
   "metadata": {},
   "source": [
    "Summary of RMSE by Regression Model:\n",
    "\n",
    "- Linear Regression: RMSE: 348.19771532747865\n",
    "- Decision Tree MD 2: RMSE: 268.51069264082935\n",
    "- Decision Tree MD 5: RMSE: 125.53257106419696\n",
    "- Random Forest MD 2: RMSE: 268.51069264082935\n",
    "- Random Forest MD 5: RMSE: 125.53257106419696\n",
    "\n",
    "The Random Forest with the max_depth of 5 performs the best out of all the models. "
   ]
  },
  {
   "cell_type": "markdown",
   "id": "8b71e0f1",
   "metadata": {},
   "source": [
    "### End of Activity 6.03 "
   ]
  },
  {
   "cell_type": "code",
   "execution_count": null,
   "id": "341c88b7",
   "metadata": {},
   "outputs": [],
   "source": []
  }
 ],
 "metadata": {
  "kernelspec": {
   "display_name": "Python 3 (ipykernel)",
   "language": "python",
   "name": "python3"
  },
  "language_info": {
   "codemirror_mode": {
    "name": "ipython",
    "version": 3
   },
   "file_extension": ".py",
   "mimetype": "text/x-python",
   "name": "python",
   "nbconvert_exporter": "python",
   "pygments_lexer": "ipython3",
   "version": "3.9.7"
  }
 },
 "nbformat": 4,
 "nbformat_minor": 5
}
