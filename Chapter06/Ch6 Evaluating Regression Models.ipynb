{
 "cells": [
  {
   "cell_type": "code",
   "execution_count": 2,
   "id": "e1f94e79",
   "metadata": {},
   "outputs": [
    {
     "data": {
      "text/plain": [
       "'Importing Mean Absolute Error\\n\\nfrom sklearn.metrics import mean_absolute_error\\n\\nMAE = mean_absolute_error(predictions, ground_truth)'"
      ]
     },
     "execution_count": 2,
     "metadata": {},
     "output_type": "execute_result"
    }
   ],
   "source": [
    "\"\"\"Importing Mean Absolute Error\n",
    "\n",
    "from sklearn.metrics import mean_absolute_error\n",
    "\n",
    "MAE = mean_absolute_error(predictions, ground_truth)\"\"\""
   ]
  },
  {
   "cell_type": "code",
   "execution_count": 3,
   "id": "0b381c83",
   "metadata": {},
   "outputs": [
    {
     "data": {
      "text/plain": [
       "'Root Mean Squared Error\\n\\nfrom sklearn.metrics import mean_squared_error\\n\\nRMSE = mean_squared_error(predictions, ground_truth)'"
      ]
     },
     "execution_count": 3,
     "metadata": {},
     "output_type": "execute_result"
    }
   ],
   "source": [
    "\"\"\"Root Mean Squared Error\n",
    "\n",
    "from sklearn.metrics import mean_squared_error\n",
    "\n",
    "RMSE = mean_squared_error(predictions, ground_truth)\"\"\""
   ]
  },
  {
   "cell_type": "code",
   "execution_count": 4,
   "id": "1791e8db",
   "metadata": {},
   "outputs": [
    {
     "data": {
      "text/html": [
       "<div>\n",
       "<style scoped>\n",
       "    .dataframe tbody tr th:only-of-type {\n",
       "        vertical-align: middle;\n",
       "    }\n",
       "\n",
       "    .dataframe tbody tr th {\n",
       "        vertical-align: top;\n",
       "    }\n",
       "\n",
       "    .dataframe thead th {\n",
       "        text-align: right;\n",
       "    }\n",
       "</style>\n",
       "<table border=\"1\" class=\"dataframe\">\n",
       "  <thead>\n",
       "    <tr style=\"text-align: right;\">\n",
       "      <th></th>\n",
       "      <th>revenue</th>\n",
       "      <th>num_competitors</th>\n",
       "      <th>median_income</th>\n",
       "      <th>num_loyalty_members</th>\n",
       "      <th>population_density</th>\n",
       "      <th>location_age</th>\n",
       "    </tr>\n",
       "  </thead>\n",
       "  <tbody>\n",
       "    <tr>\n",
       "      <th>0</th>\n",
       "      <td>42247.80</td>\n",
       "      <td>3.0</td>\n",
       "      <td>30527.57</td>\n",
       "      <td>1407.0</td>\n",
       "      <td>3302.0</td>\n",
       "      <td>12.0</td>\n",
       "    </tr>\n",
       "    <tr>\n",
       "      <th>1</th>\n",
       "      <td>38628.37</td>\n",
       "      <td>3.0</td>\n",
       "      <td>30185.49</td>\n",
       "      <td>1025.0</td>\n",
       "      <td>4422.0</td>\n",
       "      <td>11.0</td>\n",
       "    </tr>\n",
       "    <tr>\n",
       "      <th>2</th>\n",
       "      <td>39715.16</td>\n",
       "      <td>1.0</td>\n",
       "      <td>32182.24</td>\n",
       "      <td>1498.0</td>\n",
       "      <td>3260.0</td>\n",
       "      <td>12.0</td>\n",
       "    </tr>\n",
       "    <tr>\n",
       "      <th>3</th>\n",
       "      <td>35593.30</td>\n",
       "      <td>5.0</td>\n",
       "      <td>29728.65</td>\n",
       "      <td>2340.0</td>\n",
       "      <td>4325.0</td>\n",
       "      <td>10.0</td>\n",
       "    </tr>\n",
       "    <tr>\n",
       "      <th>4</th>\n",
       "      <td>35128.18</td>\n",
       "      <td>4.0</td>\n",
       "      <td>30691.17</td>\n",
       "      <td>847.0</td>\n",
       "      <td>3774.0</td>\n",
       "      <td>11.0</td>\n",
       "    </tr>\n",
       "  </tbody>\n",
       "</table>\n",
       "</div>"
      ],
      "text/plain": [
       "    revenue  num_competitors  median_income  num_loyalty_members  \\\n",
       "0  42247.80              3.0       30527.57               1407.0   \n",
       "1  38628.37              3.0       30185.49               1025.0   \n",
       "2  39715.16              1.0       32182.24               1498.0   \n",
       "3  35593.30              5.0       29728.65               2340.0   \n",
       "4  35128.18              4.0       30691.17                847.0   \n",
       "\n",
       "   population_density  location_age  \n",
       "0              3302.0          12.0  \n",
       "1              4422.0          11.0  \n",
       "2              3260.0          12.0  \n",
       "3              4325.0          10.0  \n",
       "4              3774.0          11.0  "
      ]
     },
     "execution_count": 4,
     "metadata": {},
     "output_type": "execute_result"
    }
   ],
   "source": [
    "# Example 6.01 Evaluating Regression Models of Location Revenue using the MAE and RMSE\n",
    "\n",
    "import pandas as pd\n",
    "\n",
    "df = pd.read_csv('Exercise6.01/location_rev.csv')\n",
    "df.head()"
   ]
  },
  {
   "cell_type": "code",
   "execution_count": 5,
   "id": "dc1832d9",
   "metadata": {},
   "outputs": [],
   "source": [
    "#import the train_test_split from sklearn\n",
    "#define the y variable as revenue\n",
    "# X as num_competitors, median_income, num_loyalty_members, population_density, location_age\n",
    "\n",
    "from sklearn.model_selection import train_test_split\n",
    "\n",
    "X = df[['num_competitors',\n",
    "        'median_income',\n",
    "        'num_loyalty_members',\n",
    "        'population_density',\n",
    "        'location_age']]\n",
    "\n",
    "y = df['revenue']"
   ]
  },
  {
   "cell_type": "code",
   "execution_count": 6,
   "id": "8274f377",
   "metadata": {},
   "outputs": [],
   "source": [
    "#Perform a train-test split on the data\n",
    "X_train, X_test, y_train, y_test = train_test_split(X, y, random_state=15)"
   ]
  },
  {
   "cell_type": "code",
   "execution_count": 7,
   "id": "f1aeb010",
   "metadata": {},
   "outputs": [
    {
     "data": {
      "text/plain": [
       "LinearRegression()"
      ]
     },
     "execution_count": 7,
     "metadata": {},
     "output_type": "execute_result"
    }
   ],
   "source": [
    "#import Linear Regression\n",
    "\n",
    "from sklearn.linear_model import LinearRegression\n",
    "\n",
    "model = LinearRegression()\n",
    "\n",
    "model.fit(X_train,y_train)\n"
   ]
  },
  {
   "cell_type": "code",
   "execution_count": 8,
   "id": "e22e5efe",
   "metadata": {},
   "outputs": [],
   "source": [
    "#get the predictiond from the model\n",
    "\n",
    "predictions = model.predict(X_test)"
   ]
  },
  {
   "cell_type": "code",
   "execution_count": 9,
   "id": "cab503a9",
   "metadata": {},
   "outputs": [
    {
     "name": "stdout",
     "output_type": "stream",
     "text": [
      "RMSE: 5133.736391468813\n",
      "MAE: 4161.387875602788\n"
     ]
    }
   ],
   "source": [
    "#Calculate RMSE and MAE\n",
    "\n",
    "from sklearn.metrics import mean_squared_error, mean_absolute_error\n",
    "\n",
    "print('RMSE: ' +\n",
    "     str(mean_squared_error(predictions, y_test)**.5))\n",
    "print('MAE: ' +\n",
    "     str(mean_absolute_error(predictions, y_test)))"
   ]
  },
  {
   "cell_type": "code",
   "execution_count": 10,
   "id": "d2099242",
   "metadata": {},
   "outputs": [],
   "source": [
    "#rebuild the model after dropping nun_competitors\n",
    "# create X_train2, X_test2\n",
    "\n",
    "X_train2 = X_train.drop('num_competitors', axis=1)\n",
    "X_test2 = X_test.drop('num_competitors', axis=1)\n",
    "\n",
    "model.fit(X_train2, y_train)\n",
    "\n",
    "predictions2 = model.predict(X_test2)"
   ]
  },
  {
   "cell_type": "code",
   "execution_count": 11,
   "id": "95be4219",
   "metadata": {},
   "outputs": [
    {
     "name": "stdout",
     "output_type": "stream",
     "text": [
      "RMSE: 5702.03000203704\n",
      "MAE: 4544.416946418697\n"
     ]
    }
   ],
   "source": [
    "#Calculate new RMSE and MAE\n",
    "\n",
    "print('RMSE: ' + \n",
    "     str(mean_squared_error(predictions2, y_test)**.5))\n",
    "print('MAE: ' + \n",
    "     str(mean_absolute_error(predictions2, y_test)))"
   ]
  },
  {
   "cell_type": "code",
   "execution_count": 12,
   "id": "75631197",
   "metadata": {},
   "outputs": [],
   "source": [
    "#the numbers increased when dropping Num_competitors = model became more incorrect.\n",
    "\n",
    "\n"
   ]
  },
  {
   "cell_type": "markdown",
   "id": "8d9db2ca",
   "metadata": {},
   "source": [
    "# End 6.01"
   ]
  },
  {
   "cell_type": "code",
   "execution_count": 13,
   "id": "cef95eee",
   "metadata": {},
   "outputs": [
    {
     "data": {
      "text/plain": [
       "'\\nImport RFE:\\nfrom sklearn.feature_selection import RFE\\n\\nCreate an RFE instance and specify how many features you want to select:\\nrfe = RFE(estimator=LinearRegression(), n_features_to_select=5)\\n\\nFit the RFE model:\\nrfe.fit(X_train, y_train)\\n\\nFind out which columns were selected by RFE and which were not:\\n\\n#For Loop\\nfor featureNum in range(X_train.shape[1]):\\n\\n#if feature was selected\\nif rfe.support_[featureNum] == True:\\nprint(\"Feature: {}, Rank: {}\"\\n.format(X_train.columns[featureNum],\\nrfe.ranking_[featureNum]))\\n\\nFollowing Output:\\nFeature: offer_quality, Rank:1 Feature: offer_discount, Rank 1 Feature: offer_reach Rank: 1\\n\\n'"
      ]
     },
     "execution_count": 13,
     "metadata": {},
     "output_type": "execute_result"
    }
   ],
   "source": [
    "#Example 6.02 Recursive Feature Elimination\n",
    "\n",
    "\"\"\"\n",
    "Import RFE:\n",
    "from sklearn.feature_selection import RFE\n",
    "\n",
    "Create an RFE instance and specify how many features you want to select:\n",
    "rfe = RFE(estimator=LinearRegression(), n_features_to_select=5)\n",
    "\n",
    "Fit the RFE model:\n",
    "rfe.fit(X_train, y_train)\n",
    "\n",
    "Find out which columns were selected by RFE and which were not:\n",
    "\n",
    "#For Loop\n",
    "for featureNum in range(X_train.shape[1]):\n",
    "\n",
    "#if feature was selected\n",
    "if rfe.support_[featureNum] == True:\n",
    "print(\"Feature: {}, Rank: {}\"\n",
    ".format(X_train.columns[featureNum],\n",
    "rfe.ranking_[featureNum]))\n",
    "\n",
    "Following Output:\n",
    "Feature: offer_quality, Rank:1 Feature: offer_discount, Rank 1 Feature: offer_reach Rank: 1\n",
    "\n",
    "\"\"\"\n"
   ]
  },
  {
   "cell_type": "code",
   "execution_count": 14,
   "id": "2abbe5c3",
   "metadata": {},
   "outputs": [
    {
     "data": {
      "text/html": [
       "<div>\n",
       "<style scoped>\n",
       "    .dataframe tbody tr th:only-of-type {\n",
       "        vertical-align: middle;\n",
       "    }\n",
       "\n",
       "    .dataframe tbody tr th {\n",
       "        vertical-align: top;\n",
       "    }\n",
       "\n",
       "    .dataframe thead th {\n",
       "        text-align: right;\n",
       "    }\n",
       "</style>\n",
       "<table border=\"1\" class=\"dataframe\">\n",
       "  <thead>\n",
       "    <tr style=\"text-align: right;\">\n",
       "      <th></th>\n",
       "      <th>revenue</th>\n",
       "      <th>score0</th>\n",
       "      <th>score1</th>\n",
       "      <th>score2</th>\n",
       "      <th>score3</th>\n",
       "      <th>score4</th>\n",
       "      <th>score5</th>\n",
       "      <th>score6</th>\n",
       "      <th>score7</th>\n",
       "      <th>score8</th>\n",
       "      <th>...</th>\n",
       "      <th>score10</th>\n",
       "      <th>score11</th>\n",
       "      <th>score12</th>\n",
       "      <th>score13</th>\n",
       "      <th>score14</th>\n",
       "      <th>score15</th>\n",
       "      <th>score16</th>\n",
       "      <th>score17</th>\n",
       "      <th>score18</th>\n",
       "      <th>score19</th>\n",
       "    </tr>\n",
       "  </thead>\n",
       "  <tbody>\n",
       "    <tr>\n",
       "      <th>0</th>\n",
       "      <td>30698.74</td>\n",
       "      <td>0.067763</td>\n",
       "      <td>1.762772</td>\n",
       "      <td>0.211119</td>\n",
       "      <td>0.619655</td>\n",
       "      <td>-1.586284</td>\n",
       "      <td>0.051320</td>\n",
       "      <td>-0.529940</td>\n",
       "      <td>-0.177908</td>\n",
       "      <td>-0.387431</td>\n",
       "      <td>...</td>\n",
       "      <td>-1.246132</td>\n",
       "      <td>-1.817742</td>\n",
       "      <td>-0.189583</td>\n",
       "      <td>-1.636507</td>\n",
       "      <td>0.088087</td>\n",
       "      <td>0.481573</td>\n",
       "      <td>2.243539</td>\n",
       "      <td>0.330061</td>\n",
       "      <td>-1.019798</td>\n",
       "      <td>-1.409513</td>\n",
       "    </tr>\n",
       "    <tr>\n",
       "      <th>1</th>\n",
       "      <td>46813.75</td>\n",
       "      <td>0.943657</td>\n",
       "      <td>-0.696100</td>\n",
       "      <td>3.503075</td>\n",
       "      <td>1.323145</td>\n",
       "      <td>-0.579567</td>\n",
       "      <td>-1.379598</td>\n",
       "      <td>0.013465</td>\n",
       "      <td>1.061996</td>\n",
       "      <td>-0.952645</td>\n",
       "      <td>...</td>\n",
       "      <td>1.115770</td>\n",
       "      <td>0.455824</td>\n",
       "      <td>0.109667</td>\n",
       "      <td>-0.790210</td>\n",
       "      <td>1.876311</td>\n",
       "      <td>0.610918</td>\n",
       "      <td>0.208647</td>\n",
       "      <td>1.505998</td>\n",
       "      <td>0.671251</td>\n",
       "      <td>0.315013</td>\n",
       "    </tr>\n",
       "    <tr>\n",
       "      <th>2</th>\n",
       "      <td>39493.35</td>\n",
       "      <td>-0.070838</td>\n",
       "      <td>-1.817580</td>\n",
       "      <td>-0.156724</td>\n",
       "      <td>-0.159741</td>\n",
       "      <td>-1.564338</td>\n",
       "      <td>-0.817489</td>\n",
       "      <td>0.125174</td>\n",
       "      <td>-1.053015</td>\n",
       "      <td>0.181246</td>\n",
       "      <td>...</td>\n",
       "      <td>-0.006912</td>\n",
       "      <td>-0.009129</td>\n",
       "      <td>-0.324959</td>\n",
       "      <td>1.040768</td>\n",
       "      <td>0.375134</td>\n",
       "      <td>-0.127496</td>\n",
       "      <td>1.435406</td>\n",
       "      <td>3.267201</td>\n",
       "      <td>-0.010580</td>\n",
       "      <td>-1.725084</td>\n",
       "    </tr>\n",
       "    <tr>\n",
       "      <th>3</th>\n",
       "      <td>48130.55</td>\n",
       "      <td>-0.133306</td>\n",
       "      <td>0.815997</td>\n",
       "      <td>2.261204</td>\n",
       "      <td>0.794839</td>\n",
       "      <td>-0.947440</td>\n",
       "      <td>0.049189</td>\n",
       "      <td>-0.042403</td>\n",
       "      <td>1.657086</td>\n",
       "      <td>-2.870217</td>\n",
       "      <td>...</td>\n",
       "      <td>2.183177</td>\n",
       "      <td>0.364106</td>\n",
       "      <td>0.686530</td>\n",
       "      <td>0.112862</td>\n",
       "      <td>1.840957</td>\n",
       "      <td>-1.003409</td>\n",
       "      <td>1.641141</td>\n",
       "      <td>1.469621</td>\n",
       "      <td>-1.839971</td>\n",
       "      <td>-0.456130</td>\n",
       "    </tr>\n",
       "    <tr>\n",
       "      <th>4</th>\n",
       "      <td>35129.09</td>\n",
       "      <td>0.452780</td>\n",
       "      <td>1.529394</td>\n",
       "      <td>0.085364</td>\n",
       "      <td>-0.787245</td>\n",
       "      <td>1.351148</td>\n",
       "      <td>-0.340774</td>\n",
       "      <td>0.354099</td>\n",
       "      <td>-0.319731</td>\n",
       "      <td>-0.776033</td>\n",
       "      <td>...</td>\n",
       "      <td>2.000792</td>\n",
       "      <td>1.035293</td>\n",
       "      <td>-0.719229</td>\n",
       "      <td>-3.073072</td>\n",
       "      <td>-0.078145</td>\n",
       "      <td>-0.154752</td>\n",
       "      <td>0.117198</td>\n",
       "      <td>0.226051</td>\n",
       "      <td>-1.447333</td>\n",
       "      <td>0.463009</td>\n",
       "    </tr>\n",
       "  </tbody>\n",
       "</table>\n",
       "<p>5 rows × 21 columns</p>\n",
       "</div>"
      ],
      "text/plain": [
       "    revenue    score0    score1    score2    score3    score4    score5  \\\n",
       "0  30698.74  0.067763  1.762772  0.211119  0.619655 -1.586284  0.051320   \n",
       "1  46813.75  0.943657 -0.696100  3.503075  1.323145 -0.579567 -1.379598   \n",
       "2  39493.35 -0.070838 -1.817580 -0.156724 -0.159741 -1.564338 -0.817489   \n",
       "3  48130.55 -0.133306  0.815997  2.261204  0.794839 -0.947440  0.049189   \n",
       "4  35129.09  0.452780  1.529394  0.085364 -0.787245  1.351148 -0.340774   \n",
       "\n",
       "     score6    score7    score8  ...   score10   score11   score12   score13  \\\n",
       "0 -0.529940 -0.177908 -0.387431  ... -1.246132 -1.817742 -0.189583 -1.636507   \n",
       "1  0.013465  1.061996 -0.952645  ...  1.115770  0.455824  0.109667 -0.790210   \n",
       "2  0.125174 -1.053015  0.181246  ... -0.006912 -0.009129 -0.324959  1.040768   \n",
       "3 -0.042403  1.657086 -2.870217  ...  2.183177  0.364106  0.686530  0.112862   \n",
       "4  0.354099 -0.319731 -0.776033  ...  2.000792  1.035293 -0.719229 -3.073072   \n",
       "\n",
       "    score14   score15   score16   score17   score18   score19  \n",
       "0  0.088087  0.481573  2.243539  0.330061 -1.019798 -1.409513  \n",
       "1  1.876311  0.610918  0.208647  1.505998  0.671251  0.315013  \n",
       "2  0.375134 -0.127496  1.435406  3.267201 -0.010580 -1.725084  \n",
       "3  1.840957 -1.003409  1.641141  1.469621 -1.839971 -0.456130  \n",
       "4 -0.078145 -0.154752  0.117198  0.226051 -1.447333  0.463009  \n",
       "\n",
       "[5 rows x 21 columns]"
      ]
     },
     "execution_count": 14,
     "metadata": {},
     "output_type": "execute_result"
    }
   ],
   "source": [
    "#import dataset\n",
    "\n",
    "import pandas as pd\n",
    "\n",
    "df1 = pd.read_csv('Exercise6.02/20scores.csv')\n",
    "\n",
    "df1.head()"
   ]
  },
  {
   "cell_type": "code",
   "execution_count": 15,
   "id": "c7680bf5",
   "metadata": {},
   "outputs": [],
   "source": [
    "#extract target variable(y) and predictor variable(x)\n",
    "x_cols = df1.columns[1:]\n",
    "X = df1[x_cols]\n",
    "\n",
    "y = df1['revenue']"
   ]
  },
  {
   "cell_type": "code",
   "execution_count": 16,
   "id": "676e95ac",
   "metadata": {},
   "outputs": [],
   "source": [
    "#import train_test_split\n",
    "\n",
    "from sklearn.model_selection import train_test_split\n",
    "\n",
    "X_train, X_test, y_train, y_test = train_test_split(X,y, random_state=10)"
   ]
  },
  {
   "cell_type": "code",
   "execution_count": 17,
   "id": "0f44ce48",
   "metadata": {},
   "outputs": [
    {
     "data": {
      "text/plain": [
       "LinearRegression()"
      ]
     },
     "execution_count": 17,
     "metadata": {},
     "output_type": "execute_result"
    }
   ],
   "source": [
    "#import LinearRegression \n",
    "\n",
    "from sklearn.linear_model import LinearRegression\n",
    "\n",
    "model = LinearRegression()\n",
    "model.fit(X_train, y_train)"
   ]
  },
  {
   "cell_type": "code",
   "execution_count": 18,
   "id": "9791830d",
   "metadata": {},
   "outputs": [
    {
     "data": {
      "text/plain": [
       "array([ 3.10465458e+01,  1.35929333e+00, -1.71996170e+01, -4.26396854e+00,\n",
       "       -4.56514104e+00,  2.71178012e+01,  1.12523398e+01, -9.62768549e+00,\n",
       "        1.28097189e+01, -3.82102937e+01, -3.92691076e+00, -4.49267755e+00,\n",
       "        9.12581579e+03,  2.81237962e+01,  1.26722148e+01,  1.99096955e+01,\n",
       "       -1.73401880e+01,  3.77047162e+03, -7.57356369e+00,  4.99844116e+03])"
      ]
     },
     "execution_count": 18,
     "metadata": {},
     "output_type": "execute_result"
    }
   ],
   "source": [
    "# model coefficient\n",
    "\n",
    "model.coef_"
   ]
  },
  {
   "cell_type": "code",
   "execution_count": 19,
   "id": "5797415a",
   "metadata": {},
   "outputs": [],
   "source": [
    "#Import RFE and select 5 features\n",
    "\n",
    "from sklearn.feature_selection import RFE\n",
    "\n",
    "rfe = RFE(estimator=LinearRegression(), n_features_to_select=5)"
   ]
  },
  {
   "cell_type": "code",
   "execution_count": 20,
   "id": "8c736936",
   "metadata": {},
   "outputs": [
    {
     "data": {
      "text/plain": [
       "RFE(estimator=LinearRegression(), n_features_to_select=5)"
      ]
     },
     "execution_count": 20,
     "metadata": {},
     "output_type": "execute_result"
    }
   ],
   "source": [
    "#Train RFE model\n",
    "\n",
    "rfe.fit(X_train,y_train)"
   ]
  },
  {
   "cell_type": "code",
   "execution_count": 21,
   "id": "7ea20417",
   "metadata": {},
   "outputs": [
    {
     "name": "stdout",
     "output_type": "stream",
     "text": [
      "Feature: score0, Rank: 1\n",
      "Feature: score9, Rank: 1\n",
      "Feature: score12, Rank: 1\n",
      "Feature: score17, Rank: 1\n",
      "Feature: score19, Rank: 1\n"
     ]
    }
   ],
   "source": [
    "#Print columns that were selected along with thier Ranks\n",
    "\n",
    "for featureNum in range(X_train.shape[1]):\n",
    "    if rfe.support_[featureNum]==True:\n",
    "        print(\"Feature: {}, Rank: {}\"\n",
    "              .format(X_train.columns[featureNum],\n",
    "                    rfe.ranking_[featureNum]))"
   ]
  },
  {
   "cell_type": "code",
   "execution_count": 22,
   "id": "ea3c7ac8",
   "metadata": {},
   "outputs": [
    {
     "data": {
      "text/plain": [
       "'Out of the 5 features selected they were given rank of 1,\\nmeaning all 5 features are equally important. \\n'"
      ]
     },
     "execution_count": 22,
     "metadata": {},
     "output_type": "execute_result"
    }
   ],
   "source": [
    "\"\"\"Out of the 5 features selected they were given rank of 1,\n",
    "meaning all 5 features are equally important. \n",
    "\"\"\""
   ]
  },
  {
   "cell_type": "code",
   "execution_count": 23,
   "id": "7b533778",
   "metadata": {},
   "outputs": [],
   "source": [
    "#Create a new reduced data set having only the rfe selected columns\n",
    "\n",
    "X_train_reduced = X_train[X_train.columns[rfe.support_]]\n",
    "X_test_reduced = X_test[X_train.columns[rfe.support_]]"
   ]
  },
  {
   "cell_type": "code",
   "execution_count": 24,
   "id": "3d5bfc96",
   "metadata": {},
   "outputs": [
    {
     "data": {
      "text/plain": [
       "LinearRegression()"
      ]
     },
     "execution_count": 24,
     "metadata": {},
     "output_type": "execute_result"
    }
   ],
   "source": [
    "#Create a new Lineaer Regression model\n",
    "\n",
    "rfe_model = LinearRegression()\n",
    "rfe_model.fit(X_train_reduced, y_train)"
   ]
  },
  {
   "cell_type": "code",
   "execution_count": 25,
   "id": "1ba6b8f6",
   "metadata": {},
   "outputs": [
    {
     "name": "stdout",
     "output_type": "stream",
     "text": [
      "491.78833768572593\n",
      "487.61841719866027\n"
     ]
    }
   ],
   "source": [
    "#Use RMSE to compare original and new simplified model (All features(variables) VS 5 features)\n",
    "\n",
    "#RMSE using original model\n",
    "rfe_predictions = model.predict(X_test)\n",
    "print(mean_squared_error(rfe_predictions, y_test)**.5)\n",
    "\n",
    "\n",
    "#RMSE using RFE optimized model\n",
    "rfe_predictions2 = rfe_model.predict(X_test_reduced)\n",
    "print(mean_squared_error(rfe_predictions2, y_test)**.5)"
   ]
  },
  {
   "cell_type": "code",
   "execution_count": 26,
   "id": "09e4e759",
   "metadata": {},
   "outputs": [
    {
     "data": {
      "text/plain": [
       "' Although the reduced dataset obtained using RFE has only 5 features, the RMSE is lower than the model using all features\\nThis shows that the it has not lost any predictive power, even though it has been simplified.'"
      ]
     },
     "execution_count": 26,
     "metadata": {},
     "output_type": "execute_result"
    }
   ],
   "source": [
    "\"\"\" Although the reduced dataset obtained using RFE has only 5 features, the RMSE is lower than the model using all features\n",
    "This shows that the it has not lost any predictive power, even though it has been simplified.\"\"\""
   ]
  },
  {
   "cell_type": "markdown",
   "id": "ddd15aa3",
   "metadata": {},
   "source": [
    "# End 6.02"
   ]
  },
  {
   "cell_type": "code",
   "execution_count": 27,
   "id": "1385b536",
   "metadata": {},
   "outputs": [
    {
     "data": {
      "text/plain": [
       "'Random Forests\\n\\nDataset -> N # of trees -> Mean -> Prediction\\n\\nImporting Random Forest\\n\\nfrom sklearn.module import RandomForestRegressor\\n\\nforest_model = RandomForestRegressor(max_depth = 2)\\n\\n\\n\\n'"
      ]
     },
     "execution_count": 27,
     "metadata": {},
     "output_type": "execute_result"
    }
   ],
   "source": [
    "# Example 6.03: Using tree-based regression models to capture non-linear trends\n",
    "\n",
    "\"\"\"Importing Decision Tree Regressor = single tree\n",
    "\n",
    "from Sklearn.tree import DecisionTreeRegressor\n",
    "\n",
    "tree_model = DecisionTreeRegressor(max_depth=2)\n",
    "\n",
    "max_depth = the more the depth the tree is allowed, the more complex a relationship it can model\n",
    "too high of a depth may cause overfitting\"\"\"\n",
    "\n",
    "\n",
    "\"\"\"Random Forests\n",
    "\n",
    "Dataset -> N # of trees -> Mean -> Prediction\n",
    "\n",
    "Importing Random Forest\n",
    "\n",
    "from sklearn.module import RandomForestRegressor\n",
    "\n",
    "forest_model = RandomForestRegressor(max_depth = 2)\n",
    "\n",
    "\n",
    "\n",
    "\"\"\""
   ]
  },
  {
   "cell_type": "code",
   "execution_count": 28,
   "id": "bfea76cb",
   "metadata": {},
   "outputs": [
    {
     "data": {
      "text/plain": [
       "'You want to figure out how spending habits change with age of your customers, \\nand how well different models can capture this relationship. \\n\\nThis can help in building age specific website patterns that will recommend different products that suit customers spend level. \\n'"
      ]
     },
     "execution_count": 28,
     "metadata": {},
     "output_type": "execute_result"
    }
   ],
   "source": [
    "\"\"\"You want to figure out how spending habits change with age of your customers, \n",
    "and how well different models can capture this relationship. \n",
    "\n",
    "This can help in building age specific website patterns that will recommend different products that suit customers spend level. \n",
    "\"\"\""
   ]
  },
  {
   "cell_type": "code",
   "execution_count": 29,
   "id": "9c141f0c",
   "metadata": {},
   "outputs": [
    {
     "data": {
      "text/html": [
       "<div>\n",
       "<style scoped>\n",
       "    .dataframe tbody tr th:only-of-type {\n",
       "        vertical-align: middle;\n",
       "    }\n",
       "\n",
       "    .dataframe tbody tr th {\n",
       "        vertical-align: top;\n",
       "    }\n",
       "\n",
       "    .dataframe thead th {\n",
       "        text-align: right;\n",
       "    }\n",
       "</style>\n",
       "<table border=\"1\" class=\"dataframe\">\n",
       "  <thead>\n",
       "    <tr style=\"text-align: right;\">\n",
       "      <th></th>\n",
       "      <th>spend</th>\n",
       "      <th>age</th>\n",
       "    </tr>\n",
       "  </thead>\n",
       "  <tbody>\n",
       "    <tr>\n",
       "      <th>0</th>\n",
       "      <td>2725.0</td>\n",
       "      <td>20.0</td>\n",
       "    </tr>\n",
       "    <tr>\n",
       "      <th>1</th>\n",
       "      <td>3010.0</td>\n",
       "      <td>38.0</td>\n",
       "    </tr>\n",
       "    <tr>\n",
       "      <th>2</th>\n",
       "      <td>2782.0</td>\n",
       "      <td>25.0</td>\n",
       "    </tr>\n",
       "    <tr>\n",
       "      <th>3</th>\n",
       "      <td>2809.0</td>\n",
       "      <td>31.0</td>\n",
       "    </tr>\n",
       "    <tr>\n",
       "      <th>4</th>\n",
       "      <td>2774.0</td>\n",
       "      <td>54.0</td>\n",
       "    </tr>\n",
       "  </tbody>\n",
       "</table>\n",
       "</div>"
      ],
      "text/plain": [
       "    spend   age\n",
       "0  2725.0  20.0\n",
       "1  3010.0  38.0\n",
       "2  2782.0  25.0\n",
       "3  2809.0  31.0\n",
       "4  2774.0  54.0"
      ]
     },
     "execution_count": 29,
     "metadata": {},
     "output_type": "execute_result"
    }
   ],
   "source": [
    "#import dataset\n",
    "\n",
    "df2 = pd.read_csv('Exercise6.03/age_spend.csv')\n",
    "df2.head()"
   ]
  },
  {
   "cell_type": "code",
   "execution_count": 30,
   "id": "d4f6d652",
   "metadata": {},
   "outputs": [],
   "source": [
    "# extract target variable (y) and predictor variable (x)\n",
    "\n",
    "X = df2[['age']]\n",
    "\n",
    "y = df2[['spend']]"
   ]
  },
  {
   "cell_type": "code",
   "execution_count": 31,
   "id": "06e2d3c0",
   "metadata": {},
   "outputs": [],
   "source": [
    "#import train_test_split\n",
    "\n",
    "from sklearn.model_selection import train_test_split\n",
    "\n",
    "X_train, X_test, y_train, y_test = train_test_split(X,y,random_state=10)"
   ]
  },
  {
   "cell_type": "code",
   "execution_count": 32,
   "id": "d82524b3",
   "metadata": {},
   "outputs": [
    {
     "data": {
      "text/plain": [
       "DecisionTreeRegressor(max_depth=5)"
      ]
     },
     "execution_count": 32,
     "metadata": {},
     "output_type": "execute_result"
    }
   ],
   "source": [
    "#import DecisionTreeRegressor one with max_depth 2 and other with MD=5 \n",
    "\n",
    "from sklearn.tree import DecisionTreeRegressor\n",
    "\n",
    "max2_tree_model = DecisionTreeRegressor(max_depth=2)\n",
    "max2_tree_model.fit(X_train,y_train)\n",
    "\n",
    "max5_tree_model = DecisionTreeRegressor(max_depth=5)\n",
    "max5_tree_model.fit(X_train, y_train)"
   ]
  },
  {
   "cell_type": "code",
   "execution_count": 33,
   "id": "ab87bb48",
   "metadata": {},
   "outputs": [
    {
     "data": {
      "text/plain": [
       "LinearRegression()"
      ]
     },
     "execution_count": 33,
     "metadata": {},
     "output_type": "execute_result"
    }
   ],
   "source": [
    "#import Linear Regression\n",
    "\n",
    "model = LinearRegression()\n",
    "model.fit(X_train,y_train)"
   ]
  },
  {
   "cell_type": "code",
   "execution_count": 34,
   "id": "95ce3fd0",
   "metadata": {},
   "outputs": [
    {
     "name": "stdout",
     "output_type": "stream",
     "text": [
      "Linear Model RMSE: 159.07639273785358\n",
      "Tree max depth 2 RMSE: 125.1920405443602\n",
      "Tree max depth 5 RMSE: 109.73376798374653\n"
     ]
    }
   ],
   "source": [
    "#import mean_squared_error\n",
    "\n",
    "#RMSE on Linear Regression prediction\n",
    "linear_predictions = model.predict(X_test)\n",
    "print('Linear Model RMSE: '+\n",
    "     str(mean_squared_error(linear_predictions, y_test)**.5))\n",
    "\n",
    "#RMSE on Decision Tree Prediction max_depth 2\n",
    "max2_tree_predictions = max2_tree_model.predict(X_test)\n",
    "print('Tree max depth 2 RMSE: '+\n",
    "     str(mean_squared_error(max2_tree_predictions, y_test)**.5))\n",
    "\n",
    "#RMSE on Decision Tree Prediction max_depth 5\n",
    "max5_tree_predictions = max5_tree_model.predict(X_test)\n",
    "print('Tree max depth 5 RMSE: '+\n",
    "     str(mean_squared_error(max5_tree_predictions, y_test)**.5))"
   ]
  },
  {
   "cell_type": "code",
   "execution_count": 35,
   "id": "bcb60651",
   "metadata": {},
   "outputs": [],
   "source": [
    "# Tree max depth 5 has the lowest error\n"
   ]
  },
  {
   "cell_type": "code",
   "execution_count": 36,
   "id": "6274697f",
   "metadata": {},
   "outputs": [],
   "source": [
    "#import matplotlib and create a dataframe with variable called ages to have the models predict\n",
    "\n",
    "import matplotlib.pyplot as plt\n",
    "%matplotlib inline\n",
    "\n",
    "ages = pd.DataFrame({'age':range(18,70)})"
   ]
  },
  {
   "cell_type": "code",
   "execution_count": 37,
   "id": "68f06945",
   "metadata": {},
   "outputs": [
    {
     "data": {
      "image/png": "[encoded data removed]",
      "text/plain": [
       "<Figure size 432x288 with 1 Axes>"
      ]
     },
     "metadata": {
      "needs_background": "light"
     },
     "output_type": "display_data"
    }
   ],
   "source": [
    "#create a scatter plot to test the models\n",
    "\n",
    "#Linear Regression Scatterplot:\n",
    "plt.scatter(X_test.age, y_test,color ='gray')\n",
    "plt.plot(ages,model.predict(ages),color='k',linewidth=5,\n",
    "        label = 'Linear Regression')\n",
    "plt.xlabel('age')\n",
    "plt.ylabel('spend')\n",
    "plt.show()"
   ]
  },
  {
   "cell_type": "code",
   "execution_count": 38,
   "id": "c55591c3",
   "metadata": {},
   "outputs": [
    {
     "data": {
      "image/png": "[encoded data removed]",
      "text/plain": [
       "<Figure size 432x288 with 1 Axes>"
      ]
     },
     "metadata": {
      "needs_background": "light"
     },
     "output_type": "display_data"
    }
   ],
   "source": [
    "#Decision Tree Regression max_depth 2 Scatterplot:\n",
    "plt.scatter(X_test.age, y_test,color ='gray')\n",
    "plt.plot(ages,max2_tree_model.predict(ages),color='k',linewidth=5,\n",
    "        label = 'Tree with max depth 2')\n",
    "plt.xlabel('age')\n",
    "plt.ylabel('spend')\n",
    "plt.show()"
   ]
  },
  {
   "cell_type": "code",
   "execution_count": 39,
   "id": "1e7d3fbe",
   "metadata": {},
   "outputs": [
    {
     "data": {
      "image/png": "[encoded data removed]",
      "text/plain": [
       "<Figure size 432x288 with 1 Axes>"
      ]
     },
     "metadata": {
      "needs_background": "light"
     },
     "output_type": "display_data"
    }
   ],
   "source": [
    "#Decision Tree Regression max_depth 5 Scatterplot:\n",
    "plt.scatter(X_test.age, y_test,color ='gray')\n",
    "plt.plot(ages,max5_tree_model.predict(ages),color='k',linewidth=5,\n",
    "        label = 'Tree with max depth 5')\n",
    "plt.xlabel('age')\n",
    "plt.ylabel('spend')\n",
    "plt.show()"
   ]
  },
  {
   "cell_type": "code",
   "execution_count": 40,
   "id": "22eb7802",
   "metadata": {},
   "outputs": [
    {
     "name": "stderr",
     "output_type": "stream",
     "text": [
      "/var/folders/ms/t17sw3rj5fv_qhpznf97nw400000gn/T/ipykernel_5529/820964477.py:5: DataConversionWarning: A column-vector y was passed when a 1d array was expected. Please change the shape of y to (n_samples,), for example using ravel().\n",
      "  max2_forest_model.fit(X_train,y_train)\n",
      "/var/folders/ms/t17sw3rj5fv_qhpznf97nw400000gn/T/ipykernel_5529/820964477.py:8: DataConversionWarning: A column-vector y was passed when a 1d array was expected. Please change the shape of y to (n_samples,), for example using ravel().\n",
      "  max5_forest_model.fit(X_train,y_train)\n"
     ]
    },
    {
     "data": {
      "text/plain": [
       "RandomForestRegressor(max_depth=5, random_state=10)"
      ]
     },
     "execution_count": 40,
     "metadata": {},
     "output_type": "execute_result"
    }
   ],
   "source": [
    "#Create a Random Forest with max_depth 2 & 5\n",
    "from sklearn.ensemble import RandomForestRegressor\n",
    "\n",
    "max2_forest_model = RandomForestRegressor(max_depth=2, random_state=10)\n",
    "max2_forest_model.fit(X_train,y_train)\n",
    "\n",
    "max5_forest_model = RandomForestRegressor(max_depth=5, random_state=10)\n",
    "max5_forest_model.fit(X_train,y_train)\n"
   ]
  },
  {
   "cell_type": "code",
   "execution_count": 41,
   "id": "df7ea1df",
   "metadata": {},
   "outputs": [
    {
     "name": "stdout",
     "output_type": "stream",
     "text": [
      "Forest max depth 2 RMSE: 116.57417072810561\n",
      "Forest max depth 5 RMSE: 109.05510027963649\n"
     ]
    }
   ],
   "source": [
    "# calculate RMSE \n",
    "\n",
    "#RMSE on Decision Tree Prediction max_depth 2\n",
    "max2_forest_predictions = max2_forest_model.predict(X_test)\n",
    "print('Forest max depth 2 RMSE: '+\n",
    "     str(mean_squared_error(max2_forest_predictions, y_test)**.5))\n",
    "\n",
    "#RMSE on Decision Tree Prediction max_depth 5\n",
    "max5_forest_predictions = max5_forest_model.predict(X_test)\n",
    "print('Forest max depth 5 RMSE: '+\n",
    "     str(mean_squared_error(max5_forest_predictions, y_test)**.5))\n"
   ]
  },
  {
   "cell_type": "code",
   "execution_count": 42,
   "id": "5bf72474",
   "metadata": {},
   "outputs": [
    {
     "data": {
      "image/png": "[encoded data removed]",
      "text/plain": [
       "<Figure size 432x288 with 1 Axes>"
      ]
     },
     "metadata": {
      "needs_background": "light"
     },
     "output_type": "display_data"
    }
   ],
   "source": [
    "#create Forest md2 scatterplot:\n",
    "plt.scatter(X_test.age, y_test,color ='gray')\n",
    "plt.plot(ages,max2_forest_model.predict(ages),color='k',linewidth=5,\n",
    "        label = 'forest with max depth 5')\n",
    "plt.xlabel('age')\n",
    "plt.ylabel('spend')\n",
    "plt.show()"
   ]
  },
  {
   "cell_type": "code",
   "execution_count": 43,
   "id": "29e781d6",
   "metadata": {},
   "outputs": [
    {
     "data": {
      "image/png": "[encoded data removed]",
      "text/plain": [
       "<Figure size 432x288 with 1 Axes>"
      ]
     },
     "metadata": {
      "needs_background": "light"
     },
     "output_type": "display_data"
    }
   ],
   "source": [
    "#create Forest md5 scatterplot:\n",
    "plt.scatter(X_test.age, y_test,color ='gray')\n",
    "plt.plot(ages,max5_forest_model.predict(ages),color='k',linewidth=5,\n",
    "        label = 'forest with max depth 5')\n",
    "plt.xlabel('age')\n",
    "plt.ylabel('spend')\n",
    "plt.show()\n"
   ]
  },
  {
   "cell_type": "code",
   "execution_count": 44,
   "id": "81f878e5",
   "metadata": {},
   "outputs": [
    {
     "data": {
      "image/png": "[encoded data removed]",
      "text/plain": [
       "<Figure size 864x576 with 1 Axes>"
      ]
     },
     "metadata": {
      "needs_background": "light"
     },
     "output_type": "display_data"
    }
   ],
   "source": [
    "#Create a single scatter plot comparing all models\n",
    "\n",
    "plt.figure(figsize=(12,8))\n",
    "plt.scatter(X_test.age,y_test)\n",
    "plt.plot(ages,model.predict(ages), color='r',linewidth=5,label='Linear Regression')\n",
    "plt.plot(ages,max2_tree_model.predict(ages),color='g',\n",
    "        linewidth=5, label='MD 2 Tree')\n",
    "plt.plot(ages,max5_tree_model.predict(ages),color='k',\n",
    "        linewidth=5, label='MD 5 Tree')\n",
    "plt.plot(ages,max2_forest_model.predict(ages),color='c',\n",
    "        linewidth=5, label='MD 2 forest')\n",
    "plt.plot(ages,max5_forest_model.predict(ages),color='m',\n",
    "        linewidth=5, label='MD 5 forest')\n",
    "plt.legend()\n",
    "plt.xlabel('age')\n",
    "plt.ylabel('spend')\n",
    "plt.show()"
   ]
  },
  {
   "cell_type": "markdown",
   "id": "689f7270",
   "metadata": {},
   "source": [
    "# 6.03 End"
   ]
  },
  {
   "cell_type": "code",
   "execution_count": null,
   "id": "2d608e82",
   "metadata": {},
   "outputs": [],
   "source": []
  }
 ],
 "metadata": {
  "kernelspec": {
   "display_name": "Python 3 (ipykernel)",
   "language": "python",
   "name": "python3"
  },
  "language_info": {
   "codemirror_mode": {
    "name": "ipython",
    "version": 3
   },
   "file_extension": ".py",
   "mimetype": "text/x-python",
   "name": "python",
   "nbconvert_exporter": "python",
   "pygments_lexer": "ipython3",
   "version": "3.9.7"
  }
 },
 "nbformat": 4,
 "nbformat_minor": 5
}
