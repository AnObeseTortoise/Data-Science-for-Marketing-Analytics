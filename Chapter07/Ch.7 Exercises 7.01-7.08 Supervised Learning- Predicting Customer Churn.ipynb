{
 "cells": [
  {
   "cell_type": "markdown",
   "id": "48edbaba",
   "metadata": {},
   "source": [
    "# Chapter 7\n",
    "## Supervised Learning: Predicting Customer Churn\n",
    "### Overview\n",
    "\n",
    "In this chapter, you will perform classification tasks using logistic regression and implement the most widely used data science pipeline - **Obtain, Scrub, Explore, Model,** and **iNterpret (OSEMN)**. You will interpret the relationshihp between the target and explanatorfy variables by performing data exploration. This will in turn help in selecting features for building predictive models. You will use these concepts to train your churn model. You will also perform logistic regression as a baseline model to predict custoemr churn. "
   ]
  },
  {
   "cell_type": "markdown",
   "id": "df073f95",
   "metadata": {},
   "source": [
    "### Classification Types\n",
    "\n",
    "**Binary Classification** - The target variable can have only two categorical values or classes. X is or X is not. \n",
    "\n",
    "**Multiclass Classification** - The target variable can have multiple classes. Given X , X can be equal to A, B, or C. \n"
   ]
  },
  {
   "cell_type": "markdown",
   "id": "6f3e6c9a",
   "metadata": {},
   "source": [
    "### Logistic Regression\n",
    "\n",
    "Is modeling the mean of the response variable, p, in terms of an explanatory variable, x, as probablistic model in terms of the odds ratio. \n",
    "\n",
    "The odds ratio is  the ratio of two probabilities - the probability of the event occurring, and the probability of the event not occurring. \n",
    "\n",
    "**Assumptions of Logistic Regression:**\n",
    "- Unlike linear regression, logistic regression does not assume linearity between the independent variables (x) and the target variable (y).\n",
    "- The dependent variable must be binary (have two categories).\n",
    "- The independent variable need not have intervals, be normally distributed, linearly related, or have equal variance within each group.\n",
    "- The categories must be mutually exclusive and exhaustive.\n",
    "\n",
    "**Importing the logistic regression model:**\n",
    "- from sklearn import linear_model\n",
    "- logit = linear_model.LogisticRegression()\n",
    "- logit.fit(X_train, y_train)\n",
    "- logit.predict(X)\n",
    "- logit.score(X_train, y_train) to get the training score\n",
    "- logit.score(X_test, y_test) to get the test score for the trained model"
   ]
  },
  {
   "cell_type": "markdown",
   "id": "c05655db",
   "metadata": {},
   "source": [
    "## Exercise 7.01: Comparing Predictions by Linear and Logistic Regression on the Shill Bidding Dataset"
   ]
  },
  {
   "cell_type": "markdown",
   "id": "b3d07db0",
   "metadata": {},
   "source": [
    "The dataset contains details regarding auctions done for various products on eBay.com. The target column, Class, provides information about bidding behavior, 0 being normal and 1 being abnormal behavior. Develop a machine learning model that can predict whether the bidding behavior in a particular model is normal (0) or not (1). Apply linear and logistic regression to predict the output and check which one of them is useful in this situation. "
   ]
  },
  {
   "cell_type": "code",
   "execution_count": 1,
   "id": "602a0abc",
   "metadata": {},
   "outputs": [],
   "source": [
    "import pandas as pd , numpy as np\n",
    "\n",
    "from sklearn.model_selection import train_test_split\n",
    "\n",
    "from sklearn import linear_model\n",
    "\n",
    "import matplotlib.pyplot as plt"
   ]
  },
  {
   "cell_type": "code",
   "execution_count": 2,
   "id": "c92fd9c9",
   "metadata": {},
   "outputs": [
    {
     "data": {
      "text/html": [
       "<div>\n",
       "<style scoped>\n",
       "    .dataframe tbody tr th:only-of-type {\n",
       "        vertical-align: middle;\n",
       "    }\n",
       "\n",
       "    .dataframe tbody tr th {\n",
       "        vertical-align: top;\n",
       "    }\n",
       "\n",
       "    .dataframe thead th {\n",
       "        text-align: right;\n",
       "    }\n",
       "</style>\n",
       "<table border=\"1\" class=\"dataframe\">\n",
       "  <thead>\n",
       "    <tr style=\"text-align: right;\">\n",
       "      <th></th>\n",
       "      <th>Record_ID</th>\n",
       "      <th>Auction_ID</th>\n",
       "      <th>Bidder_ID</th>\n",
       "      <th>Bidder_Tendency</th>\n",
       "      <th>Bidding_Ratio</th>\n",
       "      <th>Successive_Outbidding</th>\n",
       "      <th>Last_Bidding</th>\n",
       "      <th>Auction_Bids</th>\n",
       "      <th>Starting_Price_Average</th>\n",
       "      <th>Early_Bidding</th>\n",
       "      <th>Winning_Ratio</th>\n",
       "      <th>Auction_Duration</th>\n",
       "      <th>Class</th>\n",
       "    </tr>\n",
       "  </thead>\n",
       "  <tbody>\n",
       "    <tr>\n",
       "      <th>0</th>\n",
       "      <td>1</td>\n",
       "      <td>732</td>\n",
       "      <td>_***i</td>\n",
       "      <td>0.200000</td>\n",
       "      <td>0.400000</td>\n",
       "      <td>0.0</td>\n",
       "      <td>0.000028</td>\n",
       "      <td>0.0</td>\n",
       "      <td>0.993593</td>\n",
       "      <td>0.000028</td>\n",
       "      <td>0.666667</td>\n",
       "      <td>5</td>\n",
       "      <td>0</td>\n",
       "    </tr>\n",
       "    <tr>\n",
       "      <th>1</th>\n",
       "      <td>2</td>\n",
       "      <td>732</td>\n",
       "      <td>g***r</td>\n",
       "      <td>0.024390</td>\n",
       "      <td>0.200000</td>\n",
       "      <td>0.0</td>\n",
       "      <td>0.013123</td>\n",
       "      <td>0.0</td>\n",
       "      <td>0.993593</td>\n",
       "      <td>0.013123</td>\n",
       "      <td>0.944444</td>\n",
       "      <td>5</td>\n",
       "      <td>0</td>\n",
       "    </tr>\n",
       "    <tr>\n",
       "      <th>2</th>\n",
       "      <td>3</td>\n",
       "      <td>732</td>\n",
       "      <td>t***p</td>\n",
       "      <td>0.142857</td>\n",
       "      <td>0.200000</td>\n",
       "      <td>0.0</td>\n",
       "      <td>0.003042</td>\n",
       "      <td>0.0</td>\n",
       "      <td>0.993593</td>\n",
       "      <td>0.003042</td>\n",
       "      <td>1.000000</td>\n",
       "      <td>5</td>\n",
       "      <td>0</td>\n",
       "    </tr>\n",
       "    <tr>\n",
       "      <th>3</th>\n",
       "      <td>4</td>\n",
       "      <td>732</td>\n",
       "      <td>7***n</td>\n",
       "      <td>0.100000</td>\n",
       "      <td>0.200000</td>\n",
       "      <td>0.0</td>\n",
       "      <td>0.097477</td>\n",
       "      <td>0.0</td>\n",
       "      <td>0.993593</td>\n",
       "      <td>0.097477</td>\n",
       "      <td>1.000000</td>\n",
       "      <td>5</td>\n",
       "      <td>0</td>\n",
       "    </tr>\n",
       "    <tr>\n",
       "      <th>4</th>\n",
       "      <td>5</td>\n",
       "      <td>900</td>\n",
       "      <td>z***z</td>\n",
       "      <td>0.051282</td>\n",
       "      <td>0.222222</td>\n",
       "      <td>0.0</td>\n",
       "      <td>0.001318</td>\n",
       "      <td>0.0</td>\n",
       "      <td>0.000000</td>\n",
       "      <td>0.001242</td>\n",
       "      <td>0.500000</td>\n",
       "      <td>7</td>\n",
       "      <td>0</td>\n",
       "    </tr>\n",
       "  </tbody>\n",
       "</table>\n",
       "</div>"
      ],
      "text/plain": [
       "   Record_ID  Auction_ID Bidder_ID  Bidder_Tendency  Bidding_Ratio  \\\n",
       "0          1         732     _***i         0.200000       0.400000   \n",
       "1          2         732     g***r         0.024390       0.200000   \n",
       "2          3         732     t***p         0.142857       0.200000   \n",
       "3          4         732     7***n         0.100000       0.200000   \n",
       "4          5         900     z***z         0.051282       0.222222   \n",
       "\n",
       "   Successive_Outbidding  Last_Bidding  Auction_Bids  Starting_Price_Average  \\\n",
       "0                    0.0      0.000028           0.0                0.993593   \n",
       "1                    0.0      0.013123           0.0                0.993593   \n",
       "2                    0.0      0.003042           0.0                0.993593   \n",
       "3                    0.0      0.097477           0.0                0.993593   \n",
       "4                    0.0      0.001318           0.0                0.000000   \n",
       "\n",
       "   Early_Bidding  Winning_Ratio  Auction_Duration  Class  \n",
       "0       0.000028       0.666667                 5      0  \n",
       "1       0.013123       0.944444                 5      0  \n",
       "2       0.003042       1.000000                 5      0  \n",
       "3       0.097477       1.000000                 5      0  \n",
       "4       0.001242       0.500000                 7      0  "
      ]
     },
     "execution_count": 2,
     "metadata": {},
     "output_type": "execute_result"
    }
   ],
   "source": [
    "bids = pd.read_csv('Exercise7.01/Shill_Bidding_Dataset.csv')\n",
    "bids.head()"
   ]
  },
  {
   "cell_type": "markdown",
   "id": "d0e43b93",
   "metadata": {},
   "source": [
    "Remove columns that are irrelevant to the case study; remove Record_ID, Auction_ID, and Bidder_ID columns. These columns contain unique IDs and do not add any new information to the model. "
   ]
  },
  {
   "cell_type": "code",
   "execution_count": 3,
   "id": "9c2713e4",
   "metadata": {},
   "outputs": [
    {
     "data": {
      "text/html": [
       "<div>\n",
       "<style scoped>\n",
       "    .dataframe tbody tr th:only-of-type {\n",
       "        vertical-align: middle;\n",
       "    }\n",
       "\n",
       "    .dataframe tbody tr th {\n",
       "        vertical-align: top;\n",
       "    }\n",
       "\n",
       "    .dataframe thead th {\n",
       "        text-align: right;\n",
       "    }\n",
       "</style>\n",
       "<table border=\"1\" class=\"dataframe\">\n",
       "  <thead>\n",
       "    <tr style=\"text-align: right;\">\n",
       "      <th></th>\n",
       "      <th>Bidder_Tendency</th>\n",
       "      <th>Bidding_Ratio</th>\n",
       "      <th>Successive_Outbidding</th>\n",
       "      <th>Last_Bidding</th>\n",
       "      <th>Auction_Bids</th>\n",
       "      <th>Starting_Price_Average</th>\n",
       "      <th>Early_Bidding</th>\n",
       "      <th>Winning_Ratio</th>\n",
       "      <th>Auction_Duration</th>\n",
       "      <th>Class</th>\n",
       "    </tr>\n",
       "  </thead>\n",
       "  <tbody>\n",
       "    <tr>\n",
       "      <th>0</th>\n",
       "      <td>0.200000</td>\n",
       "      <td>0.400000</td>\n",
       "      <td>0.0</td>\n",
       "      <td>0.000028</td>\n",
       "      <td>0.0</td>\n",
       "      <td>0.993593</td>\n",
       "      <td>0.000028</td>\n",
       "      <td>0.666667</td>\n",
       "      <td>5</td>\n",
       "      <td>0</td>\n",
       "    </tr>\n",
       "    <tr>\n",
       "      <th>1</th>\n",
       "      <td>0.024390</td>\n",
       "      <td>0.200000</td>\n",
       "      <td>0.0</td>\n",
       "      <td>0.013123</td>\n",
       "      <td>0.0</td>\n",
       "      <td>0.993593</td>\n",
       "      <td>0.013123</td>\n",
       "      <td>0.944444</td>\n",
       "      <td>5</td>\n",
       "      <td>0</td>\n",
       "    </tr>\n",
       "    <tr>\n",
       "      <th>2</th>\n",
       "      <td>0.142857</td>\n",
       "      <td>0.200000</td>\n",
       "      <td>0.0</td>\n",
       "      <td>0.003042</td>\n",
       "      <td>0.0</td>\n",
       "      <td>0.993593</td>\n",
       "      <td>0.003042</td>\n",
       "      <td>1.000000</td>\n",
       "      <td>5</td>\n",
       "      <td>0</td>\n",
       "    </tr>\n",
       "    <tr>\n",
       "      <th>3</th>\n",
       "      <td>0.100000</td>\n",
       "      <td>0.200000</td>\n",
       "      <td>0.0</td>\n",
       "      <td>0.097477</td>\n",
       "      <td>0.0</td>\n",
       "      <td>0.993593</td>\n",
       "      <td>0.097477</td>\n",
       "      <td>1.000000</td>\n",
       "      <td>5</td>\n",
       "      <td>0</td>\n",
       "    </tr>\n",
       "    <tr>\n",
       "      <th>4</th>\n",
       "      <td>0.051282</td>\n",
       "      <td>0.222222</td>\n",
       "      <td>0.0</td>\n",
       "      <td>0.001318</td>\n",
       "      <td>0.0</td>\n",
       "      <td>0.000000</td>\n",
       "      <td>0.001242</td>\n",
       "      <td>0.500000</td>\n",
       "      <td>7</td>\n",
       "      <td>0</td>\n",
       "    </tr>\n",
       "  </tbody>\n",
       "</table>\n",
       "</div>"
      ],
      "text/plain": [
       "   Bidder_Tendency  Bidding_Ratio  Successive_Outbidding  Last_Bidding  \\\n",
       "0         0.200000       0.400000                    0.0      0.000028   \n",
       "1         0.024390       0.200000                    0.0      0.013123   \n",
       "2         0.142857       0.200000                    0.0      0.003042   \n",
       "3         0.100000       0.200000                    0.0      0.097477   \n",
       "4         0.051282       0.222222                    0.0      0.001318   \n",
       "\n",
       "   Auction_Bids  Starting_Price_Average  Early_Bidding  Winning_Ratio  \\\n",
       "0           0.0                0.993593       0.000028       0.666667   \n",
       "1           0.0                0.993593       0.013123       0.944444   \n",
       "2           0.0                0.993593       0.003042       1.000000   \n",
       "3           0.0                0.993593       0.097477       1.000000   \n",
       "4           0.0                0.000000       0.001242       0.500000   \n",
       "\n",
       "   Auction_Duration  Class  \n",
       "0                 5      0  \n",
       "1                 5      0  \n",
       "2                 5      0  \n",
       "3                 5      0  \n",
       "4                 7      0  "
      ]
     },
     "execution_count": 3,
     "metadata": {},
     "output_type": "execute_result"
    }
   ],
   "source": [
    "bids.drop(['Record_ID', 'Auction_ID', 'Bidder_ID'], axis=1, inplace=True)\n",
    "\n",
    "bids.head()"
   ]
  },
  {
   "cell_type": "markdown",
   "id": "3d0253e3",
   "metadata": {},
   "source": [
    "Split the Data into training and testing sets. Use random_state = 1. "
   ]
  },
  {
   "cell_type": "code",
   "execution_count": 4,
   "id": "9c31af19",
   "metadata": {},
   "outputs": [
    {
     "name": "stdout",
     "output_type": "stream",
     "text": [
      "Training dataset size: (4424, 9), Testing dataset size: (1897, 9)\n"
     ]
    }
   ],
   "source": [
    "X = bids.drop('Class', axis = 1)\n",
    "\n",
    "y = bids['Class']\n",
    "\n",
    "X_train, X_test, y_train, y_test = train_test_split(X, y, test_size=.3, random_state=1, stratify=y)\n",
    "\n",
    "print(\"Training dataset size: {}, Testing dataset size: {}\".format(X_train.shape, X_test.shape))"
   ]
  },
  {
   "cell_type": "markdown",
   "id": "3d31a942",
   "metadata": {},
   "source": [
    "**Fit the model using Linear Regression**"
   ]
  },
  {
   "cell_type": "code",
   "execution_count": 5,
   "id": "4086cfe8",
   "metadata": {},
   "outputs": [
    {
     "data": {
      "text/plain": [
       "LinearRegression()"
      ]
     },
     "execution_count": 5,
     "metadata": {},
     "output_type": "execute_result"
    }
   ],
   "source": [
    "linear = linear_model.LinearRegression()\n",
    "linear.fit(X_train, y_train)"
   ]
  },
  {
   "cell_type": "markdown",
   "id": "4fac58a0",
   "metadata": {},
   "source": [
    "Predict the first 10 test data points and check the target y values"
   ]
  },
  {
   "cell_type": "code",
   "execution_count": 6,
   "id": "3832dcd7",
   "metadata": {},
   "outputs": [
    {
     "data": {
      "text/plain": [
       "array([-0.00375542, -0.00248633, -0.01090699, -0.02753235,  0.01939224,\n",
       "        0.99493654,  0.02761226, -0.00565047,  0.48101551,  0.00471959])"
      ]
     },
     "execution_count": 6,
     "metadata": {},
     "output_type": "execute_result"
    }
   ],
   "source": [
    "linear.predict(X_test)[:10]"
   ]
  },
  {
   "cell_type": "code",
   "execution_count": 7,
   "id": "9ccc9610",
   "metadata": {},
   "outputs": [
    {
     "data": {
      "text/plain": [
       "array([0, 0, 0, 0, 0, 1, 0, 0, 0, 0])"
      ]
     },
     "execution_count": 7,
     "metadata": {},
     "output_type": "execute_result"
    }
   ],
   "source": [
    "y_test[:10].values"
   ]
  },
  {
   "cell_type": "markdown",
   "id": "06548dad",
   "metadata": {},
   "source": [
    "Evaluate the score of the linear regression model on the training and teting datasets"
   ]
  },
  {
   "cell_type": "code",
   "execution_count": 8,
   "id": "6cc051c0",
   "metadata": {},
   "outputs": [
    {
     "name": "stdout",
     "output_type": "stream",
     "text": [
      "Score on training dataset: 0.8166836356918417, Score on the testing dataset: 0.8119909602893054 \n"
     ]
    }
   ],
   "source": [
    "print('Score on training dataset: {}, '\n",
    "     'Score on the testing dataset: {} '.format(linear.score(X_train,y_train),\n",
    "                                               linear.score(X_test, y_test)))"
   ]
  },
  {
   "cell_type": "markdown",
   "id": "e227a326",
   "metadata": {},
   "source": [
    "**Fit the model using logistic regression**"
   ]
  },
  {
   "cell_type": "code",
   "execution_count": 9,
   "id": "30a59972",
   "metadata": {},
   "outputs": [
    {
     "data": {
      "text/plain": [
       "LogisticRegression()"
      ]
     },
     "execution_count": 9,
     "metadata": {},
     "output_type": "execute_result"
    }
   ],
   "source": [
    "logit = linear_model.LogisticRegression()\n",
    "\n",
    "logit.fit(X_train, y_train)"
   ]
  },
  {
   "cell_type": "markdown",
   "id": "70bc5313",
   "metadata": {},
   "source": [
    "Predict the first 10 test data points and check the target y values\n"
   ]
  },
  {
   "cell_type": "code",
   "execution_count": 10,
   "id": "bbe73a0f",
   "metadata": {},
   "outputs": [
    {
     "data": {
      "text/plain": [
       "array([0, 0, 0, 0, 0, 1, 0, 0, 0, 0])"
      ]
     },
     "execution_count": 10,
     "metadata": {},
     "output_type": "execute_result"
    }
   ],
   "source": [
    "logit.predict(X_test)[:10]"
   ]
  },
  {
   "cell_type": "code",
   "execution_count": 11,
   "id": "34cdd32c",
   "metadata": {},
   "outputs": [
    {
     "data": {
      "text/plain": [
       "array([0, 0, 0, 0, 0, 1, 0, 0, 0, 0])"
      ]
     },
     "execution_count": 11,
     "metadata": {},
     "output_type": "execute_result"
    }
   ],
   "source": [
    "y_test[:10].values"
   ]
  },
  {
   "cell_type": "markdown",
   "id": "48604d67",
   "metadata": {},
   "source": [
    "Evaluate the score of the logistic regression model on the training and teting datasets"
   ]
  },
  {
   "cell_type": "code",
   "execution_count": 12,
   "id": "3afba8b3",
   "metadata": {},
   "outputs": [
    {
     "name": "stdout",
     "output_type": "stream",
     "text": [
      "Score on training dataset: 0.9794303797468354, Score on the testing dataset: 0.9715340010542962 \n"
     ]
    }
   ],
   "source": [
    "print('Score on training dataset: {}, '\n",
    "     'Score on the testing dataset: {} '.format(logit.score(X_train,y_train),\n",
    "                                               logit.score(X_test, y_test)))"
   ]
  },
  {
   "cell_type": "markdown",
   "id": "78e9dd5a",
   "metadata": {},
   "source": [
    "1. Logistic regression can predict descrete classes as outputs, unlike lineaeer regression, which gave us non-discrete values\n",
    "2. Logistic regression was able to obtain a much higher score compared to lineaer regression. \n",
    "\n",
    "**Logistic Regression was able to perform much better compared to Linear Regression and is more suited for classification tasks.**"
   ]
  },
  {
   "cell_type": "markdown",
   "id": "ea1ae536",
   "metadata": {},
   "source": [
    "### End Exercise 7.01"
   ]
  },
  {
   "cell_type": "markdown",
   "id": "58c1bada",
   "metadata": {},
   "source": [
    "### Creating a Datascience Pipeline (OSEMN):\n",
    "\n",
    "1. Obtaining the data, which can be from any source: Structured, unstructured, or semi-structured\n",
    "2. Scrubbing the data, which means getting your hands dirty and cleaning the data. \n",
    "3. Exploring the data to find relationships between each of the variables. \n",
    "4. Modeling the data, predicting, forecasting, and clustering.\n",
    "5. iNterpreting the data, combining all analyses andn results to draw a conclusion."
   ]
  },
  {
   "cell_type": "markdown",
   "id": "0e94c3aa",
   "metadata": {},
   "source": [
    "### Churn Prediction Case Study: \n",
    "You work at a bank that is aiming to increase market share. Recently, the number of customers using the bank has declined. Find out the reason for customer churn and predict future customer churn."
   ]
  },
  {
   "cell_type": "markdown",
   "id": "28e33de6",
   "metadata": {},
   "source": [
    "## Exercise 7.02: Obtaining the Data\n",
    "\n",
    "Import the banking data and. do some initial checks. "
   ]
  },
  {
   "cell_type": "code",
   "execution_count": 13,
   "id": "db5659e6",
   "metadata": {},
   "outputs": [],
   "source": [
    "import seaborn as sns"
   ]
  },
  {
   "cell_type": "code",
   "execution_count": 14,
   "id": "5b3c0e1d",
   "metadata": {},
   "outputs": [
    {
     "data": {
      "text/html": [
       "<div>\n",
       "<style scoped>\n",
       "    .dataframe tbody tr th:only-of-type {\n",
       "        vertical-align: middle;\n",
       "    }\n",
       "\n",
       "    .dataframe tbody tr th {\n",
       "        vertical-align: top;\n",
       "    }\n",
       "\n",
       "    .dataframe thead th {\n",
       "        text-align: right;\n",
       "    }\n",
       "</style>\n",
       "<table border=\"1\" class=\"dataframe\">\n",
       "  <thead>\n",
       "    <tr style=\"text-align: right;\">\n",
       "      <th></th>\n",
       "      <th>CustomerId</th>\n",
       "      <th>CredRate</th>\n",
       "      <th>Geography</th>\n",
       "      <th>Gender</th>\n",
       "      <th>Age</th>\n",
       "      <th>Tenure</th>\n",
       "      <th>Balance</th>\n",
       "      <th>Prod Number</th>\n",
       "      <th>HasCrCard</th>\n",
       "      <th>ActMem</th>\n",
       "      <th>EstimatedSalary</th>\n",
       "      <th>Exited</th>\n",
       "    </tr>\n",
       "  </thead>\n",
       "  <tbody>\n",
       "    <tr>\n",
       "      <th>0</th>\n",
       "      <td>15634602</td>\n",
       "      <td>619</td>\n",
       "      <td>France</td>\n",
       "      <td>Female</td>\n",
       "      <td>42.0</td>\n",
       "      <td>2</td>\n",
       "      <td>0.00</td>\n",
       "      <td>1</td>\n",
       "      <td>1</td>\n",
       "      <td>1</td>\n",
       "      <td>101348.88</td>\n",
       "      <td>1</td>\n",
       "    </tr>\n",
       "    <tr>\n",
       "      <th>1</th>\n",
       "      <td>15647311</td>\n",
       "      <td>608</td>\n",
       "      <td>Spain</td>\n",
       "      <td>Female</td>\n",
       "      <td>41.0</td>\n",
       "      <td>1</td>\n",
       "      <td>83807.86</td>\n",
       "      <td>1</td>\n",
       "      <td>0</td>\n",
       "      <td>1</td>\n",
       "      <td>112542.58</td>\n",
       "      <td>0</td>\n",
       "    </tr>\n",
       "    <tr>\n",
       "      <th>2</th>\n",
       "      <td>15619304</td>\n",
       "      <td>502</td>\n",
       "      <td>France</td>\n",
       "      <td>Female</td>\n",
       "      <td>42.0</td>\n",
       "      <td>8</td>\n",
       "      <td>159660.80</td>\n",
       "      <td>3</td>\n",
       "      <td>1</td>\n",
       "      <td>0</td>\n",
       "      <td>113931.57</td>\n",
       "      <td>1</td>\n",
       "    </tr>\n",
       "    <tr>\n",
       "      <th>3</th>\n",
       "      <td>15701354</td>\n",
       "      <td>699</td>\n",
       "      <td>France</td>\n",
       "      <td>Female</td>\n",
       "      <td>39.0</td>\n",
       "      <td>1</td>\n",
       "      <td>0.00</td>\n",
       "      <td>2</td>\n",
       "      <td>0</td>\n",
       "      <td>0</td>\n",
       "      <td>93826.63</td>\n",
       "      <td>0</td>\n",
       "    </tr>\n",
       "    <tr>\n",
       "      <th>4</th>\n",
       "      <td>15737888</td>\n",
       "      <td>850</td>\n",
       "      <td>Spain</td>\n",
       "      <td>Female</td>\n",
       "      <td>43.0</td>\n",
       "      <td>2</td>\n",
       "      <td>125510.82</td>\n",
       "      <td>1</td>\n",
       "      <td>1</td>\n",
       "      <td>1</td>\n",
       "      <td>79084.10</td>\n",
       "      <td>0</td>\n",
       "    </tr>\n",
       "  </tbody>\n",
       "</table>\n",
       "</div>"
      ],
      "text/plain": [
       "   CustomerId  CredRate Geography  Gender   Age  Tenure    Balance  \\\n",
       "0    15634602       619    France  Female  42.0       2       0.00   \n",
       "1    15647311       608     Spain  Female  41.0       1   83807.86   \n",
       "2    15619304       502    France  Female  42.0       8  159660.80   \n",
       "3    15701354       699    France  Female  39.0       1       0.00   \n",
       "4    15737888       850     Spain  Female  43.0       2  125510.82   \n",
       "\n",
       "   Prod Number  HasCrCard  ActMem  EstimatedSalary  Exited  \n",
       "0            1          1       1        101348.88       1  \n",
       "1            1          0       1        112542.58       0  \n",
       "2            3          1       0        113931.57       1  \n",
       "3            2          0       0         93826.63       0  \n",
       "4            1          1       1         79084.10       0  "
      ]
     },
     "execution_count": 14,
     "metadata": {},
     "output_type": "execute_result"
    }
   ],
   "source": [
    "churn = pd.read_csv('Exercise7.02/Churn_Modelling.csv')\n",
    "\n",
    "churn.head()"
   ]
  },
  {
   "cell_type": "code",
   "execution_count": 15,
   "id": "077c568e",
   "metadata": {},
   "outputs": [
    {
     "data": {
      "text/plain": [
       "(10000, 12)"
      ]
     },
     "execution_count": 15,
     "metadata": {},
     "output_type": "execute_result"
    }
   ],
   "source": [
    "#Check the number of rows\n",
    "\n",
    "len(churn)\n",
    "churn.shape"
   ]
  },
  {
   "cell_type": "markdown",
   "id": "c666520f",
   "metadata": {},
   "source": [
    "### End Exercise 7.02\n"
   ]
  },
  {
   "cell_type": "markdown",
   "id": "72bc9f6e",
   "metadata": {},
   "source": [
    "## Exercise 7.03: Imputing Missing Values"
   ]
  },
  {
   "cell_type": "code",
   "execution_count": 16,
   "id": "97c15f58",
   "metadata": {},
   "outputs": [
    {
     "data": {
      "text/plain": [
       "True"
      ]
     },
     "execution_count": 16,
     "metadata": {},
     "output_type": "execute_result"
    }
   ],
   "source": [
    "#check for missing values \n",
    "\n",
    "churn.isnull().values.any()"
   ]
  },
  {
   "cell_type": "code",
   "execution_count": 17,
   "id": "65b59e6b",
   "metadata": {},
   "outputs": [
    {
     "data": {
      "text/plain": [
       "CustomerId         False\n",
       "CredRate           False\n",
       "Geography          False\n",
       "Gender              True\n",
       "Age                 True\n",
       "Tenure             False\n",
       "Balance            False\n",
       "Prod Number        False\n",
       "HasCrCard          False\n",
       "ActMem             False\n",
       "EstimatedSalary     True\n",
       "Exited             False\n",
       "dtype: bool"
      ]
     },
     "execution_count": 17,
     "metadata": {},
     "output_type": "execute_result"
    }
   ],
   "source": [
    "churn.isnull().any()"
   ]
  },
  {
   "cell_type": "markdown",
   "id": "42b7c115",
   "metadata": {},
   "source": [
    "**Gender, Age,** and **EstimatedSalary** columns are missing values. "
   ]
  },
  {
   "cell_type": "code",
   "execution_count": 18,
   "id": "756b41cc",
   "metadata": {},
   "outputs": [
    {
     "data": {
      "text/html": [
       "<div>\n",
       "<style scoped>\n",
       "    .dataframe tbody tr th:only-of-type {\n",
       "        vertical-align: middle;\n",
       "    }\n",
       "\n",
       "    .dataframe tbody tr th {\n",
       "        vertical-align: top;\n",
       "    }\n",
       "\n",
       "    .dataframe thead th {\n",
       "        text-align: right;\n",
       "    }\n",
       "</style>\n",
       "<table border=\"1\" class=\"dataframe\">\n",
       "  <thead>\n",
       "    <tr style=\"text-align: right;\">\n",
       "      <th></th>\n",
       "      <th>EstimatedSalary</th>\n",
       "      <th>Age</th>\n",
       "    </tr>\n",
       "  </thead>\n",
       "  <tbody>\n",
       "    <tr>\n",
       "      <th>count</th>\n",
       "      <td>9996.000000</td>\n",
       "      <td>9994.000000</td>\n",
       "    </tr>\n",
       "    <tr>\n",
       "      <th>mean</th>\n",
       "      <td>100074.744083</td>\n",
       "      <td>38.925255</td>\n",
       "    </tr>\n",
       "    <tr>\n",
       "      <th>std</th>\n",
       "      <td>57515.774555</td>\n",
       "      <td>10.489248</td>\n",
       "    </tr>\n",
       "    <tr>\n",
       "      <th>min</th>\n",
       "      <td>11.580000</td>\n",
       "      <td>18.000000</td>\n",
       "    </tr>\n",
       "    <tr>\n",
       "      <th>25%</th>\n",
       "      <td>50974.077500</td>\n",
       "      <td>32.000000</td>\n",
       "    </tr>\n",
       "    <tr>\n",
       "      <th>50%</th>\n",
       "      <td>100168.240000</td>\n",
       "      <td>37.000000</td>\n",
       "    </tr>\n",
       "    <tr>\n",
       "      <th>75%</th>\n",
       "      <td>149388.247500</td>\n",
       "      <td>44.000000</td>\n",
       "    </tr>\n",
       "    <tr>\n",
       "      <th>max</th>\n",
       "      <td>199992.480000</td>\n",
       "      <td>92.000000</td>\n",
       "    </tr>\n",
       "  </tbody>\n",
       "</table>\n",
       "</div>"
      ],
      "text/plain": [
       "       EstimatedSalary          Age\n",
       "count      9996.000000  9994.000000\n",
       "mean     100074.744083    38.925255\n",
       "std       57515.774555    10.489248\n",
       "min          11.580000    18.000000\n",
       "25%       50974.077500    32.000000\n",
       "50%      100168.240000    37.000000\n",
       "75%      149388.247500    44.000000\n",
       "max      199992.480000    92.000000"
      ]
     },
     "execution_count": 18,
     "metadata": {},
     "output_type": "execute_result"
    }
   ],
   "source": [
    "#Use the describe function to explore the data in the Age and EstimatedSalary Columns\n",
    "\n",
    "churn[['EstimatedSalary', 'Age']].describe()"
   ]
  },
  {
   "cell_type": "code",
   "execution_count": 19,
   "id": "04b02472",
   "metadata": {},
   "outputs": [
    {
     "data": {
      "text/html": [
       "<div>\n",
       "<style scoped>\n",
       "    .dataframe tbody tr th:only-of-type {\n",
       "        vertical-align: middle;\n",
       "    }\n",
       "\n",
       "    .dataframe tbody tr th {\n",
       "        vertical-align: top;\n",
       "    }\n",
       "\n",
       "    .dataframe thead th {\n",
       "        text-align: right;\n",
       "    }\n",
       "</style>\n",
       "<table border=\"1\" class=\"dataframe\">\n",
       "  <thead>\n",
       "    <tr style=\"text-align: right;\">\n",
       "      <th></th>\n",
       "      <th>CustomerId</th>\n",
       "      <th>CredRate</th>\n",
       "      <th>Age</th>\n",
       "      <th>Tenure</th>\n",
       "      <th>Balance</th>\n",
       "      <th>Prod Number</th>\n",
       "      <th>HasCrCard</th>\n",
       "      <th>ActMem</th>\n",
       "      <th>EstimatedSalary</th>\n",
       "      <th>Exited</th>\n",
       "    </tr>\n",
       "  </thead>\n",
       "  <tbody>\n",
       "    <tr>\n",
       "      <th>count</th>\n",
       "      <td>1.000000e+04</td>\n",
       "      <td>10000.000000</td>\n",
       "      <td>9994.000000</td>\n",
       "      <td>10000.000000</td>\n",
       "      <td>10000.000000</td>\n",
       "      <td>10000.000000</td>\n",
       "      <td>10000.00000</td>\n",
       "      <td>10000.000000</td>\n",
       "      <td>9996.000000</td>\n",
       "      <td>10000.000000</td>\n",
       "    </tr>\n",
       "    <tr>\n",
       "      <th>mean</th>\n",
       "      <td>1.569094e+07</td>\n",
       "      <td>650.528800</td>\n",
       "      <td>38.925255</td>\n",
       "      <td>5.012800</td>\n",
       "      <td>76485.889288</td>\n",
       "      <td>1.530200</td>\n",
       "      <td>0.70550</td>\n",
       "      <td>0.515100</td>\n",
       "      <td>100074.744083</td>\n",
       "      <td>0.203700</td>\n",
       "    </tr>\n",
       "    <tr>\n",
       "      <th>std</th>\n",
       "      <td>7.193619e+04</td>\n",
       "      <td>96.653299</td>\n",
       "      <td>10.489248</td>\n",
       "      <td>2.892174</td>\n",
       "      <td>62397.405202</td>\n",
       "      <td>0.581654</td>\n",
       "      <td>0.45584</td>\n",
       "      <td>0.499797</td>\n",
       "      <td>57515.774555</td>\n",
       "      <td>0.402769</td>\n",
       "    </tr>\n",
       "    <tr>\n",
       "      <th>min</th>\n",
       "      <td>1.556570e+07</td>\n",
       "      <td>350.000000</td>\n",
       "      <td>18.000000</td>\n",
       "      <td>0.000000</td>\n",
       "      <td>0.000000</td>\n",
       "      <td>1.000000</td>\n",
       "      <td>0.00000</td>\n",
       "      <td>0.000000</td>\n",
       "      <td>11.580000</td>\n",
       "      <td>0.000000</td>\n",
       "    </tr>\n",
       "    <tr>\n",
       "      <th>25%</th>\n",
       "      <td>1.562853e+07</td>\n",
       "      <td>584.000000</td>\n",
       "      <td>32.000000</td>\n",
       "      <td>3.000000</td>\n",
       "      <td>0.000000</td>\n",
       "      <td>1.000000</td>\n",
       "      <td>0.00000</td>\n",
       "      <td>0.000000</td>\n",
       "      <td>50974.077500</td>\n",
       "      <td>0.000000</td>\n",
       "    </tr>\n",
       "    <tr>\n",
       "      <th>50%</th>\n",
       "      <td>1.569074e+07</td>\n",
       "      <td>652.000000</td>\n",
       "      <td>37.000000</td>\n",
       "      <td>5.000000</td>\n",
       "      <td>97198.540000</td>\n",
       "      <td>1.000000</td>\n",
       "      <td>1.00000</td>\n",
       "      <td>1.000000</td>\n",
       "      <td>100168.240000</td>\n",
       "      <td>0.000000</td>\n",
       "    </tr>\n",
       "    <tr>\n",
       "      <th>75%</th>\n",
       "      <td>1.575323e+07</td>\n",
       "      <td>718.000000</td>\n",
       "      <td>44.000000</td>\n",
       "      <td>7.000000</td>\n",
       "      <td>127644.240000</td>\n",
       "      <td>2.000000</td>\n",
       "      <td>1.00000</td>\n",
       "      <td>1.000000</td>\n",
       "      <td>149388.247500</td>\n",
       "      <td>0.000000</td>\n",
       "    </tr>\n",
       "    <tr>\n",
       "      <th>max</th>\n",
       "      <td>1.581569e+07</td>\n",
       "      <td>850.000000</td>\n",
       "      <td>92.000000</td>\n",
       "      <td>10.000000</td>\n",
       "      <td>250898.090000</td>\n",
       "      <td>4.000000</td>\n",
       "      <td>1.00000</td>\n",
       "      <td>1.000000</td>\n",
       "      <td>199992.480000</td>\n",
       "      <td>1.000000</td>\n",
       "    </tr>\n",
       "  </tbody>\n",
       "</table>\n",
       "</div>"
      ],
      "text/plain": [
       "         CustomerId      CredRate          Age        Tenure        Balance  \\\n",
       "count  1.000000e+04  10000.000000  9994.000000  10000.000000   10000.000000   \n",
       "mean   1.569094e+07    650.528800    38.925255      5.012800   76485.889288   \n",
       "std    7.193619e+04     96.653299    10.489248      2.892174   62397.405202   \n",
       "min    1.556570e+07    350.000000    18.000000      0.000000       0.000000   \n",
       "25%    1.562853e+07    584.000000    32.000000      3.000000       0.000000   \n",
       "50%    1.569074e+07    652.000000    37.000000      5.000000   97198.540000   \n",
       "75%    1.575323e+07    718.000000    44.000000      7.000000  127644.240000   \n",
       "max    1.581569e+07    850.000000    92.000000     10.000000  250898.090000   \n",
       "\n",
       "        Prod Number    HasCrCard        ActMem  EstimatedSalary        Exited  \n",
       "count  10000.000000  10000.00000  10000.000000      9996.000000  10000.000000  \n",
       "mean       1.530200      0.70550      0.515100    100074.744083      0.203700  \n",
       "std        0.581654      0.45584      0.499797     57515.774555      0.402769  \n",
       "min        1.000000      0.00000      0.000000        11.580000      0.000000  \n",
       "25%        1.000000      0.00000      0.000000     50974.077500      0.000000  \n",
       "50%        1.000000      1.00000      1.000000    100168.240000      0.000000  \n",
       "75%        2.000000      1.00000      1.000000    149388.247500      0.000000  \n",
       "max        4.000000      1.00000      1.000000    199992.480000      1.000000  "
      ]
     },
     "execution_count": 19,
     "metadata": {},
     "output_type": "execute_result"
    }
   ],
   "source": [
    "churn.describe()"
   ]
  },
  {
   "cell_type": "markdown",
   "id": "9d0198b4",
   "metadata": {},
   "source": [
    "From the descriptive statistics we can observe that HasCrCard column is categorical"
   ]
  },
  {
   "cell_type": "code",
   "execution_count": 20,
   "id": "22f791cf",
   "metadata": {},
   "outputs": [
    {
     "data": {
      "text/plain": [
       "1    7055\n",
       "0    2945\n",
       "Name: HasCrCard, dtype: int64"
      ]
     },
     "execution_count": 20,
     "metadata": {},
     "output_type": "execute_result"
    }
   ],
   "source": [
    "#Check the count of 0's and 1's in the the column\n",
    "\n",
    "churn['HasCrCard'].value_counts()"
   ]
  },
  {
   "cell_type": "code",
   "execution_count": 21,
   "id": "78278651",
   "metadata": {},
   "outputs": [
    {
     "data": {
      "text/plain": [
       "CustomerId         0\n",
       "CredRate           0\n",
       "Geography          0\n",
       "Gender             4\n",
       "Age                6\n",
       "Tenure             0\n",
       "Balance            0\n",
       "Prod Number        0\n",
       "HasCrCard          0\n",
       "ActMem             0\n",
       "EstimatedSalary    4\n",
       "Exited             0\n",
       "dtype: int64"
      ]
     },
     "execution_count": 21,
     "metadata": {},
     "output_type": "execute_result"
    }
   ],
   "source": [
    "#Find out the total number of missing values\n",
    "\n",
    "churn.isnull().sum()"
   ]
  },
  {
   "cell_type": "code",
   "execution_count": 22,
   "id": "0bb5c75e",
   "metadata": {},
   "outputs": [
    {
     "data": {
      "text/plain": [
       "CustomerId         0.00\n",
       "CredRate           0.00\n",
       "Geography          0.00\n",
       "Gender             0.04\n",
       "Age                0.06\n",
       "Tenure             0.00\n",
       "Balance            0.00\n",
       "Prod Number        0.00\n",
       "HasCrCard          0.00\n",
       "ActMem             0.00\n",
       "EstimatedSalary    0.04\n",
       "Exited             0.00\n",
       "dtype: float64"
      ]
     },
     "execution_count": 22,
     "metadata": {},
     "output_type": "execute_result"
    }
   ],
   "source": [
    "#Find the percentage of missing values\n",
    "\n",
    "round(churn.isnull().sum()/len(churn)*100,2)"
   ]
  },
  {
   "cell_type": "code",
   "execution_count": 23,
   "id": "2492c800",
   "metadata": {},
   "outputs": [
    {
     "data": {
      "text/plain": [
       "Gender              object\n",
       "Age                float64\n",
       "EstimatedSalary    float64\n",
       "dtype: object"
      ]
     },
     "execution_count": 23,
     "metadata": {},
     "output_type": "execute_result"
    }
   ],
   "source": [
    "#Check the data types of the missing columns:\n",
    "\n",
    "churn[['Gender','Age','EstimatedSalary']].dtypes"
   ]
  },
  {
   "cell_type": "markdown",
   "id": "187cdba5",
   "metadata": {},
   "source": [
    "Impute the missing values. You can do this by dropping the rows that have missing values, filling in the missing values with a test statistic (Mean, Median, Mode), or predicting the missing values using a machine learning algorithm. "
   ]
  },
  {
   "cell_type": "code",
   "execution_count": 24,
   "id": "59dc4687",
   "metadata": {},
   "outputs": [],
   "source": [
    "#Fill the missing values for EstimatedSalary with the mean:\n",
    "\n",
    "mean_value = churn['EstimatedSalary'].mean()\n",
    "\n",
    "churn['EstimatedSalary'] = churn['EstimatedSalary'].fillna(mean_value)"
   ]
  },
  {
   "cell_type": "code",
   "execution_count": 25,
   "id": "c728d32b",
   "metadata": {},
   "outputs": [
    {
     "data": {
      "text/plain": [
       "Male      5453\n",
       "Female    4543\n",
       "Name: Gender, dtype: int64"
      ]
     },
     "execution_count": 25,
     "metadata": {},
     "output_type": "execute_result"
    }
   ],
   "source": [
    "#Check how many instances of each gender are present:\n",
    "\n",
    "churn['Gender'].value_counts()"
   ]
  },
  {
   "cell_type": "markdown",
   "id": "ffd8cb1f",
   "metadata": {},
   "source": [
    "As a rule of thumb, you fill the missing values with the more frequently occurring entry. "
   ]
  },
  {
   "cell_type": "code",
   "execution_count": 26,
   "id": "eab0abc7",
   "metadata": {},
   "outputs": [],
   "source": [
    "churn['Gender']=churn['Gender'].fillna(churn['Gender'].value_counts().idxmax())"
   ]
  },
  {
   "cell_type": "code",
   "execution_count": 27,
   "id": "34ddda92",
   "metadata": {},
   "outputs": [],
   "source": [
    "# Use the mode for Age to fill the missing values\n",
    "\n",
    "churn['Age'].mode()\n",
    "mode_value=churn['Age'].mode()\n",
    "churn['Age']=churn['Age'].fillna(mode_value[0])"
   ]
  },
  {
   "cell_type": "code",
   "execution_count": 28,
   "id": "622422b4",
   "metadata": {},
   "outputs": [
    {
     "data": {
      "text/plain": [
       "CustomerId         False\n",
       "CredRate           False\n",
       "Geography          False\n",
       "Gender             False\n",
       "Age                False\n",
       "Tenure             False\n",
       "Balance            False\n",
       "Prod Number        False\n",
       "HasCrCard          False\n",
       "ActMem             False\n",
       "EstimatedSalary    False\n",
       "Exited             False\n",
       "dtype: bool"
      ]
     },
     "execution_count": 28,
     "metadata": {},
     "output_type": "execute_result"
    }
   ],
   "source": [
    "#Check to see if the missing values have been imputed\n",
    "\n",
    "churn.isnull().any()"
   ]
  },
  {
   "cell_type": "markdown",
   "id": "8165a237",
   "metadata": {},
   "source": [
    "### End Exercise 7.03"
   ]
  },
  {
   "cell_type": "markdown",
   "id": "5cd7fc30",
   "metadata": {},
   "source": [
    "## Exercise 7.04: Renaming Columns and Changing the Data Type"
   ]
  },
  {
   "cell_type": "code",
   "execution_count": 29,
   "id": "668a66df",
   "metadata": {},
   "outputs": [
    {
     "data": {
      "text/plain": [
       "Index(['CustomerId', 'CreditScore', 'Geography', 'Gender', 'Age', 'Tenure',\n",
       "       'Balance', 'NumOfProducts', 'HasCrCard', 'IsActiveMember',\n",
       "       'EstimatedSalary', 'Churn'],\n",
       "      dtype='object')"
      ]
     },
     "execution_count": 29,
     "metadata": {},
     "output_type": "execute_result"
    }
   ],
   "source": [
    "#Rename the CredRate, ActMan, Prod Number, and Exited columns\n",
    "\n",
    "churn = churn.rename(columns={'CredRate':'CreditScore',\n",
    "                             'ActMem':'IsActiveMember',\n",
    "                             'Prod Number': 'NumOfProducts',\n",
    "                             'Exited':'Churn'})\n",
    "\n",
    "churn.columns"
   ]
  },
  {
   "cell_type": "code",
   "execution_count": 30,
   "id": "996a7ae4",
   "metadata": {},
   "outputs": [
    {
     "data": {
      "text/plain": [
       "Index(['CustomerId', 'CreditScore', 'Geography', 'Gender', 'Age', 'Tenure',\n",
       "       'Balance', 'NumOfProducts', 'HasCrCard', 'IsActiveMember',\n",
       "       'EstimatedSalary', 'Churn'],\n",
       "      dtype='object')"
      ]
     },
     "execution_count": 30,
     "metadata": {},
     "output_type": "execute_result"
    }
   ],
   "source": [
    "#Move Churn column to the right \n",
    "\n",
    "\n",
    "column_churn = churn['Churn']\n",
    "churn.drop(labels=['Churn'], axis = 1, inplace= True)\n",
    "churn.insert(len(churn.columns), 'Churn', column_churn.values)\n",
    "\n",
    "churn.columns"
   ]
  },
  {
   "cell_type": "code",
   "execution_count": 31,
   "id": "90e0400e",
   "metadata": {},
   "outputs": [],
   "source": [
    "#Change the data type of Geography, Gender, HasCrCard, Churn, IsActiveMember to Category\n",
    "\n",
    "churn['Geography'] = churn['Geography'].astype('category')\n",
    "churn['Gender'] = churn['Gender'].astype('category')\n",
    "churn['HasCrCard'] = churn['HasCrCard'].astype('category')\n",
    "churn['Churn'] = churn['Churn'].astype('category')\n",
    "churn['IsActiveMember'] = churn['IsActiveMember'].astype('category')"
   ]
  },
  {
   "cell_type": "code",
   "execution_count": 32,
   "id": "e7cdc950",
   "metadata": {},
   "outputs": [
    {
     "data": {
      "text/plain": [
       "CustomerId            int64\n",
       "CreditScore           int64\n",
       "Geography          category\n",
       "Gender             category\n",
       "Age                 float64\n",
       "Tenure                int64\n",
       "Balance             float64\n",
       "NumOfProducts         int64\n",
       "HasCrCard          category\n",
       "IsActiveMember     category\n",
       "EstimatedSalary     float64\n",
       "Churn              category\n",
       "dtype: object"
      ]
     },
     "execution_count": 32,
     "metadata": {},
     "output_type": "execute_result"
    }
   ],
   "source": [
    "churn.dtypes"
   ]
  },
  {
   "cell_type": "markdown",
   "id": "d4a7bf3b",
   "metadata": {},
   "source": [
    "### End Exercise 7.04"
   ]
  },
  {
   "cell_type": "markdown",
   "id": "19fc22a0",
   "metadata": {},
   "source": [
    "## Data Exploration\n",
    "\n",
    "1.  Statistical Overview\n",
    "- inspecting the data using general descriptive statistics. \n",
    "2.  Correlation\n",
    "- measures the linear relationship between two variables.\n",
    "- -1 Perfect negative relationship\n",
    "- 0 No linear Relationship\n",
    "- 1 Perfect positive relationship\n",
    "\n"
   ]
  },
  {
   "cell_type": "markdown",
   "id": "8fb3caa8",
   "metadata": {},
   "source": [
    "## Exercise 7.05: Obtaining the Statistical Overview and Correlation Plot\n",
    "\n",
    "Find the number of customers that churned using basic exploration techniques. Obtain the percent of customers who churned, the percentage of customers who have a credit card, and more. Plot a correlation Matrix. "
   ]
  },
  {
   "cell_type": "code",
   "execution_count": 33,
   "id": "cb5b4b53",
   "metadata": {},
   "outputs": [
    {
     "data": {
      "text/plain": [
       "0    7963\n",
       "1    2037\n",
       "Name: Churn, dtype: int64"
      ]
     },
     "execution_count": 33,
     "metadata": {},
     "output_type": "execute_result"
    }
   ],
   "source": [
    "#inspect how many customers have churned\n",
    "churn['Churn'].value_counts(0)"
   ]
  },
  {
   "cell_type": "markdown",
   "id": "811d0089",
   "metadata": {},
   "source": [
    "7963 Customers did not Churn, 2037 Customers have churned."
   ]
  },
  {
   "cell_type": "code",
   "execution_count": 34,
   "id": "fb2cff53",
   "metadata": {},
   "outputs": [
    {
     "data": {
      "text/plain": [
       "0    79.63\n",
       "1    20.37\n",
       "Name: Churn, dtype: float64"
      ]
     },
     "execution_count": 34,
     "metadata": {},
     "output_type": "execute_result"
    }
   ],
   "source": [
    "# inspect the percentage of customers who have left the bank\n",
    "\n",
    "churn['Churn'].value_counts(1)*100"
   ]
  },
  {
   "cell_type": "markdown",
   "id": "c040a757",
   "metadata": {},
   "source": [
    "20.37% have churned. "
   ]
  },
  {
   "cell_type": "code",
   "execution_count": 35,
   "id": "5c9192dc",
   "metadata": {},
   "outputs": [
    {
     "data": {
      "text/plain": [
       "1    70.55\n",
       "0    29.45\n",
       "Name: HasCrCard, dtype: float64"
      ]
     },
     "execution_count": 35,
     "metadata": {},
     "output_type": "execute_result"
    }
   ],
   "source": [
    "#inspect how many customers have a credit card\n",
    "\n",
    "churn['HasCrCard'].value_counts(1)*100"
   ]
  },
  {
   "cell_type": "markdown",
   "id": "d6337bfb",
   "metadata": {},
   "source": [
    "70.55% have a credit card. \n",
    "\n",
    "29.45% do not have a credit card"
   ]
  },
  {
   "cell_type": "code",
   "execution_count": 36,
   "id": "4cddd4d9",
   "metadata": {},
   "outputs": [
    {
     "data": {
      "text/html": [
       "<div>\n",
       "<style scoped>\n",
       "    .dataframe tbody tr th:only-of-type {\n",
       "        vertical-align: middle;\n",
       "    }\n",
       "\n",
       "    .dataframe tbody tr th {\n",
       "        vertical-align: top;\n",
       "    }\n",
       "\n",
       "    .dataframe thead th {\n",
       "        text-align: right;\n",
       "    }\n",
       "</style>\n",
       "<table border=\"1\" class=\"dataframe\">\n",
       "  <thead>\n",
       "    <tr style=\"text-align: right;\">\n",
       "      <th></th>\n",
       "      <th>CustomerId</th>\n",
       "      <th>CreditScore</th>\n",
       "      <th>Age</th>\n",
       "      <th>Tenure</th>\n",
       "      <th>Balance</th>\n",
       "      <th>NumOfProducts</th>\n",
       "      <th>EstimatedSalary</th>\n",
       "    </tr>\n",
       "  </thead>\n",
       "  <tbody>\n",
       "    <tr>\n",
       "      <th>count</th>\n",
       "      <td>1.000000e+04</td>\n",
       "      <td>10000.000000</td>\n",
       "      <td>10000.000000</td>\n",
       "      <td>10000.000000</td>\n",
       "      <td>10000.000000</td>\n",
       "      <td>10000.000000</td>\n",
       "      <td>10000.000000</td>\n",
       "    </tr>\n",
       "    <tr>\n",
       "      <th>mean</th>\n",
       "      <td>1.569094e+07</td>\n",
       "      <td>650.528800</td>\n",
       "      <td>38.924100</td>\n",
       "      <td>5.012800</td>\n",
       "      <td>76485.889288</td>\n",
       "      <td>1.530200</td>\n",
       "      <td>100074.744083</td>\n",
       "    </tr>\n",
       "    <tr>\n",
       "      <th>std</th>\n",
       "      <td>7.193619e+04</td>\n",
       "      <td>96.653299</td>\n",
       "      <td>10.486207</td>\n",
       "      <td>2.892174</td>\n",
       "      <td>62397.405202</td>\n",
       "      <td>0.581654</td>\n",
       "      <td>57504.269099</td>\n",
       "    </tr>\n",
       "    <tr>\n",
       "      <th>min</th>\n",
       "      <td>1.556570e+07</td>\n",
       "      <td>350.000000</td>\n",
       "      <td>18.000000</td>\n",
       "      <td>0.000000</td>\n",
       "      <td>0.000000</td>\n",
       "      <td>1.000000</td>\n",
       "      <td>11.580000</td>\n",
       "    </tr>\n",
       "    <tr>\n",
       "      <th>25%</th>\n",
       "      <td>1.562853e+07</td>\n",
       "      <td>584.000000</td>\n",
       "      <td>32.000000</td>\n",
       "      <td>3.000000</td>\n",
       "      <td>0.000000</td>\n",
       "      <td>1.000000</td>\n",
       "      <td>51002.110000</td>\n",
       "    </tr>\n",
       "    <tr>\n",
       "      <th>50%</th>\n",
       "      <td>1.569074e+07</td>\n",
       "      <td>652.000000</td>\n",
       "      <td>37.000000</td>\n",
       "      <td>5.000000</td>\n",
       "      <td>97198.540000</td>\n",
       "      <td>1.000000</td>\n",
       "      <td>100134.325000</td>\n",
       "    </tr>\n",
       "    <tr>\n",
       "      <th>75%</th>\n",
       "      <td>1.575323e+07</td>\n",
       "      <td>718.000000</td>\n",
       "      <td>44.000000</td>\n",
       "      <td>7.000000</td>\n",
       "      <td>127644.240000</td>\n",
       "      <td>2.000000</td>\n",
       "      <td>149382.097500</td>\n",
       "    </tr>\n",
       "    <tr>\n",
       "      <th>max</th>\n",
       "      <td>1.581569e+07</td>\n",
       "      <td>850.000000</td>\n",
       "      <td>92.000000</td>\n",
       "      <td>10.000000</td>\n",
       "      <td>250898.090000</td>\n",
       "      <td>4.000000</td>\n",
       "      <td>199992.480000</td>\n",
       "    </tr>\n",
       "  </tbody>\n",
       "</table>\n",
       "</div>"
      ],
      "text/plain": [
       "         CustomerId   CreditScore           Age        Tenure        Balance  \\\n",
       "count  1.000000e+04  10000.000000  10000.000000  10000.000000   10000.000000   \n",
       "mean   1.569094e+07    650.528800     38.924100      5.012800   76485.889288   \n",
       "std    7.193619e+04     96.653299     10.486207      2.892174   62397.405202   \n",
       "min    1.556570e+07    350.000000     18.000000      0.000000       0.000000   \n",
       "25%    1.562853e+07    584.000000     32.000000      3.000000       0.000000   \n",
       "50%    1.569074e+07    652.000000     37.000000      5.000000   97198.540000   \n",
       "75%    1.575323e+07    718.000000     44.000000      7.000000  127644.240000   \n",
       "max    1.581569e+07    850.000000     92.000000     10.000000  250898.090000   \n",
       "\n",
       "       NumOfProducts  EstimatedSalary  \n",
       "count   10000.000000     10000.000000  \n",
       "mean        1.530200    100074.744083  \n",
       "std         0.581654     57504.269099  \n",
       "min         1.000000        11.580000  \n",
       "25%         1.000000     51002.110000  \n",
       "50%         1.000000    100134.325000  \n",
       "75%         2.000000    149382.097500  \n",
       "max         4.000000    199992.480000  "
      ]
     },
     "execution_count": 36,
     "metadata": {},
     "output_type": "execute_result"
    }
   ],
   "source": [
    "# Get the statistical overview of the data\n",
    "\n",
    "churn.describe()"
   ]
  },
  {
   "cell_type": "code",
   "execution_count": 37,
   "id": "59ae2f27",
   "metadata": {},
   "outputs": [
    {
     "data": {
      "text/html": [
       "<div>\n",
       "<style scoped>\n",
       "    .dataframe tbody tr th:only-of-type {\n",
       "        vertical-align: middle;\n",
       "    }\n",
       "\n",
       "    .dataframe tbody tr th {\n",
       "        vertical-align: top;\n",
       "    }\n",
       "\n",
       "    .dataframe thead th {\n",
       "        text-align: right;\n",
       "    }\n",
       "</style>\n",
       "<table border=\"1\" class=\"dataframe\">\n",
       "  <thead>\n",
       "    <tr style=\"text-align: right;\">\n",
       "      <th></th>\n",
       "      <th>CustomerId</th>\n",
       "      <th>CreditScore</th>\n",
       "      <th>Age</th>\n",
       "      <th>Tenure</th>\n",
       "      <th>Balance</th>\n",
       "      <th>NumOfProducts</th>\n",
       "      <th>EstimatedSalary</th>\n",
       "    </tr>\n",
       "    <tr>\n",
       "      <th>Churn</th>\n",
       "      <th></th>\n",
       "      <th></th>\n",
       "      <th></th>\n",
       "      <th></th>\n",
       "      <th></th>\n",
       "      <th></th>\n",
       "      <th></th>\n",
       "    </tr>\n",
       "  </thead>\n",
       "  <tbody>\n",
       "    <tr>\n",
       "      <th>0</th>\n",
       "      <td>1.569117e+07</td>\n",
       "      <td>651.853196</td>\n",
       "      <td>37.411277</td>\n",
       "      <td>5.033279</td>\n",
       "      <td>72745.296779</td>\n",
       "      <td>1.544267</td>\n",
       "      <td>99718.932023</td>\n",
       "    </tr>\n",
       "    <tr>\n",
       "      <th>1</th>\n",
       "      <td>1.569005e+07</td>\n",
       "      <td>645.351497</td>\n",
       "      <td>44.837997</td>\n",
       "      <td>4.932744</td>\n",
       "      <td>91108.539337</td>\n",
       "      <td>1.475209</td>\n",
       "      <td>101465.677531</td>\n",
       "    </tr>\n",
       "  </tbody>\n",
       "</table>\n",
       "</div>"
      ],
      "text/plain": [
       "         CustomerId  CreditScore        Age    Tenure       Balance  \\\n",
       "Churn                                                                 \n",
       "0      1.569117e+07   651.853196  37.411277  5.033279  72745.296779   \n",
       "1      1.569005e+07   645.351497  44.837997  4.932744  91108.539337   \n",
       "\n",
       "       NumOfProducts  EstimatedSalary  \n",
       "Churn                                  \n",
       "0           1.544267     99718.932023  \n",
       "1           1.475209    101465.677531  "
      ]
     },
     "execution_count": 37,
     "metadata": {},
     "output_type": "execute_result"
    }
   ],
   "source": [
    "#Inspect the mean attributes of the customers who have cchurned campared to those who have not. \n",
    "\n",
    "summary_churn = churn.groupby('Churn')\n",
    "summary_churn.mean()"
   ]
  },
  {
   "cell_type": "code",
   "execution_count": 38,
   "id": "9c373660",
   "metadata": {},
   "outputs": [
    {
     "data": {
      "text/html": [
       "<div>\n",
       "<style scoped>\n",
       "    .dataframe tbody tr th:only-of-type {\n",
       "        vertical-align: middle;\n",
       "    }\n",
       "\n",
       "    .dataframe tbody tr th {\n",
       "        vertical-align: top;\n",
       "    }\n",
       "\n",
       "    .dataframe thead th {\n",
       "        text-align: right;\n",
       "    }\n",
       "</style>\n",
       "<table border=\"1\" class=\"dataframe\">\n",
       "  <thead>\n",
       "    <tr style=\"text-align: right;\">\n",
       "      <th></th>\n",
       "      <th>CustomerId</th>\n",
       "      <th>CreditScore</th>\n",
       "      <th>Age</th>\n",
       "      <th>Tenure</th>\n",
       "      <th>Balance</th>\n",
       "      <th>NumOfProducts</th>\n",
       "      <th>EstimatedSalary</th>\n",
       "    </tr>\n",
       "    <tr>\n",
       "      <th>Churn</th>\n",
       "      <th></th>\n",
       "      <th></th>\n",
       "      <th></th>\n",
       "      <th></th>\n",
       "      <th></th>\n",
       "      <th></th>\n",
       "      <th></th>\n",
       "    </tr>\n",
       "  </thead>\n",
       "  <tbody>\n",
       "    <tr>\n",
       "      <th>0</th>\n",
       "      <td>15691543.0</td>\n",
       "      <td>653.0</td>\n",
       "      <td>36.0</td>\n",
       "      <td>5.0</td>\n",
       "      <td>92072.68</td>\n",
       "      <td>2.0</td>\n",
       "      <td>99645.04</td>\n",
       "    </tr>\n",
       "    <tr>\n",
       "      <th>1</th>\n",
       "      <td>15688963.0</td>\n",
       "      <td>646.0</td>\n",
       "      <td>45.0</td>\n",
       "      <td>5.0</td>\n",
       "      <td>109349.29</td>\n",
       "      <td>1.0</td>\n",
       "      <td>102460.84</td>\n",
       "    </tr>\n",
       "  </tbody>\n",
       "</table>\n",
       "</div>"
      ],
      "text/plain": [
       "       CustomerId  CreditScore   Age  Tenure    Balance  NumOfProducts  \\\n",
       "Churn                                                                    \n",
       "0      15691543.0        653.0  36.0     5.0   92072.68            2.0   \n",
       "1      15688963.0        646.0  45.0     5.0  109349.29            1.0   \n",
       "\n",
       "       EstimatedSalary  \n",
       "Churn                   \n",
       "0             99645.04  \n",
       "1            102460.84  "
      ]
     },
     "execution_count": 38,
     "metadata": {},
     "output_type": "execute_result"
    }
   ],
   "source": [
    "#Find the median attributes of the customers\n",
    "\n",
    "summary_churn.median()"
   ]
  },
  {
   "cell_type": "code",
   "execution_count": 39,
   "id": "32fd0672",
   "metadata": {},
   "outputs": [
    {
     "data": {
      "text/html": [
       "<div>\n",
       "<style scoped>\n",
       "    .dataframe tbody tr th:only-of-type {\n",
       "        vertical-align: middle;\n",
       "    }\n",
       "\n",
       "    .dataframe tbody tr th {\n",
       "        vertical-align: top;\n",
       "    }\n",
       "\n",
       "    .dataframe thead th {\n",
       "        text-align: right;\n",
       "    }\n",
       "</style>\n",
       "<table border=\"1\" class=\"dataframe\">\n",
       "  <thead>\n",
       "    <tr style=\"text-align: right;\">\n",
       "      <th></th>\n",
       "      <th>CustomerId</th>\n",
       "      <th>CreditScore</th>\n",
       "      <th>Age</th>\n",
       "      <th>Tenure</th>\n",
       "      <th>Balance</th>\n",
       "      <th>NumOfProducts</th>\n",
       "      <th>EstimatedSalary</th>\n",
       "    </tr>\n",
       "  </thead>\n",
       "  <tbody>\n",
       "    <tr>\n",
       "      <th>CustomerId</th>\n",
       "      <td>1.000000</td>\n",
       "      <td>0.005308</td>\n",
       "      <td>0.009696</td>\n",
       "      <td>-0.014883</td>\n",
       "      <td>-0.012419</td>\n",
       "      <td>0.016972</td>\n",
       "      <td>0.015272</td>\n",
       "    </tr>\n",
       "    <tr>\n",
       "      <th>CreditScore</th>\n",
       "      <td>0.005308</td>\n",
       "      <td>1.000000</td>\n",
       "      <td>-0.004179</td>\n",
       "      <td>0.000842</td>\n",
       "      <td>0.006268</td>\n",
       "      <td>0.012238</td>\n",
       "      <td>-0.001352</td>\n",
       "    </tr>\n",
       "    <tr>\n",
       "      <th>Age</th>\n",
       "      <td>0.009696</td>\n",
       "      <td>-0.004179</td>\n",
       "      <td>1.000000</td>\n",
       "      <td>-0.009996</td>\n",
       "      <td>0.028141</td>\n",
       "      <td>-0.030590</td>\n",
       "      <td>-0.007215</td>\n",
       "    </tr>\n",
       "    <tr>\n",
       "      <th>Tenure</th>\n",
       "      <td>-0.014883</td>\n",
       "      <td>0.000842</td>\n",
       "      <td>-0.009996</td>\n",
       "      <td>1.000000</td>\n",
       "      <td>-0.012254</td>\n",
       "      <td>0.013444</td>\n",
       "      <td>0.007407</td>\n",
       "    </tr>\n",
       "    <tr>\n",
       "      <th>Balance</th>\n",
       "      <td>-0.012419</td>\n",
       "      <td>0.006268</td>\n",
       "      <td>0.028141</td>\n",
       "      <td>-0.012254</td>\n",
       "      <td>1.000000</td>\n",
       "      <td>-0.304180</td>\n",
       "      <td>0.013129</td>\n",
       "    </tr>\n",
       "    <tr>\n",
       "      <th>NumOfProducts</th>\n",
       "      <td>0.016972</td>\n",
       "      <td>0.012238</td>\n",
       "      <td>-0.030590</td>\n",
       "      <td>0.013444</td>\n",
       "      <td>-0.304180</td>\n",
       "      <td>1.000000</td>\n",
       "      <td>0.014132</td>\n",
       "    </tr>\n",
       "    <tr>\n",
       "      <th>EstimatedSalary</th>\n",
       "      <td>0.015272</td>\n",
       "      <td>-0.001352</td>\n",
       "      <td>-0.007215</td>\n",
       "      <td>0.007407</td>\n",
       "      <td>0.013129</td>\n",
       "      <td>0.014132</td>\n",
       "      <td>1.000000</td>\n",
       "    </tr>\n",
       "  </tbody>\n",
       "</table>\n",
       "</div>"
      ],
      "text/plain": [
       "                 CustomerId  CreditScore       Age    Tenure   Balance  \\\n",
       "CustomerId         1.000000     0.005308  0.009696 -0.014883 -0.012419   \n",
       "CreditScore        0.005308     1.000000 -0.004179  0.000842  0.006268   \n",
       "Age                0.009696    -0.004179  1.000000 -0.009996  0.028141   \n",
       "Tenure            -0.014883     0.000842 -0.009996  1.000000 -0.012254   \n",
       "Balance           -0.012419     0.006268  0.028141 -0.012254  1.000000   \n",
       "NumOfProducts      0.016972     0.012238 -0.030590  0.013444 -0.304180   \n",
       "EstimatedSalary    0.015272    -0.001352 -0.007215  0.007407  0.013129   \n",
       "\n",
       "                 NumOfProducts  EstimatedSalary  \n",
       "CustomerId            0.016972         0.015272  \n",
       "CreditScore           0.012238        -0.001352  \n",
       "Age                  -0.030590        -0.007215  \n",
       "Tenure                0.013444         0.007407  \n",
       "Balance              -0.304180         0.013129  \n",
       "NumOfProducts         1.000000         0.014132  \n",
       "EstimatedSalary       0.014132         1.000000  "
      ]
     },
     "execution_count": 39,
     "metadata": {},
     "output_type": "execute_result"
    }
   ],
   "source": [
    "# Use seaborn to plot a correlation matrix\n",
    "\n",
    "churn.corr()\n"
   ]
  },
  {
   "cell_type": "code",
   "execution_count": 40,
   "id": "17a3c565",
   "metadata": {},
   "outputs": [
    {
     "data": {
      "text/plain": [
       "<AxesSubplot:>"
      ]
     },
     "execution_count": 40,
     "metadata": {},
     "output_type": "execute_result"
    },
    {
     "data": {
      "image/png": "[encoded data removed]",
      "text/plain": [
       "<Figure size 1080x576 with 2 Axes>"
      ]
     },
     "metadata": {
      "needs_background": "light"
     },
     "output_type": "display_data"
    }
   ],
   "source": [
    "corr = churn.corr()\n",
    "plt.figure(figsize=(15,8))\n",
    "sns.heatmap(corr,\n",
    "           xticklabels=corr.columns.values,\n",
    "           yticklabels=corr.columns.values,\n",
    "           annot=True, cmap='Greys_r')"
   ]
  },
  {
   "cell_type": "markdown",
   "id": "572cb9e1",
   "metadata": {},
   "source": [
    "The correlation statistics and plot provides the correlation between our continuous features. \n",
    "\n",
    "- NumOfProducts and Balance have a negative correlation of -0.304\n",
    "- Balance and Age have a positive correlation of 0.028\n",
    "- The magnitude of the correlation decides to what extent the change in value in one feature affects the change in value in the second feature\n",
    "- Change in NumOfProducts will have a stronger effect on Balance than it will on Age."
   ]
  },
  {
   "cell_type": "markdown",
   "id": "11e949fd",
   "metadata": {},
   "source": [
    "### End Exercise 7.05"
   ]
  },
  {
   "cell_type": "markdown",
   "id": "2d00ea61",
   "metadata": {},
   "source": [
    "## Visualizing Data\n",
    "\n",
    "- Univariate data analysis focuses on 1 variable\n",
    "- Bivariate data analysis requires understanding the effect of one variable on another.\n",
    "\n",
    "- Bar Chart & Histogram help in understanding the distribution of a feature in the dataset (Univariate)\n",
    "- Scatterplot helps analyze two continuous variables present in the dataset (Bivariate)\n"
   ]
  },
  {
   "cell_type": "markdown",
   "id": "0c7d11b9",
   "metadata": {},
   "source": [
    "| EDA for Univariate Data | EDA for Bivariate Data |\n",
    "| ----------- | ----------- |\n",
    "| **1. Distribution Analysis| 1. Two categorical Variables Analysis** |\n",
    "| A. Bar Chart | A. Mosaic Plot |\n",
    "| B. Histogram | B. Trellis Bar Chart|\n",
    "| **2. Deviation Analysis | 2. Two Continuous Variables** |\n",
    "| A. Boxplot |  A. Scatter Plot |\n",
    "|             | B. Scatter Plot Matrix|\n",
    "|            | C. Trellis Scatter Plots|\n",
    "| **3. Part Whole Analysis | 3. Part whole Analysis** |\n",
    "| A. Pie Chart | A. Pie Chart |\n",
    "| B. Pareto Chart | B. Pareto Chart|\n",
    "| **4. Trend Patterns | 4. One Categorical and One Continuous**|\n",
    "| A. Line Graph | A. Trellis Box Plot / Histogram |"
   ]
  },
  {
   "cell_type": "markdown",
   "id": "414afc46",
   "metadata": {},
   "source": [
    "### Types of Seaborn Plots\n",
    "\n",
    "- sns.distplot (histplot or displot) , Distribution Plot for univariate continuous variables. \n",
    "- sns.countplot , Distribution of categorical/discrete variables, bivariate. \n",
    "- sns.kdeplot , Distribution of observations for continuous Variables, Univariate\n",
    "- sns.barplot , plot bar plots, Bivariate"
   ]
  },
  {
   "cell_type": "markdown",
   "id": "6a9822f6",
   "metadata": {},
   "source": [
    "## Exercise 7.06: Performing Exploratory Data Analysis (EDA)\n",
    "\n",
    "Perform EDA on the churn_modelling dataset. Come up with inferences , and relationships between features such as geography, customer age, customer bank balance, and more with respect to churn. "
   ]
  },
  {
   "cell_type": "code",
   "execution_count": 41,
   "id": "496dc743",
   "metadata": {},
   "outputs": [
    {
     "data": {
      "text/plain": [
       "Text(0, 0.5, 'No of Customers')"
      ]
     },
     "execution_count": 41,
     "metadata": {},
     "output_type": "execute_result"
    },
    {
     "data": {
      "image/png": "[encoded data removed]",
      "text/plain": [
       "<Figure size 1080x432 with 3 Axes>"
      ]
     },
     "metadata": {
      "needs_background": "light"
     },
     "output_type": "display_data"
    }
   ],
   "source": [
    "# Start with Univariate analysis. Plot the distribution graph of customers for the Estimated Salary, Age, and Balance.\n",
    "\n",
    "f, axes = plt.subplots(ncols=3, figsize=(15,6))\n",
    "\n",
    "\n",
    "#EstimatedSalary\n",
    "sns.histplot(churn.EstimatedSalary, kde = True, \n",
    "            ax = axes[0]).set_title('EstimatedSalary')\n",
    "axes[0].set_ylabel('No of Customers')\n",
    "\n",
    "\n",
    "#Age\n",
    "sns.histplot(churn.Age, kde = True, \n",
    "            ax = axes[1]).set_title('Age')\n",
    "axes[1].set_ylabel('No of Customers')\n",
    "\n",
    "\n",
    "\n",
    "#Balance\n",
    "sns.histplot(churn.Balance, kde = True, \n",
    "            ax = axes[2]).set_title('Balance')\n",
    "axes[2].set_ylabel('No of Customers')"
   ]
  },
  {
   "cell_type": "markdown",
   "id": "e646e963",
   "metadata": {},
   "source": [
    "- **EstimatedSalary:** The distribution seems to be a plateau distribution. More or less constant. \n",
    "\n",
    "- **Age:** Normal distribution skewed to the right. majority of customers lie within the 30 - 45 range.\n",
    "\n",
    "- **Balance:** Bimodal Distribution, Outlier exists. "
   ]
  },
  {
   "cell_type": "code",
   "execution_count": 42,
   "id": "8899c3e0",
   "metadata": {},
   "outputs": [
    {
     "data": {
      "text/plain": [
       "Text(0.5, 1.0, 'Customer Churn Distribution by Gender')"
      ]
     },
     "execution_count": 42,
     "metadata": {},
     "output_type": "execute_result"
    },
    {
     "data": {
      "image/png": "[encoded data removed]",
      "text/plain": [
       "<Figure size 1080x288 with 1 Axes>"
      ]
     },
     "metadata": {
      "needs_background": "light"
     },
     "output_type": "display_data"
    }
   ],
   "source": [
    "# Bivariate Analysis, Inspect whether there is a difference in churn for Gender. \n",
    "\n",
    "plt.figure(figsize=(15,4))\n",
    "\n",
    "p=sns.countplot(y='Gender', hue='Churn', data=churn)\n",
    "legend= p.get_legend()\n",
    "legend_txt = legend.texts\n",
    "legend_txt[0].set_text('No Churn')\n",
    "legend_txt[1].set_text('Churn')\n",
    "p.set_title('Customer Churn Distribution by Gender')"
   ]
  },
  {
   "cell_type": "markdown",
   "id": "7c781414",
   "metadata": {},
   "source": [
    "Females have more churn. "
   ]
  },
  {
   "cell_type": "code",
   "execution_count": 43,
   "id": "f86f0722",
   "metadata": {},
   "outputs": [
    {
     "data": {
      "text/plain": [
       "Text(0.5, 1.0, 'Customer Geography Distribution ')"
      ]
     },
     "execution_count": 43,
     "metadata": {},
     "output_type": "execute_result"
    },
    {
     "data": {
      "image/png": "[encoded data removed]",
      "text/plain": [
       "<Figure size 1080x288 with 1 Axes>"
      ]
     },
     "metadata": {
      "needs_background": "light"
     },
     "output_type": "display_data"
    }
   ],
   "source": [
    "#plot geography versus churn\n",
    "\n",
    "plt.figure(figsize=(15,4))\n",
    "\n",
    "p=sns.countplot(x='Geography', hue='Churn', data=churn)\n",
    "legend= p.get_legend()\n",
    "legend_txt = legend.texts\n",
    "legend_txt[0].set_text('No Churn')\n",
    "legend_txt[1].set_text('Churn')\n",
    "p.set_title('Customer Geography Distribution ')"
   ]
  },
  {
   "cell_type": "markdown",
   "id": "0fce2963",
   "metadata": {},
   "source": [
    "Those that Churned and did not churn is less for Germanny and Spain in comparison to France. Ffrance has the highest number of customers. "
   ]
  },
  {
   "cell_type": "code",
   "execution_count": 44,
   "id": "497ebd61",
   "metadata": {},
   "outputs": [
    {
     "data": {
      "text/plain": [
       "Text(0.5, 1.0, 'Customer Distribution by Product ')"
      ]
     },
     "execution_count": 44,
     "metadata": {},
     "output_type": "execute_result"
    },
    {
     "data": {
      "image/png": "[encoded data removed]",
      "text/plain": [
       "<Figure size 1080x288 with 1 Axes>"
      ]
     },
     "metadata": {
      "needs_background": "light"
     },
     "output_type": "display_data"
    }
   ],
   "source": [
    "#Plot NumOfProducts versus Churn\n",
    "\n",
    "plt.figure(figsize=(15,4))\n",
    "\n",
    "p=sns.countplot(x='NumOfProducts', hue='Churn', data=churn)\n",
    "legend= p.get_legend()\n",
    "legend_txt = legend.texts\n",
    "legend_txt[0].set_text('No Churn')\n",
    "legend_txt[1].set_text('Churn')\n",
    "p.set_title('Customer Distribution by Product ')"
   ]
  },
  {
   "cell_type": "markdown",
   "id": "853e26af",
   "metadata": {},
   "source": [
    "Largest Churn was where number of Products is 1. "
   ]
  },
  {
   "cell_type": "code",
   "execution_count": 45,
   "id": "d9fd046c",
   "metadata": {},
   "outputs": [
    {
     "data": {
      "text/plain": [
       "<matplotlib.legend.Legend at 0x7fd952a20e80>"
      ]
     },
     "execution_count": 45,
     "metadata": {},
     "output_type": "execute_result"
    },
    {
     "data": {
      "image/png": "[encoded data removed]",
      "text/plain": [
       "<Figure size 1080x288 with 1 Axes>"
      ]
     },
     "metadata": {
      "needs_background": "light"
     },
     "output_type": "display_data"
    }
   ],
   "source": [
    "#inspect Churn versus Age\n",
    "\n",
    "plt.figure(figsize=(15,4))\n",
    "\n",
    "ax = sns.kdeplot(churn.loc[(churn['Churn'] == 0), 'Age'], shade= True)\n",
    "\n",
    "ax = sns.kdeplot(churn.loc[(churn['Churn'] == 1), 'Age'], shade = True, label ='Churn')\n",
    "ax.set(xlabel='Customer Age', ylabel = 'Frequency')\n",
    "plt.title('Customer Age - Churn vs No Churn')\n",
    "plt.legend()"
   ]
  },
  {
   "cell_type": "markdown",
   "id": "bde42aa4",
   "metadata": {},
   "source": [
    "As the age of the customer increases, they usually churn more. "
   ]
  },
  {
   "cell_type": "code",
   "execution_count": 46,
   "id": "c1093bc9",
   "metadata": {},
   "outputs": [
    {
     "data": {
      "text/plain": [
       "<matplotlib.legend.Legend at 0x7fd9533fbd30>"
      ]
     },
     "execution_count": 46,
     "metadata": {},
     "output_type": "execute_result"
    },
    {
     "data": {
      "image/png": "[encoded data removed]",
      "text/plain": [
       "<Figure size 1080x288 with 1 Axes>"
      ]
     },
     "metadata": {
      "needs_background": "light"
     },
     "output_type": "display_data"
    }
   ],
   "source": [
    "#plot Balance vs Churn\n",
    "\n",
    "plt.figure(figsize=(15,4))\n",
    "\n",
    "ax = sns.kdeplot(churn.loc[(churn['Churn'] == 0), 'Balance'], shade= True)\n",
    "\n",
    "ax = sns.kdeplot(churn.loc[(churn['Churn'] == 1), 'Balance'], shade = True, label ='Churn')\n",
    "ax.set(xlabel='Customer Balance', ylabel = 'Frequency')\n",
    "plt.title('Customer Balance - Churn vs No Churn')\n",
    "plt.legend()"
   ]
  },
  {
   "cell_type": "markdown",
   "id": "529749bb",
   "metadata": {},
   "source": [
    "Customers with a negative to low balance churn less than customer with a balance between 75k - 150k. "
   ]
  },
  {
   "cell_type": "code",
   "execution_count": 47,
   "id": "092a9ee8",
   "metadata": {},
   "outputs": [
    {
     "data": {
      "text/plain": [
       "<matplotlib.legend.Legend at 0x7fd9535bb850>"
      ]
     },
     "execution_count": 47,
     "metadata": {},
     "output_type": "execute_result"
    },
    {
     "data": {
      "image/png": "[encoded data removed]",
      "text/plain": [
       "<Figure size 1080x288 with 1 Axes>"
      ]
     },
     "metadata": {
      "needs_background": "light"
     },
     "output_type": "display_data"
    }
   ],
   "source": [
    "#Plot Credit Score versus Churn \n",
    "\n",
    "plt.figure(figsize=(15,4))\n",
    "\n",
    "ax = sns.kdeplot(churn.loc[(churn['Churn'] == 0), 'CreditScore'], shade= True)\n",
    "\n",
    "ax = sns.kdeplot(churn.loc[(churn['Churn'] == 1), 'CreditScore'], shade = True, label ='Churn')\n",
    "ax.set(xlabel='Credit Score', ylabel = 'Frequency')\n",
    "plt.title('Customer Credit Score - Churn vs No Churn')\n",
    "plt.legend()"
   ]
  },
  {
   "cell_type": "markdown",
   "id": "6159d82c",
   "metadata": {},
   "source": [
    "Credit Scores around 600 churn while Credit scores around 650 did not. "
   ]
  },
  {
   "cell_type": "code",
   "execution_count": 48,
   "id": "86ccc2eb",
   "metadata": {},
   "outputs": [
    {
     "data": {
      "text/plain": [
       "Text(0.5, 1.0, 'Number of Product VS Balance')"
      ]
     },
     "execution_count": 48,
     "metadata": {},
     "output_type": "execute_result"
    },
    {
     "data": {
      "image/png": "[encoded data removed]",
      "text/plain": [
       "<Figure size 1080x288 with 1 Axes>"
      ]
     },
     "metadata": {
      "needs_background": "light"
     },
     "output_type": "display_data"
    }
   ],
   "source": [
    "#Compare 3 variables by plotting Balance vs NumOfProducts by Churn\n",
    "\n",
    "plt.figure(figsize=(15,4))\n",
    "\n",
    "p=sns.barplot(x='NumOfProducts', y = 'Balance', hue = 'Churn',\n",
    "             data = churn)\n",
    "p.legend(loc='upper right')\n",
    "legend = p.get_legend()\n",
    "legend_txt = legend.texts\n",
    "legend_txt[0].set_text('No Churn')\n",
    "legend_txt[1].set_text('Churn')\n",
    "p.set_title('Number of Product VS Balance')"
   ]
  },
  {
   "cell_type": "markdown",
   "id": "8d3fad07",
   "metadata": {},
   "source": [
    "As the number of products increase, the balance for churned customers remains very high. "
   ]
  },
  {
   "cell_type": "markdown",
   "id": "83cec879",
   "metadata": {},
   "source": [
    "### End Exercise 7.06"
   ]
  },
  {
   "cell_type": "markdown",
   "id": "3dc1157f",
   "metadata": {},
   "source": [
    "## Modeling the Data\n",
    "\n",
    "### Benefits of Feature Selection \n",
    "- **Reduces Training Time**\n",
    "- **Reduces Overfitting**\n",
    "- **Improves the Accuracy**\n",
    "\n",
    "### Methods for Selecting Features\n",
    "- **Univariate Feature Selection**\n",
    "- **Recursive Feature Selection**\n",
    "- **Principal Component Analysis (PCA)**\n",
    "- **Tree-based Feature Selection** "
   ]
  },
  {
   "cell_type": "markdown",
   "id": "d0c33c7f",
   "metadata": {},
   "source": [
    "## Exercise 7.07: Performing Feature Selection\n",
    "Perform feature selection using a tree-based selection method that performs well on classification tasks. \n"
   ]
  },
  {
   "cell_type": "code",
   "execution_count": 49,
   "id": "3096dde2",
   "metadata": {},
   "outputs": [],
   "source": [
    "from sklearn.ensemble import RandomForestClassifier\n",
    "\n",
    "from sklearn.model_selection import train_test_split"
   ]
  },
  {
   "cell_type": "code",
   "execution_count": 50,
   "id": "382a48fa",
   "metadata": {},
   "outputs": [],
   "source": [
    "#Encode the categorial variables\n",
    "\n",
    "churn.dtypes\n",
    "\n",
    "churn['Geography'] = churn['Geography'].astype('category').cat.codes\n",
    "churn['Gender'] = churn['Gender'].astype('category').cat.codes\n",
    "churn['HasCrCard'] = churn['HasCrCard'].astype('category').cat.codes\n",
    "churn['Churn'] = churn['Churn'].astype('category').cat.codes"
   ]
  },
  {
   "cell_type": "code",
   "execution_count": 51,
   "id": "46219fea",
   "metadata": {},
   "outputs": [],
   "source": [
    "#split the data into training and testing sets\n",
    "\n",
    "target = 'Churn'\n",
    "X = churn.drop('Churn', axis=1)\n",
    "y=churn[target]\n",
    "\n",
    "X_trainM, X_testM, y_trainM, y_testM = train_test_split(X,y, test_size=.15,random_state=123,stratify=y)"
   ]
  },
  {
   "cell_type": "code",
   "execution_count": 53,
   "id": "cce90e6c",
   "metadata": {},
   "outputs": [
    {
     "data": {
      "text/plain": [
       "RandomForestClassifier(n_estimators=500, random_state=1)"
      ]
     },
     "execution_count": 53,
     "metadata": {},
     "output_type": "execute_result"
    }
   ],
   "source": [
    "#Fit the model in the random forest classifier for feature selection\n",
    "\n",
    "forest = RandomForestClassifier(n_estimators=500, random_state=1)\n",
    "\n",
    "forest.fit(X_trainM, y_trainM)"
   ]
  },
  {
   "cell_type": "code",
   "execution_count": 55,
   "id": "bb4388e6",
   "metadata": {},
   "outputs": [],
   "source": [
    "# CAll teh random forest Feature_Importances_\n",
    "\n",
    "importances = forest.feature_importances_"
   ]
  },
  {
   "cell_type": "code",
   "execution_count": 65,
   "id": "f62815b4",
   "metadata": {},
   "outputs": [],
   "source": [
    "# Create a variable named features and store all columns except the target. Sort with NumPy's argsort function\n",
    "\n",
    "features = churn.drop(['Churn'], axis=1).columns\n",
    "\n",
    "indices = np.argsort(importances)[::-1]"
   ]
  },
  {
   "cell_type": "code",
   "execution_count": 66,
   "id": "a9f5c95a",
   "metadata": {},
   "outputs": [
    {
     "data": {
      "image/png": "[encoded data removed]",
      "text/plain": [
       "<Figure size 1080x288 with 1 Axes>"
      ]
     },
     "metadata": {
      "needs_background": "light"
     },
     "output_type": "display_data"
    }
   ],
   "source": [
    "#plot the features obtained\n",
    "\n",
    "plt.figure(figsize=(15,4))\n",
    "plt.title('Feature Importances using Random Forest')\n",
    "plt.bar(range(X_trainM.shape[1]),importances[indices], align='center')\n",
    "plt.xticks(range(X_trainM.shape[1]), features[indices],\n",
    "          rotation='vertical', fontsize=15)\n",
    "plt.xlim([-1, X_trainM.shape[1]])\n",
    "plt.show()"
   ]
  },
  {
   "cell_type": "markdown",
   "id": "abcef906",
   "metadata": {},
   "source": [
    "The top 5 most important features are:\n",
    "1. Age\n",
    "2. NumOfProducts\n",
    "3. Balance\n",
    "4. EstimatedSalary\n",
    "5. CreditScore"
   ]
  },
  {
   "cell_type": "code",
   "execution_count": 68,
   "id": "98920b3c",
   "metadata": {},
   "outputs": [
    {
     "name": "stdout",
     "output_type": "stream",
     "text": [
      "            Feature  Importance\n",
      "0        CustomerId    0.119144\n",
      "1       CreditScore    0.118316\n",
      "2         Geography    0.034728\n",
      "3            Gender    0.017226\n",
      "4               Age    0.226433\n",
      "5            Tenure    0.067542\n",
      "6           Balance    0.119634\n",
      "7     NumOfProducts    0.123679\n",
      "8         HasCrCard    0.016369\n",
      "9    IsActiveMember    0.037644\n",
      "10  EstimatedSalary    0.119285\n"
     ]
    }
   ],
   "source": [
    "#Place features of importance in a DataFrame\n",
    "\n",
    "feature_importance_df = pd.DataFrame({'Feature':features,\n",
    "                                     'Importance':importances})\n",
    "print(feature_importance_df)"
   ]
  },
  {
   "cell_type": "markdown",
   "id": "2ad43539",
   "metadata": {},
   "source": [
    "### End Exercise 7.07"
   ]
  },
  {
   "cell_type": "markdown",
   "id": "267f0955",
   "metadata": {},
   "source": [
    "## Model Building\n",
    "\n",
    "Fit a logistic regression model on the most relevant features\n",
    "\n",
    "Use Statsmodel package. \n",
    "- import statsmodel.api as sm\n",
    "\n",
    "create a logistic regression model\n",
    "- logreg = sm.Logit(y_train, x_train)\n",
    "- logistic_regression = logReg.fit()\n",
    "\n",
    "obtain the summary and model parameters:\n",
    "- logistic_regression.summary\n",
    "- logistic_regression.params"
   ]
  },
  {
   "cell_type": "markdown",
   "id": "7c3a6d0d",
   "metadata": {},
   "source": [
    "## Exercise 7.08: Building a Logistic Regression Model\n",
    "Previously, the importance value of all the features were extracted. \n",
    "Build a logistic Regression model using the 5 most revelant features for predicting customer churn. \n",
    "\n",
    "The Customer's Attributes are: \n",
    "- Age: 50\n",
    "- EstimatedSalary: 100,000\n",
    "- CreditScore: 600\n",
    "- Balance: 100,000\n",
    "- NumOfProducts: 2"
   ]
  },
  {
   "cell_type": "code",
   "execution_count": 70,
   "id": "3d32e20a",
   "metadata": {},
   "outputs": [
    {
     "name": "stdout",
     "output_type": "stream",
     "text": [
      "Optimization terminated successfully.\n",
      "         Current function value: 0.472882\n",
      "         Iterations 6\n"
     ]
    }
   ],
   "source": [
    "#import Statsmodel package\n",
    "\n",
    "import statsmodels.api as sm\n",
    "\n",
    "top5_features = ['Age', 'EstimatedSalary', 'CreditScore','Balance','NumOfProducts']\n",
    "\n",
    "logReg = sm. Logit(y_trainM, X_trainM[top5_features])\n",
    "\n",
    "logistic_regression = logReg.fit()"
   ]
  },
  {
   "cell_type": "code",
   "execution_count": 71,
   "id": "72aec7c3",
   "metadata": {},
   "outputs": [
    {
     "data": {
      "text/plain": [
       "Age                0.048335\n",
       "EstimatedSalary   -0.000001\n",
       "CreditScore       -0.004470\n",
       "Balance            0.000003\n",
       "NumOfProducts     -0.361678\n",
       "dtype: float64"
      ]
     },
     "execution_count": 71,
     "metadata": {},
     "output_type": "execute_result"
    }
   ],
   "source": [
    "# Obtain the summary and parameters of the model\n",
    "\n",
    "logistic_regression.summary\n",
    "logistic_regression.params"
   ]
  },
  {
   "cell_type": "markdown",
   "id": "620ad713",
   "metadata": {},
   "source": [
    "EstimatedSalary and Balance have a small effect compared to the others."
   ]
  },
  {
   "cell_type": "code",
   "execution_count": 73,
   "id": "f8b41ad6",
   "metadata": {},
   "outputs": [],
   "source": [
    "#create a function to compute the coefficients\n",
    "\n",
    "coef = logistic_regression.params\n",
    "\n",
    "def y (coef, Age, EstimatedSalary, CreditScore, Balance, NumOfProducts) : \n",
    "    return coef[0]*Age+ coef[1]*EstimatedSalary+coef[2]*CreditScore+coef[1]*Balance+coef[2]*NumOfProducts"
   ]
  },
  {
   "cell_type": "markdown",
   "id": "2fd16de5",
   "metadata": {},
   "source": [
    "The Customer's Attributes are:\n",
    "\n",
    "- Age: 50\n",
    "- EstimatedSalary: 100,000\n",
    "- CreditScore: 600\n",
    "- Balance: 100,000\n",
    "- NumOfProducts: 2"
   ]
  },
  {
   "cell_type": "code",
   "execution_count": 74,
   "id": "daab969e",
   "metadata": {},
   "outputs": [
    {
     "data": {
      "text/plain": [
       "0.3823017864835243"
      ]
     },
     "execution_count": 74,
     "metadata": {},
     "output_type": "execute_result"
    }
   ],
   "source": [
    "#Calculate the change of the customer churning:\n",
    "\n",
    "y1 = y(coef, 50, 100000, 600, 100000, 2)\n",
    "\n",
    "p = np.exp(y1) / (1+np.exp(y1))\n",
    "p"
   ]
  },
  {
   "cell_type": "markdown",
   "id": "0c4fbe04",
   "metadata": {},
   "source": [
    "This Customer has a 38% chance to churn. "
   ]
  },
  {
   "cell_type": "code",
   "execution_count": 75,
   "id": "bbf1de5f",
   "metadata": {},
   "outputs": [],
   "source": [
    "# implement scikit-learn's Logistic regression Model. \n",
    "from sklearn.linear_model import LogisticRegression\n"
   ]
  },
  {
   "cell_type": "code",
   "execution_count": 76,
   "id": "cb25baf3",
   "metadata": {},
   "outputs": [],
   "source": [
    "#Fit the model \n",
    "\n",
    "clf = LogisticRegression(random_state=0, solver = 'lbfgs').fit(X_trainM[top5_features], y_trainM)"
   ]
  },
  {
   "cell_type": "markdown",
   "id": "693b7dfe",
   "metadata": {},
   "source": [
    "The 'lbfgs' solver optimizes the algorithm and is recommende for smaller data sets. "
   ]
  },
  {
   "cell_type": "code",
   "execution_count": 80,
   "id": "7f40854e",
   "metadata": {},
   "outputs": [
    {
     "data": {
      "text/plain": [
       "array([[0.61565033, 0.38434967],\n",
       "       [0.76717157, 0.23282843],\n",
       "       [0.78137389, 0.21862611],\n",
       "       ...,\n",
       "       [0.552548  , 0.447452  ],\n",
       "       [0.85311964, 0.14688036],\n",
       "       [0.75851722, 0.24148278]])"
      ]
     },
     "execution_count": 80,
     "metadata": {},
     "output_type": "execute_result"
    }
   ],
   "source": [
    "#Call the Predict and Predict_proba functions\n",
    "\n",
    "clf.predict(X_testM[top5_features])\n",
    "clf.predict_proba(X_testM[top5_features])"
   ]
  },
  {
   "cell_type": "markdown",
   "id": "ac807e3d",
   "metadata": {},
   "source": [
    "The Left = 61% chance to not Churn.\n",
    "\n",
    "The Right = 38% chance to churn."
   ]
  },
  {
   "cell_type": "code",
   "execution_count": 81,
   "id": "4114764a",
   "metadata": {},
   "outputs": [
    {
     "data": {
      "text/plain": [
       "0.79"
      ]
     },
     "execution_count": 81,
     "metadata": {},
     "output_type": "execute_result"
    }
   ],
   "source": [
    "#Calculate the accuracy of the Model using the score function:\n",
    "\n",
    "clf.score(X_testM[top5_features], y_testM)"
   ]
  },
  {
   "cell_type": "markdown",
   "id": "c997683a",
   "metadata": {},
   "source": [
    "The Model has a 79% accuracy"
   ]
  },
  {
   "cell_type": "markdown",
   "id": "99ad1197",
   "metadata": {},
   "source": [
    "### End Exercise 7.08\n",
    "\n",
    "## Interpreting the Data:\n",
    "- The percentage of Customers that churned is 20.37% and percentage that did not churn is 79.63%.\n",
    "- Overall, the average credit score of the customer who churned is 645.35 and the average age of the customer who churned is 44.83.\n",
    "- The average balance and estimated salary of the customers who churned are 911,108.53 and 101,465.67. This is greater than those who did not churn.\n",
    "- The median number of products purchased by the customer who churned is 1. \n",
    "- Customer age and churn are 29% positively correlated. \n",
    "- Balance and Churn are 12% positively correlated. \n",
    "- The number of products purchased and the customers's balance are 30% negatively correlated. \n",
    "- The difference between churn anad non-churn customers in Germany and Spain is less than in France.\n",
    "- Comparatively, more female customers have churned. The amount of churn is greater for customers who have purchased 3-4 products.\n",
    "- Customers within the 35-45 age group seem to churn more. as the Age of the Customer increases, they usually churn more. \n",
    "- The amount of churn is less with customers with negative to low balance compared to customers having a balance of 75,000 - 150,000.\n",
    "- The most important features selected from the tree-based feature selection are Age, Estimated Salary, Credit Score, Balance, and NumOfProducts."
   ]
  },
  {
   "cell_type": "code",
   "execution_count": null,
   "id": "4701a184",
   "metadata": {},
   "outputs": [],
   "source": []
  }
 ],
 "metadata": {
  "kernelspec": {
   "display_name": "Python 3 (ipykernel)",
   "language": "python",
   "name": "python3"
  },
  "language_info": {
   "codemirror_mode": {
    "name": "ipython",
    "version": 3
   },
   "file_extension": ".py",
   "mimetype": "text/x-python",
   "name": "python",
   "nbconvert_exporter": "python",
   "pygments_lexer": "ipython3",
   "version": "3.9.7"
  }
 },
 "nbformat": 4,
 "nbformat_minor": 5
}
