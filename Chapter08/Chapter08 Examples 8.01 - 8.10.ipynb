{
 "cells": [
  {
   "cell_type": "markdown",
   "id": "3699efa8",
   "metadata": {},
   "source": [
    "# Chapter 8\n",
    "\n",
    "## Fine-Tuning Classification Algorithms\n",
    "\n",
    "### Overview\n",
    "This chapter will help you optimize predictive analytics using classification algorithms such as **Suport Vector Machines, Decision Trees, and Random Forests**, which are some of the most common classification algorithms from scikit-learn machine learning library. Moreover, you will learn how to implement **Tree-based Classification Models**, which you have used previously for regression. Next, you will learn how to choose appropriate performance metrics for evaluatinf the performance of a classification model, Finally, you will out all these skills to use in solving a customer churn prediction problem where you will optimize and evaluate the best classification algorithm for predicting whether a given customer will churn or not. \n",
    "\n",
    "### Introduction\n",
    "Your firm has taken a project from Amazon to predict whether or not a user will buy a product during festive season sale campaigns. You have been provided anonymized data about customer activity on the website - **the number of products purchcased, their prices, categories of the products, and more.** You'll be working on problems like these to understand how to choose the right classification algorithm by evaluating its perforrmance using various metrics. Picking the right performance metrics and optimizing, fine-tuning, and evaluating the model is an important part of building any supervised machine learning model. Moreoverm choosing an appropriate machine learning model is an art that requires experience, and each algorithm has its advantages and disadvantages. \n",
    "\n",
    "\n",
    "### Support Vector Machines\n",
    "When dealing with data that is linearly seperable, the goal is to find the boundry between classes so that there are fewer misclassification errors. Using a margin optimizes the decision boundry of the data point classification. \n",
    "\n",
    "**Advantages of SVM Algorithm:**\n",
    "- SVMs are effecgtive when dealing with high-dimensional data, where the number of dimensions is moer than the number of training samples. \n",
    "- SVMs are known for their use of the kernel function, making it a very versatile algorithm. \n",
    "- Kernel methods are mathematical functions used to convert data from lower-dimensional space to higher-dimensional space, or vise versa. \n",
    "\n",
    "**Disadvantages of SVM Algorithm:**\n",
    "- SVMs do not calculate probability directly, and instead use five-fold cross-validation to calculate probability, which can make the algorithm considerable slow. \n",
    "- With high-dimensional data, it is important to choose th ekernal function and regularization term, which can make the process very slow. \n",
    "\n",
    "**Importing SVM-based Classifier:**\n",
    "- from sklearn import svm\n",
    "- model = svm.SVC()  - You can also specify the kernel type \"Linear, sigmoid, rbf, so on\" \n",
    "\n",
    "# Exercise 8.01: Training an SVM Algorithm over a Dataset.\n",
    "\n",
    "\n"
   ]
  },
  {
   "cell_type": "code",
   "execution_count": 1,
   "id": "d86e23f4",
   "metadata": {},
   "outputs": [],
   "source": [
    "import pandas as pd\n",
    "\n",
    "from sklearn.model_selection import train_test_split\n",
    "from sklearn import svm\n",
    "from sklearn.model_selection import cross_val_score\n",
    "\n",
    "import numpy as np"
   ]
  },
  {
   "cell_type": "code",
   "execution_count": 2,
   "id": "15f65d7e",
   "metadata": {},
   "outputs": [
    {
     "data": {
      "text/html": [
       "<div>\n",
       "<style scoped>\n",
       "    .dataframe tbody tr th:only-of-type {\n",
       "        vertical-align: middle;\n",
       "    }\n",
       "\n",
       "    .dataframe tbody tr th {\n",
       "        vertical-align: top;\n",
       "    }\n",
       "\n",
       "    .dataframe thead th {\n",
       "        text-align: right;\n",
       "    }\n",
       "</style>\n",
       "<table border=\"1\" class=\"dataframe\">\n",
       "  <thead>\n",
       "    <tr style=\"text-align: right;\">\n",
       "      <th></th>\n",
       "      <th>Record_ID</th>\n",
       "      <th>Auction_ID</th>\n",
       "      <th>Bidder_ID</th>\n",
       "      <th>Bidder_Tendency</th>\n",
       "      <th>Bidding_Ratio</th>\n",
       "      <th>Successive_Outbidding</th>\n",
       "      <th>Last_Bidding</th>\n",
       "      <th>Auction_Bids</th>\n",
       "      <th>Starting_Price_Average</th>\n",
       "      <th>Early_Bidding</th>\n",
       "      <th>Winning_Ratio</th>\n",
       "      <th>Auction_Duration</th>\n",
       "      <th>Class</th>\n",
       "    </tr>\n",
       "  </thead>\n",
       "  <tbody>\n",
       "    <tr>\n",
       "      <th>0</th>\n",
       "      <td>1</td>\n",
       "      <td>732</td>\n",
       "      <td>_***i</td>\n",
       "      <td>0.200000</td>\n",
       "      <td>0.400000</td>\n",
       "      <td>0.0</td>\n",
       "      <td>0.000028</td>\n",
       "      <td>0.0</td>\n",
       "      <td>0.993593</td>\n",
       "      <td>0.000028</td>\n",
       "      <td>0.666667</td>\n",
       "      <td>5</td>\n",
       "      <td>0</td>\n",
       "    </tr>\n",
       "    <tr>\n",
       "      <th>1</th>\n",
       "      <td>2</td>\n",
       "      <td>732</td>\n",
       "      <td>g***r</td>\n",
       "      <td>0.024390</td>\n",
       "      <td>0.200000</td>\n",
       "      <td>0.0</td>\n",
       "      <td>0.013123</td>\n",
       "      <td>0.0</td>\n",
       "      <td>0.993593</td>\n",
       "      <td>0.013123</td>\n",
       "      <td>0.944444</td>\n",
       "      <td>5</td>\n",
       "      <td>0</td>\n",
       "    </tr>\n",
       "    <tr>\n",
       "      <th>2</th>\n",
       "      <td>3</td>\n",
       "      <td>732</td>\n",
       "      <td>t***p</td>\n",
       "      <td>0.142857</td>\n",
       "      <td>0.200000</td>\n",
       "      <td>0.0</td>\n",
       "      <td>0.003042</td>\n",
       "      <td>0.0</td>\n",
       "      <td>0.993593</td>\n",
       "      <td>0.003042</td>\n",
       "      <td>1.000000</td>\n",
       "      <td>5</td>\n",
       "      <td>0</td>\n",
       "    </tr>\n",
       "    <tr>\n",
       "      <th>3</th>\n",
       "      <td>4</td>\n",
       "      <td>732</td>\n",
       "      <td>7***n</td>\n",
       "      <td>0.100000</td>\n",
       "      <td>0.200000</td>\n",
       "      <td>0.0</td>\n",
       "      <td>0.097477</td>\n",
       "      <td>0.0</td>\n",
       "      <td>0.993593</td>\n",
       "      <td>0.097477</td>\n",
       "      <td>1.000000</td>\n",
       "      <td>5</td>\n",
       "      <td>0</td>\n",
       "    </tr>\n",
       "    <tr>\n",
       "      <th>4</th>\n",
       "      <td>5</td>\n",
       "      <td>900</td>\n",
       "      <td>z***z</td>\n",
       "      <td>0.051282</td>\n",
       "      <td>0.222222</td>\n",
       "      <td>0.0</td>\n",
       "      <td>0.001318</td>\n",
       "      <td>0.0</td>\n",
       "      <td>0.000000</td>\n",
       "      <td>0.001242</td>\n",
       "      <td>0.500000</td>\n",
       "      <td>7</td>\n",
       "      <td>0</td>\n",
       "    </tr>\n",
       "  </tbody>\n",
       "</table>\n",
       "</div>"
      ],
      "text/plain": [
       "   Record_ID  Auction_ID Bidder_ID  Bidder_Tendency  Bidding_Ratio  \\\n",
       "0          1         732     _***i         0.200000       0.400000   \n",
       "1          2         732     g***r         0.024390       0.200000   \n",
       "2          3         732     t***p         0.142857       0.200000   \n",
       "3          4         732     7***n         0.100000       0.200000   \n",
       "4          5         900     z***z         0.051282       0.222222   \n",
       "\n",
       "   Successive_Outbidding  Last_Bidding  Auction_Bids  Starting_Price_Average  \\\n",
       "0                    0.0      0.000028           0.0                0.993593   \n",
       "1                    0.0      0.013123           0.0                0.993593   \n",
       "2                    0.0      0.003042           0.0                0.993593   \n",
       "3                    0.0      0.097477           0.0                0.993593   \n",
       "4                    0.0      0.001318           0.0                0.000000   \n",
       "\n",
       "   Early_Bidding  Winning_Ratio  Auction_Duration  Class  \n",
       "0       0.000028       0.666667                 5      0  \n",
       "1       0.013123       0.944444                 5      0  \n",
       "2       0.003042       1.000000                 5      0  \n",
       "3       0.097477       1.000000                 5      0  \n",
       "4       0.001242       0.500000                 7      0  "
      ]
     },
     "execution_count": 2,
     "metadata": {},
     "output_type": "execute_result"
    }
   ],
   "source": [
    "data = pd.read_csv(\"Exercise8.01/Shill_Bidding_Dataset.csv\")\n",
    "\n",
    "data.head()"
   ]
  },
  {
   "cell_type": "code",
   "execution_count": 3,
   "id": "dbb8697d",
   "metadata": {},
   "outputs": [
    {
     "data": {
      "text/html": [
       "<div>\n",
       "<style scoped>\n",
       "    .dataframe tbody tr th:only-of-type {\n",
       "        vertical-align: middle;\n",
       "    }\n",
       "\n",
       "    .dataframe tbody tr th {\n",
       "        vertical-align: top;\n",
       "    }\n",
       "\n",
       "    .dataframe thead th {\n",
       "        text-align: right;\n",
       "    }\n",
       "</style>\n",
       "<table border=\"1\" class=\"dataframe\">\n",
       "  <thead>\n",
       "    <tr style=\"text-align: right;\">\n",
       "      <th></th>\n",
       "      <th>Bidder_Tendency</th>\n",
       "      <th>Bidding_Ratio</th>\n",
       "      <th>Successive_Outbidding</th>\n",
       "      <th>Last_Bidding</th>\n",
       "      <th>Auction_Bids</th>\n",
       "      <th>Starting_Price_Average</th>\n",
       "      <th>Early_Bidding</th>\n",
       "      <th>Winning_Ratio</th>\n",
       "      <th>Auction_Duration</th>\n",
       "      <th>Class</th>\n",
       "    </tr>\n",
       "  </thead>\n",
       "  <tbody>\n",
       "    <tr>\n",
       "      <th>0</th>\n",
       "      <td>0.200000</td>\n",
       "      <td>0.400000</td>\n",
       "      <td>0.0</td>\n",
       "      <td>0.000028</td>\n",
       "      <td>0.0</td>\n",
       "      <td>0.993593</td>\n",
       "      <td>0.000028</td>\n",
       "      <td>0.666667</td>\n",
       "      <td>5</td>\n",
       "      <td>0</td>\n",
       "    </tr>\n",
       "    <tr>\n",
       "      <th>1</th>\n",
       "      <td>0.024390</td>\n",
       "      <td>0.200000</td>\n",
       "      <td>0.0</td>\n",
       "      <td>0.013123</td>\n",
       "      <td>0.0</td>\n",
       "      <td>0.993593</td>\n",
       "      <td>0.013123</td>\n",
       "      <td>0.944444</td>\n",
       "      <td>5</td>\n",
       "      <td>0</td>\n",
       "    </tr>\n",
       "    <tr>\n",
       "      <th>2</th>\n",
       "      <td>0.142857</td>\n",
       "      <td>0.200000</td>\n",
       "      <td>0.0</td>\n",
       "      <td>0.003042</td>\n",
       "      <td>0.0</td>\n",
       "      <td>0.993593</td>\n",
       "      <td>0.003042</td>\n",
       "      <td>1.000000</td>\n",
       "      <td>5</td>\n",
       "      <td>0</td>\n",
       "    </tr>\n",
       "    <tr>\n",
       "      <th>3</th>\n",
       "      <td>0.100000</td>\n",
       "      <td>0.200000</td>\n",
       "      <td>0.0</td>\n",
       "      <td>0.097477</td>\n",
       "      <td>0.0</td>\n",
       "      <td>0.993593</td>\n",
       "      <td>0.097477</td>\n",
       "      <td>1.000000</td>\n",
       "      <td>5</td>\n",
       "      <td>0</td>\n",
       "    </tr>\n",
       "    <tr>\n",
       "      <th>4</th>\n",
       "      <td>0.051282</td>\n",
       "      <td>0.222222</td>\n",
       "      <td>0.0</td>\n",
       "      <td>0.001318</td>\n",
       "      <td>0.0</td>\n",
       "      <td>0.000000</td>\n",
       "      <td>0.001242</td>\n",
       "      <td>0.500000</td>\n",
       "      <td>7</td>\n",
       "      <td>0</td>\n",
       "    </tr>\n",
       "  </tbody>\n",
       "</table>\n",
       "</div>"
      ],
      "text/plain": [
       "   Bidder_Tendency  Bidding_Ratio  Successive_Outbidding  Last_Bidding  \\\n",
       "0         0.200000       0.400000                    0.0      0.000028   \n",
       "1         0.024390       0.200000                    0.0      0.013123   \n",
       "2         0.142857       0.200000                    0.0      0.003042   \n",
       "3         0.100000       0.200000                    0.0      0.097477   \n",
       "4         0.051282       0.222222                    0.0      0.001318   \n",
       "\n",
       "   Auction_Bids  Starting_Price_Average  Early_Bidding  Winning_Ratio  \\\n",
       "0           0.0                0.993593       0.000028       0.666667   \n",
       "1           0.0                0.993593       0.013123       0.944444   \n",
       "2           0.0                0.993593       0.003042       1.000000   \n",
       "3           0.0                0.993593       0.097477       1.000000   \n",
       "4           0.0                0.000000       0.001242       0.500000   \n",
       "\n",
       "   Auction_Duration  Class  \n",
       "0                 5      0  \n",
       "1                 5      0  \n",
       "2                 5      0  \n",
       "3                 5      0  \n",
       "4                 7      0  "
      ]
     },
     "execution_count": 3,
     "metadata": {},
     "output_type": "execute_result"
    }
   ],
   "source": [
    "#Remove the columns that are irrelevant to the case study. \n",
    "\n",
    "data.drop(['Record_ID', 'Auction_ID', 'Bidder_ID'], axis=1, inplace=True)\n",
    "\n",
    "data.head()"
   ]
  },
  {
   "cell_type": "code",
   "execution_count": 4,
   "id": "30d431c4",
   "metadata": {},
   "outputs": [
    {
     "data": {
      "text/plain": [
       "Bidder_Tendency           float64\n",
       "Bidding_Ratio             float64\n",
       "Successive_Outbidding     float64\n",
       "Last_Bidding              float64\n",
       "Auction_Bids              float64\n",
       "Starting_Price_Average    float64\n",
       "Early_Bidding             float64\n",
       "Winning_Ratio             float64\n",
       "Auction_Duration            int64\n",
       "Class                       int64\n",
       "dtype: object"
      ]
     },
     "execution_count": 4,
     "metadata": {},
     "output_type": "execute_result"
    }
   ],
   "source": [
    "#Check the data types\n",
    "\n",
    "data.dtypes"
   ]
  },
  {
   "cell_type": "code",
   "execution_count": 5,
   "id": "f204215b",
   "metadata": {},
   "outputs": [
    {
     "data": {
      "text/plain": [
       "Bidder_Tendency           0\n",
       "Bidding_Ratio             0\n",
       "Successive_Outbidding     0\n",
       "Last_Bidding              0\n",
       "Auction_Bids              0\n",
       "Starting_Price_Average    0\n",
       "Early_Bidding             0\n",
       "Winning_Ratio             0\n",
       "Auction_Duration          0\n",
       "Class                     0\n",
       "dtype: int64"
      ]
     },
     "execution_count": 5,
     "metadata": {},
     "output_type": "execute_result"
    }
   ],
   "source": [
    "#Check for any missing values\n",
    "\n",
    "data.isnull().sum()"
   ]
  },
  {
   "cell_type": "code",
   "execution_count": 6,
   "id": "c234b440",
   "metadata": {},
   "outputs": [],
   "source": [
    "#Split the data into train and test sets. \n",
    "\n",
    "target = 'Class'\n",
    "\n",
    "X = data.drop(target, axis=1)\n",
    "\n",
    "y = data[target]\n",
    "\n",
    "X_train, X_test, y_train, y_test = train_test_split(X.values, y, test_size = .5, random_state=123,\\\n",
    "                                                   stratify=y)"
   ]
  },
  {
   "cell_type": "code",
   "execution_count": 7,
   "id": "985dc838",
   "metadata": {},
   "outputs": [
    {
     "data": {
      "text/plain": [
       "SVC(C=1, kernel='linear')"
      ]
     },
     "execution_count": 7,
     "metadata": {},
     "output_type": "execute_result"
    }
   ],
   "source": [
    "#Fit the liner SVM model with C=1\n",
    "\n",
    "clf_svm = svm.SVC(kernel='linear', C=1)\n",
    "clf_svm.fit(X_train,y_train)"
   ]
  },
  {
   "cell_type": "code",
   "execution_count": 8,
   "id": "0ce691a0",
   "metadata": {},
   "outputs": [
    {
     "data": {
      "text/plain": [
       "0.9775387535590003"
      ]
     },
     "execution_count": 8,
     "metadata": {},
     "output_type": "execute_result"
    }
   ],
   "source": [
    "#Calculate the accuracy score ofo the model\n",
    "\n",
    "clf_svm.score(X_test, y_test)"
   ]
  },
  {
   "cell_type": "markdown",
   "id": "ed8d2966",
   "metadata": {},
   "source": [
    "The accuracy score implies that the model can predict 97.75% of the test data accurately. \n",
    "\n",
    "### End Exercise 8.01"
   ]
  },
  {
   "cell_type": "markdown",
   "id": "fb5ac68c",
   "metadata": {},
   "source": [
    "## Decision Trees\n",
    "\n",
    "**Advantages:**\n",
    "- Easy to understand and visualize\n",
    "- handle both numerical and categorical data\n",
    "- requirement for data cleaning is very low sinc ethey can handle missing data\n",
    "- They are non-parametric machine learning algorithms that make no assumptions reguarding space distribution and classifier structures.\n",
    "- It's a white box model, rather than a black-box model like neural networks, and can explain the logic of the split using boolean values. \n",
    "\n",
    "**Disadvantages:**\n",
    "- Tend to overfit data very easily, pruning is required to prevent overfitting the model.\n",
    "- They are not suitable for imbalanced data, where you may have a biased decision tree. \n",
    "\n",
    "**Implementing Decision Tree Classifier:** \n",
    "- from sklearn import tree\n",
    "- from sklearn.tree import export_graphviz\n",
    "- from IPthon.display import Image\n",
    "- from six import StringIO\n",
    "- clf_tree = tree.DecisionTreeClassifier()\n",
    "- clf_tree.predict(X)\n",
    "\n",
    "**Once decision tree is trained, plot the tree:**\n",
    "- dot_data = StringIO()\n",
    "- export_graphviz(clf_tree, out_file=dot_data,\n",
    "                filled=True, rounded= True, \n",
    "                class_names=['Positive','Negative'],\n",
    "                max_depth=3,\n",
    "                special_characters = True,\n",
    "                feature_names=X.columns.values)\n",
    "- graph = pydotplus.graph_from_dot_data(dot_data.getvalue())\n",
    "- Image(graph.create_png())\n",
    "\n"
   ]
  },
  {
   "cell_type": "markdown",
   "id": "95cda6ad",
   "metadata": {},
   "source": [
    "## Exercise 8.02: Implementing a Decision Tree Algorithm over a Dataset"
   ]
  },
  {
   "cell_type": "code",
   "execution_count": 9,
   "id": "7427d232",
   "metadata": {},
   "outputs": [],
   "source": [
    "\n",
    "from sklearn import tree\n",
    "\n"
   ]
  },
  {
   "cell_type": "code",
   "execution_count": 10,
   "id": "4bdf229d",
   "metadata": {},
   "outputs": [],
   "source": [
    "#fit the decision tree classifier:\n",
    "\n",
    "clf_tree = tree.DecisionTreeClassifier()\n",
    "clf_tree = clf_tree.fit(X_train, y_train)"
   ]
  },
  {
   "cell_type": "code",
   "execution_count": 11,
   "id": "cd10d175",
   "metadata": {},
   "outputs": [
    {
     "data": {
      "text/plain": [
       "0.9977855109142676"
      ]
     },
     "execution_count": 11,
     "metadata": {},
     "output_type": "execute_result"
    }
   ],
   "source": [
    "clf_tree.score(X_test,y_test)"
   ]
  },
  {
   "cell_type": "markdown",
   "id": "c8ffeef7",
   "metadata": {},
   "source": [
    "The classifier can predict 99.81% of the test data correctly\n",
    "\n",
    "### End Exercise 8.02"
   ]
  },
  {
   "cell_type": "markdown",
   "id": "7b28bad8",
   "metadata": {},
   "source": [
    "## Decision Tree Algorithm Formulation\n",
    "**Impurity:**\n",
    "1) Gini Impurity\n",
    "- Minimize the probabiity of misclassification\n",
    "\n",
    "2) Entropy\n",
    "- maximizes mutual information\n",
    "\n",
    "3) Misclassification error\n",
    "- Prune trees\n",
    "\n",
    "**Random Forest Ensable Methods:**\n",
    "1) Bagging\n",
    "- The data is randomly divided into several subsets and the model is trained over each subset. Several estimators are built independently from each other and then the predictions are averaged together, which ultimately helps reduce variance(overfitting). Random Forest belong to this category. \n",
    "\n",
    "2) Boosting\n",
    "- base estimators are built sequentially and each model is very weak. The objective is to build models in sequence, where the latter models try to reduce the error from the previous model and therby reduce bias (underfitting). Advanced machine learning algorithms like CatBoost and XGBoost belong in this category. \n",
    "\n",
    "**Advantages to RF:**\n",
    "- It does not suffer from overfitting, since you take the average of all the predictions\n",
    "- It can be used to get feature importance.\n",
    "- It can be used for both regression and classification tasks.\n",
    "- It can be used for highly imbalanced datasets.\n",
    "- It can handle missing data. \n",
    "\n",
    "**Disadvantages to RF:**\n",
    "- It suffers from bias, although it reduces variance.\n",
    "- It's mostly a black-box model and is difficult to explain.\n",
    "\n",
    "**Importing the Random Forest Classifier** \n",
    "- from sklearn.ensemble import RandomForestClassifier\n",
    "- clf = RandomForestClassifier(n_estimators=20, max_depth=None,min_samples_split=7, random_state=0)\n",
    "- clf.fit(X_train, y_train)\n",
    "- clf.predict(X)\n",
    "\n",
    "\n",
    "## Exercise 8.03: Implementing a Random Forest Model Over a Dataset"
   ]
  },
  {
   "cell_type": "code",
   "execution_count": 12,
   "id": "ff821855",
   "metadata": {},
   "outputs": [],
   "source": [
    "from sklearn.ensemble import RandomForestClassifier"
   ]
  },
  {
   "cell_type": "code",
   "execution_count": 13,
   "id": "ed3caff1",
   "metadata": {},
   "outputs": [
    {
     "data": {
      "text/plain": [
       "RandomForestClassifier(min_samples_split=7, n_estimators=20, random_state=0)"
      ]
     },
     "execution_count": 13,
     "metadata": {},
     "output_type": "execute_result"
    }
   ],
   "source": [
    "clf = RandomForestClassifier(n_estimators=20, max_depth=None,\n",
    "                            min_samples_split=7, random_state=0)\n",
    "clf.fit(X_train,y_train)"
   ]
  },
  {
   "cell_type": "code",
   "execution_count": 14,
   "id": "ca704ccc",
   "metadata": {},
   "outputs": [
    {
     "data": {
      "text/plain": [
       "0.9895602657386903"
      ]
     },
     "execution_count": 14,
     "metadata": {},
     "output_type": "execute_result"
    }
   ],
   "source": [
    "clf.score(X_test, y_test)"
   ]
  },
  {
   "cell_type": "markdown",
   "id": "b6200ebb",
   "metadata": {},
   "source": [
    "The Random Forest Classifier scores an accuracy of around 99%\n",
    "\n",
    "\n",
    "### Summary of the Accuracy Percentages:\n",
    "| **Classifier** | **Accuracy Percentage** |\n",
    "|------|------|\n",
    "| SVM | 97.75% |\n",
    "| Decision Tree | 99.81% |\n",
    "| Random Forest | 98.96% | \n",
    "\n",
    "\n",
    "### End Exercise 8.03\n"
   ]
  },
  {
   "cell_type": "markdown",
   "id": "aa72d21d",
   "metadata": {},
   "source": [
    "## Preprocessing Data for Machine Learning\n",
    "\n",
    "**Standardization**\n",
    "- Used to rescale features such that they have a mean of 0 and 1.\n",
    "- from sklearn import preprocessing\n",
    "- scaler = preprocessing.StandardScaler().fit(X_train)\n",
    "- X_train_scalar = scaler.transform(X_train)\n",
    "- X_test_train=scaler.transform(X_test)\n",
    "\n",
    "## Exercise 8.04: Standardizing Data"
   ]
  },
  {
   "cell_type": "code",
   "execution_count": 62,
   "id": "9e03764f",
   "metadata": {},
   "outputs": [],
   "source": [
    "from sklearn import preprocessing\n",
    "\n",
    "churn = pd.read_csv('Exercise8.04/Churn_Modelling.csv')"
   ]
  },
  {
   "cell_type": "code",
   "execution_count": 63,
   "id": "a8a50bda",
   "metadata": {},
   "outputs": [
    {
     "data": {
      "text/html": [
       "<div>\n",
       "<style scoped>\n",
       "    .dataframe tbody tr th:only-of-type {\n",
       "        vertical-align: middle;\n",
       "    }\n",
       "\n",
       "    .dataframe tbody tr th {\n",
       "        vertical-align: top;\n",
       "    }\n",
       "\n",
       "    .dataframe thead th {\n",
       "        text-align: right;\n",
       "    }\n",
       "</style>\n",
       "<table border=\"1\" class=\"dataframe\">\n",
       "  <thead>\n",
       "    <tr style=\"text-align: right;\">\n",
       "      <th></th>\n",
       "      <th>CustomerId</th>\n",
       "      <th>CredRate</th>\n",
       "      <th>Geography</th>\n",
       "      <th>Gender</th>\n",
       "      <th>Age</th>\n",
       "      <th>Tenure</th>\n",
       "      <th>Balance</th>\n",
       "      <th>Prod Number</th>\n",
       "      <th>HasCrCard</th>\n",
       "      <th>ActMem</th>\n",
       "      <th>EstimatedSalary</th>\n",
       "      <th>Exited</th>\n",
       "    </tr>\n",
       "  </thead>\n",
       "  <tbody>\n",
       "    <tr>\n",
       "      <th>0</th>\n",
       "      <td>15634602</td>\n",
       "      <td>619</td>\n",
       "      <td>France</td>\n",
       "      <td>Female</td>\n",
       "      <td>42.0</td>\n",
       "      <td>2</td>\n",
       "      <td>0.00</td>\n",
       "      <td>1</td>\n",
       "      <td>1</td>\n",
       "      <td>1</td>\n",
       "      <td>101348.88</td>\n",
       "      <td>1</td>\n",
       "    </tr>\n",
       "    <tr>\n",
       "      <th>1</th>\n",
       "      <td>15647311</td>\n",
       "      <td>608</td>\n",
       "      <td>Spain</td>\n",
       "      <td>Female</td>\n",
       "      <td>41.0</td>\n",
       "      <td>1</td>\n",
       "      <td>83807.86</td>\n",
       "      <td>1</td>\n",
       "      <td>0</td>\n",
       "      <td>1</td>\n",
       "      <td>112542.58</td>\n",
       "      <td>0</td>\n",
       "    </tr>\n",
       "    <tr>\n",
       "      <th>2</th>\n",
       "      <td>15619304</td>\n",
       "      <td>502</td>\n",
       "      <td>France</td>\n",
       "      <td>Female</td>\n",
       "      <td>42.0</td>\n",
       "      <td>8</td>\n",
       "      <td>159660.80</td>\n",
       "      <td>3</td>\n",
       "      <td>1</td>\n",
       "      <td>0</td>\n",
       "      <td>113931.57</td>\n",
       "      <td>1</td>\n",
       "    </tr>\n",
       "    <tr>\n",
       "      <th>3</th>\n",
       "      <td>15701354</td>\n",
       "      <td>699</td>\n",
       "      <td>France</td>\n",
       "      <td>Female</td>\n",
       "      <td>39.0</td>\n",
       "      <td>1</td>\n",
       "      <td>0.00</td>\n",
       "      <td>2</td>\n",
       "      <td>0</td>\n",
       "      <td>0</td>\n",
       "      <td>93826.63</td>\n",
       "      <td>0</td>\n",
       "    </tr>\n",
       "    <tr>\n",
       "      <th>4</th>\n",
       "      <td>15737888</td>\n",
       "      <td>850</td>\n",
       "      <td>Spain</td>\n",
       "      <td>Female</td>\n",
       "      <td>43.0</td>\n",
       "      <td>2</td>\n",
       "      <td>125510.82</td>\n",
       "      <td>1</td>\n",
       "      <td>1</td>\n",
       "      <td>1</td>\n",
       "      <td>79084.10</td>\n",
       "      <td>0</td>\n",
       "    </tr>\n",
       "  </tbody>\n",
       "</table>\n",
       "</div>"
      ],
      "text/plain": [
       "   CustomerId  CredRate Geography  Gender   Age  Tenure    Balance  \\\n",
       "0    15634602       619    France  Female  42.0       2       0.00   \n",
       "1    15647311       608     Spain  Female  41.0       1   83807.86   \n",
       "2    15619304       502    France  Female  42.0       8  159660.80   \n",
       "3    15701354       699    France  Female  39.0       1       0.00   \n",
       "4    15737888       850     Spain  Female  43.0       2  125510.82   \n",
       "\n",
       "   Prod Number  HasCrCard  ActMem  EstimatedSalary  Exited  \n",
       "0            1          1       1        101348.88       1  \n",
       "1            1          0       1        112542.58       0  \n",
       "2            3          1       0        113931.57       1  \n",
       "3            2          0       0         93826.63       0  \n",
       "4            1          1       1         79084.10       0  "
      ]
     },
     "execution_count": 63,
     "metadata": {},
     "output_type": "execute_result"
    }
   ],
   "source": [
    "churn.head()"
   ]
  },
  {
   "cell_type": "code",
   "execution_count": 71,
   "id": "e3c972e6",
   "metadata": {},
   "outputs": [],
   "source": [
    "top5_features = churn[['Age','EstimatedSalary','CredRate','Balance','Prod Number','Exited']]\n",
    "\n",
    "top5_features = top5_features[np.isfinite(top5_features).all(1)]"
   ]
  },
  {
   "cell_type": "code",
   "execution_count": 72,
   "id": "8a4ea8cf",
   "metadata": {},
   "outputs": [],
   "source": [
    "target = 'Exited'\n",
    "\n",
    "X = top5_features.drop(target, axis=1)\n",
    "\n",
    "y = top5_features[target]\n",
    "\n",
    "X_train1, X_test1, y_train1, y_test1 = train_test_split(X.values, y, test_size = .5, random_state=123,\\\n",
    "                                                   stratify=y)"
   ]
  },
  {
   "cell_type": "code",
   "execution_count": 66,
   "id": "8a1587d1",
   "metadata": {},
   "outputs": [],
   "source": [
    "scaler = preprocessing.StandardScaler().fit(X_train1)"
   ]
  },
  {
   "cell_type": "code",
   "execution_count": 67,
   "id": "e298a5bc",
   "metadata": {},
   "outputs": [
    {
     "data": {
      "text/plain": [
       "array([3.87619620e+01, 1.00347564e+05, 6.49537538e+02, 7.59184484e+04,\n",
       "       1.53313313e+00])"
      ]
     },
     "execution_count": 67,
     "metadata": {},
     "output_type": "execute_result"
    }
   ],
   "source": [
    "scaler.mean_"
   ]
  },
  {
   "cell_type": "code",
   "execution_count": 68,
   "id": "2dc0552d",
   "metadata": {},
   "outputs": [
    {
     "data": {
      "text/plain": [
       "array([1.03536270e+01, 5.74556742e+04, 9.63642299e+01, 6.24461281e+04,\n",
       "       5.74267426e-01])"
      ]
     },
     "execution_count": 68,
     "metadata": {},
     "output_type": "execute_result"
    }
   ],
   "source": [
    "scaler.scale_"
   ]
  },
  {
   "cell_type": "code",
   "execution_count": 69,
   "id": "5f59e34f",
   "metadata": {},
   "outputs": [],
   "source": [
    "X_train_scaler=scaler.transform(X_train1)"
   ]
  },
  {
   "cell_type": "code",
   "execution_count": 73,
   "id": "2614cc2f",
   "metadata": {},
   "outputs": [
    {
     "data": {
      "text/plain": [
       "array([[-0.36334726, -1.7321799 ,  2.08025802,  0.09234394, -0.92837084],\n",
       "       [-0.55651628, -0.76169473,  1.13592422, -1.21574308,  0.81297815],\n",
       "       [ 0.50591334, -1.22853444, -0.1716149 , -1.21574308,  0.81297815],\n",
       "       ...,\n",
       "       [-0.94285432, -0.78248102, -1.59330425, -1.21574308,  0.81297815],\n",
       "       [-0.45993177, -1.63903802,  0.28498606, -1.21574308,  0.81297815],\n",
       "       [ 0.02299079, -1.45463882,  1.76893919,  0.56718395, -0.92837084]])"
      ]
     },
     "execution_count": 73,
     "metadata": {},
     "output_type": "execute_result"
    }
   ],
   "source": [
    "X_test_scaler=scaler.transform(X_test1)\n",
    "\n",
    "X_train_scaler"
   ]
  },
  {
   "cell_type": "markdown",
   "id": "d85feadb",
   "metadata": {},
   "source": [
    "### End Exercise 8.04\n",
    "\n",
    "## Scaling\n",
    "Another method for processing data.\n",
    "- features to lie between certain minimum and maximum value, between 0 and 1. \n",
    "- Effective for machine learning algorithms that use Euclidean Distance, such as K-means clusering\n",
    "- from sklearn import preprocessing\n",
    "- scaler = preprocessing.MinMaxScaler().fit(X_train)\n",
    "- X_train_scaler = scaler.transform(X_train)\n",
    "- X_test_scaler = scaler.transform(X_test)\n",
    "\n",
    "## Exercise 8.05: Scaling Data After Feature Selection"
   ]
  },
  {
   "cell_type": "code",
   "execution_count": 74,
   "id": "51fad3df",
   "metadata": {},
   "outputs": [],
   "source": [
    "min_max = preprocessing.MinMaxScaler().fit(X_train1)\n"
   ]
  },
  {
   "cell_type": "code",
   "execution_count": 75,
   "id": "241a70ab",
   "metadata": {},
   "outputs": [
    {
     "data": {
      "text/plain": [
       "array([-2.43243243e-01, -5.79118256e-05, -7.00000000e-01,  0.00000000e+00,\n",
       "       -3.33333333e-01])"
      ]
     },
     "execution_count": 75,
     "metadata": {},
     "output_type": "execute_result"
    }
   ],
   "source": [
    "min_max.min_"
   ]
  },
  {
   "cell_type": "code",
   "execution_count": 76,
   "id": "0797cbba",
   "metadata": {},
   "outputs": [
    {
     "data": {
      "text/plain": [
       "array([1.35135135e-02, 5.00102121e-06, 2.00000000e-03, 3.98568200e-06,\n",
       "       3.33333333e-01])"
      ]
     },
     "execution_count": 76,
     "metadata": {},
     "output_type": "execute_result"
    }
   ],
   "source": [
    "min_max.scale_"
   ]
  },
  {
   "cell_type": "code",
   "execution_count": 77,
   "id": "9d14db45",
   "metadata": {},
   "outputs": [
    {
     "data": {
      "text/plain": [
       "array([[0.22972973, 0.00406293, 1.        , 0.32557031, 0.        ],\n",
       "       [0.2027027 , 0.28291927, 0.818     , 0.        , 0.33333333],\n",
       "       [0.35135135, 0.14877893, 0.566     , 0.        , 0.33333333],\n",
       "       ...,\n",
       "       [0.14864865, 0.2769466 , 0.292     , 0.        , 0.33333333],\n",
       "       [0.21621622, 0.03082604, 0.654     , 0.        , 0.33333333],\n",
       "       [0.28378378, 0.08381076, 0.94      , 0.44375344, 0.        ]])"
      ]
     },
     "execution_count": 77,
     "metadata": {},
     "output_type": "execute_result"
    }
   ],
   "source": [
    "X_train_min_max = min_max.transform(X_train1)\n",
    "X_test_min_max = min_max.transform(X_test1)\n",
    "\n",
    "\n",
    "X_train_min_max\n"
   ]
  },
  {
   "cell_type": "markdown",
   "id": "d6d1aa8b",
   "metadata": {},
   "source": [
    "### End Exercise 8.05\n",
    "\n",
    "## Normalization\n",
    "Individual training samples are scaled to have a unit norm. \n",
    "\n",
    "- Used for quadratic form such as dot product or any kernel to quantify sample similarity. \n",
    "- Most effective in clustering and text classification\n",
    "- L1 norm used to find the sum of magnitudes of vectors. \n",
    "- L2 norm finds the sum of squares of values and takes the square root to calculate the norm of the vector. \n",
    "- L2 is preferred because it is faster. \n",
    "\n",
    "- from sklearn import preprocessing\n",
    "- normalize = preprocessing.Normalize().fit(X_train)\n",
    "- X_train_normalize = normalize.transform(X_train)\n",
    "- X_test_normalize = normalize.tranform(X_test)\n",
    "\n",
    "## Exercise 8.06: Performing Normalization on Data"
   ]
  },
  {
   "cell_type": "code",
   "execution_count": 78,
   "id": "d617257c",
   "metadata": {},
   "outputs": [],
   "source": [
    "\n",
    "\n",
    "normalize = preprocessing.Normalizer().fit(X_train1)"
   ]
  },
  {
   "cell_type": "code",
   "execution_count": 79,
   "id": "4bb26f80",
   "metadata": {},
   "outputs": [
    {
     "data": {
      "text/plain": [
       "Normalizer()"
      ]
     },
     "execution_count": 79,
     "metadata": {},
     "output_type": "execute_result"
    }
   ],
   "source": [
    "normalize"
   ]
  },
  {
   "cell_type": "code",
   "execution_count": 80,
   "id": "40be58cc",
   "metadata": {},
   "outputs": [],
   "source": [
    "X_train_normalize = normalize.transform(X_train1)\n",
    "\n",
    "X_test_normalize = normalize.transform(X_test1)"
   ]
  },
  {
   "cell_type": "code",
   "execution_count": 81,
   "id": "920cb89b",
   "metadata": {},
   "outputs": [
    {
     "data": {
      "text/plain": [
       "array([1., 1., 1., ..., 1., 1., 1.])"
      ]
     },
     "execution_count": 81,
     "metadata": {},
     "output_type": "execute_result"
    }
   ],
   "source": [
    "np.sqrt(np.sum(X_train_normalize**2, axis=1))"
   ]
  },
  {
   "cell_type": "code",
   "execution_count": 82,
   "id": "3c80c4b7",
   "metadata": {},
   "outputs": [
    {
     "data": {
      "text/plain": [
       "array([1., 1., 1., ..., 1., 1., 1.])"
      ]
     },
     "execution_count": 82,
     "metadata": {},
     "output_type": "execute_result"
    }
   ],
   "source": [
    "np.sqrt(np.sum(X_test_normalize**2, axis=1))"
   ]
  },
  {
   "cell_type": "markdown",
   "id": "aefb7bf8",
   "metadata": {},
   "source": [
    "L2 Normalizer was initiated. \n",
    "\n",
    "### End Exercise 8.06"
   ]
  },
  {
   "cell_type": "markdown",
   "id": "c6cf9bff",
   "metadata": {},
   "source": [
    "## Model Evaluation \n",
    "\n",
    "- Overfitting is the models failure to generalize. \n",
    "- When evaluating the model, change the parameters to improve the accuracy as per the test data. \n",
    "- There may be a high chance of leaking some of the information from the testing set into the training set if you optimize the parameters using the testing set data. \n",
    "- to avoid this, split the data into 3 parts, training, testing, and validation sets. \n",
    "- **Disadvantage** this technique will further reduce your trainign dataset. \n",
    "- **Solution** Cross-Validation, the training data is split into k smaller sets.\n",
    "\n",
    "\n",
    "### K -Fold Cross Validation:\n",
    "1) The entire training data is divided into k folds. \n",
    "2) The model is trained on k-1 portions\n",
    "3) Once the model is trained, the classifier is evaluated on the remaining 1 portion. steps 2 -3 are repeated k times\n",
    "4) Once the classifier has carried out the evaluation, an overall score is taken. \n",
    "\n",
    "\n",
    "- import sklearn.model_selection import StratifiedKFold\n",
    "- skf = StratisfiedKFold(n_splits = 10, random_state=1)\n",
    "- skf.split(X,y)\n",
    "\n",
    "\n",
    "## Exercise 8.07: Stratified K-Fold"
   ]
  },
  {
   "cell_type": "code",
   "execution_count": 83,
   "id": "7dc5d8e8",
   "metadata": {},
   "outputs": [],
   "source": [
    "from sklearn.model_selection import StratifiedKFold"
   ]
  },
  {
   "cell_type": "code",
   "execution_count": 84,
   "id": "f5a2ded6",
   "metadata": {},
   "outputs": [],
   "source": [
    "skf = StratifiedKFold(n_splits = 10).split(X_train1,y_train1)"
   ]
  },
  {
   "cell_type": "code",
   "execution_count": 85,
   "id": "f9611a2d",
   "metadata": {},
   "outputs": [
    {
     "name": "stdout",
     "output_type": "stream",
     "text": [
      "k-fold:  0, Class Ratio: [2823  337], Accuracy: 0.9495\n",
      "k-fold:  1, Class Ratio: [2823  337], Accuracy: 0.9495\n",
      "k-fold:  2, Class Ratio: [2823  337], Accuracy: 0.9495\n",
      "k-fold:  3, Class Ratio: [2823  337], Accuracy: 0.9495\n",
      "k-fold:  4, Class Ratio: [2823  337], Accuracy: 0.9495\n",
      "k-fold:  5, Class Ratio: [2823  337], Accuracy: 0.9495\n",
      "k-fold:  6, Class Ratio: [2823  337], Accuracy: 0.9495\n",
      "k-fold:  7, Class Ratio: [2823  337], Accuracy: 0.9495\n",
      "k-fold:  8, Class Ratio: [2823  337], Accuracy: 0.9495\n",
      "k-fold:  9, Class Ratio: [2823  337], Accuracy: 0.9495\n"
     ]
    }
   ],
   "source": [
    "results = []\n",
    "\n",
    "for i, (train,test) in enumerate(skf):\n",
    "    clf.fit(X_train1, y_train1)\n",
    "    fit_result=clf.score(X_train1,y_train1)\n",
    "    results.append(fit_result)\n",
    "    print('k-fold: %2d, Class Ratio: %s, Accuracy: %.4f' %(i,np.bincount(y_train),fit_result))"
   ]
  },
  {
   "cell_type": "code",
   "execution_count": 86,
   "id": "b8ef8a54",
   "metadata": {},
   "outputs": [
    {
     "name": "stdout",
     "output_type": "stream",
     "text": [
      "accuracy for CV is: 0.950\n"
     ]
    }
   ],
   "source": [
    "print('accuracy for CV is: %.3f' % np.mean(results))"
   ]
  },
  {
   "cell_type": "code",
   "execution_count": 87,
   "id": "bd003d7c",
   "metadata": {},
   "outputs": [],
   "source": [
    "from sklearn.model_selection import cross_val_score"
   ]
  },
  {
   "cell_type": "code",
   "execution_count": 88,
   "id": "cf8ebcda",
   "metadata": {},
   "outputs": [
    {
     "name": "stdout",
     "output_type": "stream",
     "text": [
      "accuracy for CV is: 0.834\n"
     ]
    }
   ],
   "source": [
    "results_cross_val_score = cross_val_score(estimator = clf, X= X_train1, y=y_train1, cv=10,n_jobs=1)\n",
    "\n",
    "print('accuracy for CV is: %.3f' % np.mean(results_cross_val_score))"
   ]
  },
  {
   "cell_type": "markdown",
   "id": "9953fa78",
   "metadata": {},
   "source": [
    "The Stratified k-fold produced an accuracy of 95%. \n",
    "\n",
    "Cross Validation score accuracy is 83.4%\n",
    "\n",
    "### End 8.07"
   ]
  },
  {
   "cell_type": "markdown",
   "id": "c14c949f",
   "metadata": {},
   "source": [
    "## Fine Tuning of the Model\n",
    "In the case of a machine learning model, there are two types of parameter tuning that can be performed: \n",
    "1) Model learns from itself, such as coefficients in the case of linear regression or the margin in the case of SVM. \n",
    "2) Parameters must be optimized separately. **Hyperparamers**, the alpha value in the case of lasso lineaeer regression or the number of leaf nodes in the case of a decision tree. \n",
    "- There can be several hyperparemeters and tuning them manually may be difficult. \n",
    "- Optimizing the model performance by changing the hyperparameters help in getting the best results from the classifier you are working on and thus givese you better sample space of models to choose the best model from. \n",
    "\n",
    "There are two methods for perforfmingn hypermeter search operations:\n",
    "1) **Grid Search**: uses brute force exhaustive search to permute all combinationsn of hypperparameters, which are provided to it as a list of valules. \n",
    "2) **Randomized Grid Search**: faster alternative, parameters are randomly chosen from a distribution that the user provides. \n",
    "\n",
    "- from sklearn.model_selection import GridSearchCV, RandomizedSearchCV\n",
    "\n",
    "- Specify the hyperparameters you want to run the search on:\n",
    "- parameters = [ {'kernel':['linear'], 'C':[01,1,10]},\\\n",
    "                {'kernel': ['rbf'], 'gamma':[0.5,1,2], \\\n",
    "                'C':[0.1,1,10]}]\n",
    "                \n",
    "- clf = GridSearchCV(svm.SVC(), parameters)\n",
    "- clf_random = RandomSearchCV(svm.SVC90, parameters)\n",
    "\n",
    "- clf.fit(X_train, y_train)\n",
    "- clf_random.fit(X_train,y_train)\n",
    "\n",
    "- print(clf.best_score_, clf_random.best_score_)\n",
    "- print(clf.beset_params_, clf_random.best_params_)\n",
    "\n",
    "## Exercise 8.08: Fine-Tuning a Model"
   ]
  },
  {
   "cell_type": "code",
   "execution_count": 89,
   "id": "d38ce447",
   "metadata": {},
   "outputs": [],
   "source": [
    "from sklearn import svm\n",
    "from sklearn.model_selection import GridSearchCV , StratifiedKFold"
   ]
  },
  {
   "cell_type": "code",
   "execution_count": 90,
   "id": "2c7a08e1",
   "metadata": {},
   "outputs": [],
   "source": [
    "parameters = [ {'kernel': ['linear'], 'C':[0.1,1]},\n",
    "             {'kernel': ['rbf'], 'C':[0.1,1]}]"
   ]
  },
  {
   "cell_type": "code",
   "execution_count": 91,
   "id": "09162d54",
   "metadata": {},
   "outputs": [
    {
     "name": "stdout",
     "output_type": "stream",
     "text": [
      "Fitting 3 folds for each of 4 candidates, totalling 12 fits\n",
      "[CV 1/3] END .................C=0.1, kernel=rbf;, score=0.796 total time=   0.8s\n",
      "[CV 3/3] END .................C=0.1, kernel=rbf;, score=0.796 total time=   0.8s\n",
      "[CV 2/3] END ...................C=1, kernel=rbf;, score=0.796 total time=   1.1s\n",
      "[CV 2/3] END .................C=0.1, kernel=rbf;, score=0.796 total time=   0.8s\n",
      "[CV 1/3] END ...................C=1, kernel=rbf;, score=0.796 total time=   1.0s\n",
      "[CV 3/3] END ...................C=1, kernel=rbf;, score=0.796 total time=   0.9s\n",
      "[CV 2/3] END ..............C=0.1, kernel=linear;, score=0.772 total time= 4.3min\n",
      "[CV 2/3] END ................C=1, kernel=linear;, score=0.771 total time= 5.7min\n",
      "[CV 3/3] END ................C=1, kernel=linear;, score=0.787 total time= 7.7min\n",
      "[CV 1/3] END ................C=1, kernel=linear;, score=0.781 total time= 8.2min\n"
     ]
    },
    {
     "data": {
      "text/plain": [
       "GridSearchCV(cv=StratifiedKFold(n_splits=3, random_state=None, shuffle=False),\n",
       "             estimator=SVC(), n_jobs=-1,\n",
       "             param_grid=[{'C': [0.1, 1], 'kernel': ['linear']},\n",
       "                         {'C': [0.1, 1], 'kernel': ['rbf']}],\n",
       "             verbose=4)"
      ]
     },
     "execution_count": 91,
     "metadata": {},
     "output_type": "execute_result"
    }
   ],
   "source": [
    "clf1 = GridSearchCV(svm.SVC(), parameters,\n",
    "                    cv = StratifiedKFold(n_splits = 3),\n",
    "                    verbose = 4, n_jobs=-1)\n",
    "clf1.fit(X_train1, y_train1)"
   ]
  },
  {
   "cell_type": "code",
   "execution_count": 93,
   "id": "450abaea",
   "metadata": {},
   "outputs": [
    {
     "name": "stdout",
     "output_type": "stream",
     "text": [
      "best score train: 0.795995995995996\n",
      "best parameters train: {'C': 0.1, 'kernel': 'rbf'}\n",
      "[CV 3/3] END ..............C=0.1, kernel=linear;, score=0.783 total time=13.2min\n",
      "[CV 1/3] END ..............C=0.1, kernel=linear;, score=0.783 total time=15.6min\n"
     ]
    }
   ],
   "source": [
    "print('best score train:', clf1.best_score_)\n",
    "print('best parameters train:', clf1.best_params_)"
   ]
  },
  {
   "cell_type": "markdown",
   "id": "38e15dc6",
   "metadata": {},
   "source": [
    "The best parameters chosen by the grid search were C:0.1, Gamma: 0.5, and kernel:rbf\n",
    "\n",
    "### End Exercise 8.08"
   ]
  },
  {
   "cell_type": "markdown",
   "id": "2e4b229c",
   "metadata": {},
   "source": [
    "## Performance Metrics\n",
    "\n",
    "Classification Algorithms use a confusion matrix.\n",
    "- True Positive (TP)\n",
    "- True Negative (TN)\n",
    "- False Positive (FP)\n",
    "- False Negative (FN)\n",
    "\n",
    "**Precision**\n",
    "The ability of a classifier to not label a sample that is negative as positive. \n",
    "- Precision = t_p / t_p + f_p\n",
    "This is useful for email spam detection. \n",
    "\n",
    "**Recall** \n",
    "The ability of the classifier to correctly identify all the positive samples. \n",
    "- Recall = t_p / t_p + t_n\n",
    "Useful to detect customer churn. \n",
    "\n",
    "**F1 Score**:\n",
    "This is the harmonic mean of precision and recall.\n",
    "- F1 = precision * recall / precision + recall\n",
    "Useful for an optimal blend of precision and recall.\n",
    "\n",
    "Classification_report utility function shows a tabular representation of precision, recall, accuracy, F1 score to help summarize performance of the classifier. \n",
    "\n",
    "- from sklearn.metrics import classification_report\n",
    "- print(classification_report(y_test, y_pred, target_names = target_names)\n",
    "\n",
    "## Excersice 8.09 Evaluating the Performance Metrics for a Model"
   ]
  },
  {
   "cell_type": "code",
   "execution_count": 101,
   "id": "4abbfeaf",
   "metadata": {},
   "outputs": [],
   "source": [
    "from sklearn.ensemble import RandomForestClassifier\n",
    "from sklearn.metrics import classification_report, confusion_matrix, accuracy_score\n",
    "from sklearn import metrics\n",
    "import seaborn as sns\n",
    "from matplotlib import pyplot as plt"
   ]
  },
  {
   "cell_type": "code",
   "execution_count": 102,
   "id": "aa9ee39d",
   "metadata": {},
   "outputs": [
    {
     "data": {
      "text/plain": [
       "RandomForestClassifier(min_samples_split=7, n_estimators=20, random_state=0)"
      ]
     },
     "execution_count": 102,
     "metadata": {},
     "output_type": "execute_result"
    }
   ],
   "source": [
    "clf_random = RandomForestClassifier(n_estimators=20,\n",
    "                                   max_depth=None,\n",
    "                                   min_samples_split=7,\n",
    "                                   random_state=0)\n",
    "clf_random.fit(X_train1, y_train1)"
   ]
  },
  {
   "cell_type": "code",
   "execution_count": 103,
   "id": "271419c7",
   "metadata": {},
   "outputs": [],
   "source": [
    "y_pred = clf_random.predict(X_test1)"
   ]
  },
  {
   "cell_type": "code",
   "execution_count": 104,
   "id": "042afd38",
   "metadata": {},
   "outputs": [
    {
     "name": "stdout",
     "output_type": "stream",
     "text": [
      "              precision    recall  f1-score   support\n",
      "\n",
      "    No Churn       0.87      0.93      0.90      3977\n",
      "       Churn       0.62      0.43      0.51      1018\n",
      "\n",
      "    accuracy                           0.83      4995\n",
      "   macro avg       0.74      0.68      0.70      4995\n",
      "weighted avg       0.81      0.83      0.82      4995\n",
      "\n"
     ]
    }
   ],
   "source": [
    "target_names = ['No Churn', 'Churn']\n",
    "print(classification_report(y_test1, y_pred, target_names=target_names))"
   ]
  },
  {
   "cell_type": "code",
   "execution_count": 105,
   "id": "21140a8b",
   "metadata": {},
   "outputs": [],
   "source": [
    "#fit a confusion matrix into a dataframe\n",
    "\n",
    "cm = confusion_matrix(y_test1, y_pred)\n",
    "cm_df = pd.DataFrame(cm, index = ['No Churn', 'Churn'],\n",
    "                    columns = ['No Churn', 'Churn'])"
   ]
  },
  {
   "cell_type": "code",
   "execution_count": 107,
   "id": "6e5fda15",
   "metadata": {},
   "outputs": [
    {
     "data": {
      "image/png": "[encoded data removed]",
      "text/plain": [
       "<Figure size 576x432 with 2 Axes>"
      ]
     },
     "metadata": {
      "needs_background": "light"
     },
     "output_type": "display_data"
    }
   ],
   "source": [
    "#plot the confusion matrix\n",
    "\n",
    "plt.figure(figsize=(8,6))\n",
    "sns.heatmap(cm_df, annot=True, fmt='g',cmap='Greys_r')\n",
    "plt.title(\"Random Forest \\nAccuracy:{0:.3f}\".format(accuracy_score(y_test1, y_pred)))\n",
    "plt.ylabel('True Values')\n",
    "plt.xlabel('Predicted Values')\n",
    "plt.show()"
   ]
  },
  {
   "cell_type": "markdown",
   "id": "09ebfab6",
   "metadata": {},
   "source": [
    "The overall F1 score is .83. The F1 score of the customers who have churned is less than 50%. This is due to highly imbalanced data, as a result the model has failed to generalize. \n",
    "\n",
    "### End Exercise 8.09"
   ]
  },
  {
   "cell_type": "markdown",
   "id": "e319003e",
   "metadata": {},
   "source": [
    "## ROC Curve\n",
    "**The Receiver Operating Characteristic Curve** is a graphical method used to inspect the performance of binary classification models by shifting the decision threshold classifier. It is plotted on the **TPR** (Recall) and the **False Positivity Rate** (FPR). \n",
    "\n",
    "**Negative Recall**\n",
    "- the ability of the classifier to correctly find all the negative samples.\n",
    "\n",
    "## Exercise 8.10: Plotting the ROC Curve"
   ]
  },
  {
   "cell_type": "code",
   "execution_count": 108,
   "id": "f7ede150",
   "metadata": {},
   "outputs": [],
   "source": [
    "from sklearn.metrics import roc_curve, auc"
   ]
  },
  {
   "cell_type": "code",
   "execution_count": 109,
   "id": "4052f0bb",
   "metadata": {},
   "outputs": [],
   "source": [
    "fpr, tpr, thresholds = roc_curve(y_test1, y_pred, pos_label=1)\n",
    "roc_auc = metrics.auc(fpr,tpr)"
   ]
  },
  {
   "cell_type": "code",
   "execution_count": 114,
   "id": "b765d48e",
   "metadata": {},
   "outputs": [
    {
     "data": {
      "image/png": "[encoded data removed]",
      "text/plain": [
       "<Figure size 432x288 with 1 Axes>"
      ]
     },
     "metadata": {
      "needs_background": "light"
     },
     "output_type": "display_data"
    }
   ],
   "source": [
    "plt.figure()\n",
    "plt.title('ROC')\n",
    "plt.plot(fpr,tpr,label='%s AUC = %0.2f' % ('Random Forest', roc_auc))\n",
    "plt.plot([0,1], [0,1], 'k--')\n",
    "plt.xlim([0.0 , 1.0])\n",
    "plt.ylim([0.0 , 1.05])\n",
    "plt.ylabel('Sensitivity(True Positive Rate)')\n",
    "plt.xlabel('1-Specificity(False Positive Rate)')\n",
    "plt.title('ROC')\n",
    "plt.legend(loc='lower right')\n",
    "plt.show()"
   ]
  },
  {
   "cell_type": "markdown",
   "id": "5e87b3d8",
   "metadata": {},
   "source": [
    "The model has an area under the curve of 0.68. Even though the F1 score of the model was calculated at 0.83, from the calssification report, the AUC (Area under curve) score is much less. The FPR is closer to 0. the TPR is closer to .4. \n",
    "\n",
    "### End Exercise 8.10"
   ]
  },
  {
   "cell_type": "code",
   "execution_count": null,
   "id": "fcf94aa9",
   "metadata": {},
   "outputs": [],
   "source": []
  }
 ],
 "metadata": {
  "kernelspec": {
   "display_name": "Python 3 (ipykernel)",
   "language": "python",
   "name": "python3"
  },
  "language_info": {
   "codemirror_mode": {
    "name": "ipython",
    "version": 3
   },
   "file_extension": ".py",
   "mimetype": "text/x-python",
   "name": "python",
   "nbconvert_exporter": "python",
   "pygments_lexer": "ipython3",
   "version": "3.9.7"
  }
 },
 "nbformat": 4,
 "nbformat_minor": 5
}
